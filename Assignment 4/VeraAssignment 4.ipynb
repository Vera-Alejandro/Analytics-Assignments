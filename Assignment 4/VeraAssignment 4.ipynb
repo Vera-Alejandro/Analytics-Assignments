{
 "cells": [
  {
   "cell_type": "markdown",
   "metadata": {},
   "source": [
    "# VeraAssignment04 - Pandas Data Analysis\n",
    "## NBA Dataset\n",
    "Describe the purpose/abstract of your analysis on this dataset and what insight you gained."
   ]
  },
  {
   "cell_type": "markdown",
   "metadata": {},
   "source": [
    "# Import and Read the Dataset"
   ]
  },
  {
   "cell_type": "code",
   "execution_count": 1,
   "metadata": {
    "tags": []
   },
   "outputs": [
    {
     "output_type": "stream",
     "name": "stdout",
     "text": "Download ready.\n"
    }
   ],
   "source": [
    "import requests\n",
    "import pandas as pd\n",
    "import numpy as np\n",
    "\n",
    "download_url = \"https://raw.githubusercontent.com/fivethirtyeight/data/master/nba-elo/nbaallelo.csv\"\n",
    "target_csv_path = \"nba_all_elo.csv\"\n",
    "\n",
    "response = requests.get(download_url)\n",
    "response.raise_for_status()    # Check that the request was successful\n",
    "with open(target_csv_path, \"wb\") as f:\n",
    "    f.write(response.content)\n",
    "print(\"Download ready.\")"
   ]
  },
  {
   "cell_type": "code",
   "execution_count": 2,
   "metadata": {},
   "outputs": [
    {
     "output_type": "execute_result",
     "data": {
      "text/plain": "pandas.core.frame.DataFrame"
     },
     "metadata": {},
     "execution_count": 2
    }
   ],
   "source": [
    "data = pd.read_csv(\"nba_all_elo.csv\")\n",
    "pd.set_option(\"display.max.columns\", None)\n",
    "type(data)"
   ]
  },
  {
   "cell_type": "markdown",
   "metadata": {},
   "source": [
    "# Data Exploration\n",
    "### Print the head and shape of the data."
   ]
  },
  {
   "cell_type": "code",
   "execution_count": 3,
   "metadata": {
    "tags": []
   },
   "outputs": [
    {
     "output_type": "execute_result",
     "data": {
      "text/plain": "   gameorder       game_id lg_id  _iscopy  year_id  date_game  seasongame  \\\n0          1  194611010TRH   NBA        0     1947  11/1/1946           1   \n1          1  194611010TRH   NBA        1     1947  11/1/1946           1   \n2          2  194611020CHS   NBA        0     1947  11/2/1946           1   \n3          2  194611020CHS   NBA        1     1947  11/2/1946           2   \n4          3  194611020DTF   NBA        0     1947  11/2/1946           1   \n\n   is_playoffs team_id  fran_id  pts      elo_i      elo_n  win_equiv opp_id  \\\n0            0     TRH  Huskies   66  1300.0000  1293.2767  40.294830    NYK   \n1            0     NYK   Knicks   68  1300.0000  1306.7233  41.705170    TRH   \n2            0     CHS    Stags   63  1300.0000  1309.6521  42.012257    NYK   \n3            0     NYK   Knicks   47  1306.7233  1297.0712  40.692783    CHS   \n4            0     DTF  Falcons   33  1300.0000  1279.6189  38.864048    WSC   \n\n   opp_fran  opp_pts  opp_elo_i  opp_elo_n game_location game_result  \\\n0    Knicks       68  1300.0000  1306.7233             H           L   \n1   Huskies       66  1300.0000  1293.2767             A           W   \n2    Knicks       47  1306.7233  1297.0712             H           W   \n3     Stags       63  1300.0000  1309.6521             A           L   \n4  Capitols       50  1300.0000  1320.3811             H           L   \n\n   forecast notes  \n0  0.640065   NaN  \n1  0.359935   NaN  \n2  0.631101   NaN  \n3  0.368899   NaN  \n4  0.640065   NaN  ",
      "text/html": "<div>\n<style scoped>\n    .dataframe tbody tr th:only-of-type {\n        vertical-align: middle;\n    }\n\n    .dataframe tbody tr th {\n        vertical-align: top;\n    }\n\n    .dataframe thead th {\n        text-align: right;\n    }\n</style>\n<table border=\"1\" class=\"dataframe\">\n  <thead>\n    <tr style=\"text-align: right;\">\n      <th></th>\n      <th>gameorder</th>\n      <th>game_id</th>\n      <th>lg_id</th>\n      <th>_iscopy</th>\n      <th>year_id</th>\n      <th>date_game</th>\n      <th>seasongame</th>\n      <th>is_playoffs</th>\n      <th>team_id</th>\n      <th>fran_id</th>\n      <th>pts</th>\n      <th>elo_i</th>\n      <th>elo_n</th>\n      <th>win_equiv</th>\n      <th>opp_id</th>\n      <th>opp_fran</th>\n      <th>opp_pts</th>\n      <th>opp_elo_i</th>\n      <th>opp_elo_n</th>\n      <th>game_location</th>\n      <th>game_result</th>\n      <th>forecast</th>\n      <th>notes</th>\n    </tr>\n  </thead>\n  <tbody>\n    <tr>\n      <th>0</th>\n      <td>1</td>\n      <td>194611010TRH</td>\n      <td>NBA</td>\n      <td>0</td>\n      <td>1947</td>\n      <td>11/1/1946</td>\n      <td>1</td>\n      <td>0</td>\n      <td>TRH</td>\n      <td>Huskies</td>\n      <td>66</td>\n      <td>1300.0000</td>\n      <td>1293.2767</td>\n      <td>40.294830</td>\n      <td>NYK</td>\n      <td>Knicks</td>\n      <td>68</td>\n      <td>1300.0000</td>\n      <td>1306.7233</td>\n      <td>H</td>\n      <td>L</td>\n      <td>0.640065</td>\n      <td>NaN</td>\n    </tr>\n    <tr>\n      <th>1</th>\n      <td>1</td>\n      <td>194611010TRH</td>\n      <td>NBA</td>\n      <td>1</td>\n      <td>1947</td>\n      <td>11/1/1946</td>\n      <td>1</td>\n      <td>0</td>\n      <td>NYK</td>\n      <td>Knicks</td>\n      <td>68</td>\n      <td>1300.0000</td>\n      <td>1306.7233</td>\n      <td>41.705170</td>\n      <td>TRH</td>\n      <td>Huskies</td>\n      <td>66</td>\n      <td>1300.0000</td>\n      <td>1293.2767</td>\n      <td>A</td>\n      <td>W</td>\n      <td>0.359935</td>\n      <td>NaN</td>\n    </tr>\n    <tr>\n      <th>2</th>\n      <td>2</td>\n      <td>194611020CHS</td>\n      <td>NBA</td>\n      <td>0</td>\n      <td>1947</td>\n      <td>11/2/1946</td>\n      <td>1</td>\n      <td>0</td>\n      <td>CHS</td>\n      <td>Stags</td>\n      <td>63</td>\n      <td>1300.0000</td>\n      <td>1309.6521</td>\n      <td>42.012257</td>\n      <td>NYK</td>\n      <td>Knicks</td>\n      <td>47</td>\n      <td>1306.7233</td>\n      <td>1297.0712</td>\n      <td>H</td>\n      <td>W</td>\n      <td>0.631101</td>\n      <td>NaN</td>\n    </tr>\n    <tr>\n      <th>3</th>\n      <td>2</td>\n      <td>194611020CHS</td>\n      <td>NBA</td>\n      <td>1</td>\n      <td>1947</td>\n      <td>11/2/1946</td>\n      <td>2</td>\n      <td>0</td>\n      <td>NYK</td>\n      <td>Knicks</td>\n      <td>47</td>\n      <td>1306.7233</td>\n      <td>1297.0712</td>\n      <td>40.692783</td>\n      <td>CHS</td>\n      <td>Stags</td>\n      <td>63</td>\n      <td>1300.0000</td>\n      <td>1309.6521</td>\n      <td>A</td>\n      <td>L</td>\n      <td>0.368899</td>\n      <td>NaN</td>\n    </tr>\n    <tr>\n      <th>4</th>\n      <td>3</td>\n      <td>194611020DTF</td>\n      <td>NBA</td>\n      <td>0</td>\n      <td>1947</td>\n      <td>11/2/1946</td>\n      <td>1</td>\n      <td>0</td>\n      <td>DTF</td>\n      <td>Falcons</td>\n      <td>33</td>\n      <td>1300.0000</td>\n      <td>1279.6189</td>\n      <td>38.864048</td>\n      <td>WSC</td>\n      <td>Capitols</td>\n      <td>50</td>\n      <td>1300.0000</td>\n      <td>1320.3811</td>\n      <td>H</td>\n      <td>L</td>\n      <td>0.640065</td>\n      <td>NaN</td>\n    </tr>\n  </tbody>\n</table>\n</div>"
     },
     "metadata": {},
     "execution_count": 3
    }
   ],
   "source": [
    "data.head()"
   ]
  },
  {
   "cell_type": "code",
   "execution_count": 4,
   "metadata": {
    "tags": []
   },
   "outputs": [
    {
     "output_type": "execute_result",
     "data": {
      "text/plain": "(126314, 23)"
     },
     "metadata": {},
     "execution_count": 4
    }
   ],
   "source": [
    "data.shape"
   ]
  },
  {
   "cell_type": "markdown",
   "metadata": {},
   "source": [
    "### Set the index of the dataset to game id and print the head to confirm. Reprint the shape and the first ten rows of the dataset."
   ]
  },
  {
   "cell_type": "code",
   "execution_count": 5,
   "metadata": {
    "tags": []
   },
   "outputs": [
    {
     "output_type": "execute_result",
     "data": {
      "text/plain": "(126314, 22)"
     },
     "metadata": {},
     "execution_count": 5
    }
   ],
   "source": [
    "data = data.set_index('game_id')\n",
    "data.shape"
   ]
  },
  {
   "cell_type": "code",
   "execution_count": 6,
   "metadata": {},
   "outputs": [
    {
     "output_type": "execute_result",
     "data": {
      "text/plain": "              gameorder lg_id  _iscopy  year_id  date_game  seasongame  \\\ngame_id                                                                  \n194611010TRH          1   NBA        0     1947  11/1/1946           1   \n194611010TRH          1   NBA        1     1947  11/1/1946           1   \n194611020CHS          2   NBA        0     1947  11/2/1946           1   \n194611020CHS          2   NBA        1     1947  11/2/1946           2   \n194611020DTF          3   NBA        0     1947  11/2/1946           1   \n194611020DTF          3   NBA        1     1947  11/2/1946           1   \n194611020PRO          4   NBA        1     1947  11/2/1946           1   \n194611020PRO          4   NBA        0     1947  11/2/1946           1   \n194611020STB          5   NBA        1     1947  11/2/1946           1   \n194611020STB          5   NBA        0     1947  11/2/1946           1   \n\n              is_playoffs team_id       fran_id  pts      elo_i      elo_n  \\\ngame_id                                                                      \n194611010TRH            0     TRH       Huskies   66  1300.0000  1293.2767   \n194611010TRH            0     NYK        Knicks   68  1300.0000  1306.7233   \n194611020CHS            0     CHS         Stags   63  1300.0000  1309.6521   \n194611020CHS            0     NYK        Knicks   47  1306.7233  1297.0712   \n194611020DTF            0     DTF       Falcons   33  1300.0000  1279.6189   \n194611020DTF            0     WSC      Capitols   50  1300.0000  1320.3811   \n194611020PRO            0     BOS       Celtics   53  1300.0000  1294.8458   \n194611020PRO            0     PRO  Steamrollers   59  1300.0000  1305.1542   \n194611020STB            0     PIT       Ironmen   51  1300.0000  1295.3092   \n194611020STB            0     STB       Bombers   56  1300.0000  1304.6908   \n\n              win_equiv opp_id      opp_fran  opp_pts  opp_elo_i  opp_elo_n  \\\ngame_id                                                                       \n194611010TRH  40.294830    NYK        Knicks       68  1300.0000  1306.7233   \n194611010TRH  41.705170    TRH       Huskies       66  1300.0000  1293.2767   \n194611020CHS  42.012257    NYK        Knicks       47  1306.7233  1297.0712   \n194611020CHS  40.692783    CHS         Stags       63  1300.0000  1309.6521   \n194611020DTF  38.864048    WSC      Capitols       50  1300.0000  1320.3811   \n194611020DTF  43.135952    DTF       Falcons       33  1300.0000  1279.6189   \n194611020PRO  40.459381    PRO  Steamrollers       59  1300.0000  1305.1542   \n194611020PRO  41.540619    BOS       Celtics       53  1300.0000  1294.8458   \n194611020STB  40.507980    STB       Bombers       56  1300.0000  1304.6908   \n194611020STB  41.492020    PIT       Ironmen       51  1300.0000  1295.3092   \n\n             game_location game_result  forecast notes  \ngame_id                                                 \n194611010TRH             H           L  0.640065   NaN  \n194611010TRH             A           W  0.359935   NaN  \n194611020CHS             H           W  0.631101   NaN  \n194611020CHS             A           L  0.368899   NaN  \n194611020DTF             H           L  0.640065   NaN  \n194611020DTF             A           W  0.359935   NaN  \n194611020PRO             A           L  0.359935   NaN  \n194611020PRO             H           W  0.640065   NaN  \n194611020STB             A           L  0.359935   NaN  \n194611020STB             H           W  0.640065   NaN  ",
      "text/html": "<div>\n<style scoped>\n    .dataframe tbody tr th:only-of-type {\n        vertical-align: middle;\n    }\n\n    .dataframe tbody tr th {\n        vertical-align: top;\n    }\n\n    .dataframe thead th {\n        text-align: right;\n    }\n</style>\n<table border=\"1\" class=\"dataframe\">\n  <thead>\n    <tr style=\"text-align: right;\">\n      <th></th>\n      <th>gameorder</th>\n      <th>lg_id</th>\n      <th>_iscopy</th>\n      <th>year_id</th>\n      <th>date_game</th>\n      <th>seasongame</th>\n      <th>is_playoffs</th>\n      <th>team_id</th>\n      <th>fran_id</th>\n      <th>pts</th>\n      <th>elo_i</th>\n      <th>elo_n</th>\n      <th>win_equiv</th>\n      <th>opp_id</th>\n      <th>opp_fran</th>\n      <th>opp_pts</th>\n      <th>opp_elo_i</th>\n      <th>opp_elo_n</th>\n      <th>game_location</th>\n      <th>game_result</th>\n      <th>forecast</th>\n      <th>notes</th>\n    </tr>\n    <tr>\n      <th>game_id</th>\n      <th></th>\n      <th></th>\n      <th></th>\n      <th></th>\n      <th></th>\n      <th></th>\n      <th></th>\n      <th></th>\n      <th></th>\n      <th></th>\n      <th></th>\n      <th></th>\n      <th></th>\n      <th></th>\n      <th></th>\n      <th></th>\n      <th></th>\n      <th></th>\n      <th></th>\n      <th></th>\n      <th></th>\n      <th></th>\n    </tr>\n  </thead>\n  <tbody>\n    <tr>\n      <th>194611010TRH</th>\n      <td>1</td>\n      <td>NBA</td>\n      <td>0</td>\n      <td>1947</td>\n      <td>11/1/1946</td>\n      <td>1</td>\n      <td>0</td>\n      <td>TRH</td>\n      <td>Huskies</td>\n      <td>66</td>\n      <td>1300.0000</td>\n      <td>1293.2767</td>\n      <td>40.294830</td>\n      <td>NYK</td>\n      <td>Knicks</td>\n      <td>68</td>\n      <td>1300.0000</td>\n      <td>1306.7233</td>\n      <td>H</td>\n      <td>L</td>\n      <td>0.640065</td>\n      <td>NaN</td>\n    </tr>\n    <tr>\n      <th>194611010TRH</th>\n      <td>1</td>\n      <td>NBA</td>\n      <td>1</td>\n      <td>1947</td>\n      <td>11/1/1946</td>\n      <td>1</td>\n      <td>0</td>\n      <td>NYK</td>\n      <td>Knicks</td>\n      <td>68</td>\n      <td>1300.0000</td>\n      <td>1306.7233</td>\n      <td>41.705170</td>\n      <td>TRH</td>\n      <td>Huskies</td>\n      <td>66</td>\n      <td>1300.0000</td>\n      <td>1293.2767</td>\n      <td>A</td>\n      <td>W</td>\n      <td>0.359935</td>\n      <td>NaN</td>\n    </tr>\n    <tr>\n      <th>194611020CHS</th>\n      <td>2</td>\n      <td>NBA</td>\n      <td>0</td>\n      <td>1947</td>\n      <td>11/2/1946</td>\n      <td>1</td>\n      <td>0</td>\n      <td>CHS</td>\n      <td>Stags</td>\n      <td>63</td>\n      <td>1300.0000</td>\n      <td>1309.6521</td>\n      <td>42.012257</td>\n      <td>NYK</td>\n      <td>Knicks</td>\n      <td>47</td>\n      <td>1306.7233</td>\n      <td>1297.0712</td>\n      <td>H</td>\n      <td>W</td>\n      <td>0.631101</td>\n      <td>NaN</td>\n    </tr>\n    <tr>\n      <th>194611020CHS</th>\n      <td>2</td>\n      <td>NBA</td>\n      <td>1</td>\n      <td>1947</td>\n      <td>11/2/1946</td>\n      <td>2</td>\n      <td>0</td>\n      <td>NYK</td>\n      <td>Knicks</td>\n      <td>47</td>\n      <td>1306.7233</td>\n      <td>1297.0712</td>\n      <td>40.692783</td>\n      <td>CHS</td>\n      <td>Stags</td>\n      <td>63</td>\n      <td>1300.0000</td>\n      <td>1309.6521</td>\n      <td>A</td>\n      <td>L</td>\n      <td>0.368899</td>\n      <td>NaN</td>\n    </tr>\n    <tr>\n      <th>194611020DTF</th>\n      <td>3</td>\n      <td>NBA</td>\n      <td>0</td>\n      <td>1947</td>\n      <td>11/2/1946</td>\n      <td>1</td>\n      <td>0</td>\n      <td>DTF</td>\n      <td>Falcons</td>\n      <td>33</td>\n      <td>1300.0000</td>\n      <td>1279.6189</td>\n      <td>38.864048</td>\n      <td>WSC</td>\n      <td>Capitols</td>\n      <td>50</td>\n      <td>1300.0000</td>\n      <td>1320.3811</td>\n      <td>H</td>\n      <td>L</td>\n      <td>0.640065</td>\n      <td>NaN</td>\n    </tr>\n    <tr>\n      <th>194611020DTF</th>\n      <td>3</td>\n      <td>NBA</td>\n      <td>1</td>\n      <td>1947</td>\n      <td>11/2/1946</td>\n      <td>1</td>\n      <td>0</td>\n      <td>WSC</td>\n      <td>Capitols</td>\n      <td>50</td>\n      <td>1300.0000</td>\n      <td>1320.3811</td>\n      <td>43.135952</td>\n      <td>DTF</td>\n      <td>Falcons</td>\n      <td>33</td>\n      <td>1300.0000</td>\n      <td>1279.6189</td>\n      <td>A</td>\n      <td>W</td>\n      <td>0.359935</td>\n      <td>NaN</td>\n    </tr>\n    <tr>\n      <th>194611020PRO</th>\n      <td>4</td>\n      <td>NBA</td>\n      <td>1</td>\n      <td>1947</td>\n      <td>11/2/1946</td>\n      <td>1</td>\n      <td>0</td>\n      <td>BOS</td>\n      <td>Celtics</td>\n      <td>53</td>\n      <td>1300.0000</td>\n      <td>1294.8458</td>\n      <td>40.459381</td>\n      <td>PRO</td>\n      <td>Steamrollers</td>\n      <td>59</td>\n      <td>1300.0000</td>\n      <td>1305.1542</td>\n      <td>A</td>\n      <td>L</td>\n      <td>0.359935</td>\n      <td>NaN</td>\n    </tr>\n    <tr>\n      <th>194611020PRO</th>\n      <td>4</td>\n      <td>NBA</td>\n      <td>0</td>\n      <td>1947</td>\n      <td>11/2/1946</td>\n      <td>1</td>\n      <td>0</td>\n      <td>PRO</td>\n      <td>Steamrollers</td>\n      <td>59</td>\n      <td>1300.0000</td>\n      <td>1305.1542</td>\n      <td>41.540619</td>\n      <td>BOS</td>\n      <td>Celtics</td>\n      <td>53</td>\n      <td>1300.0000</td>\n      <td>1294.8458</td>\n      <td>H</td>\n      <td>W</td>\n      <td>0.640065</td>\n      <td>NaN</td>\n    </tr>\n    <tr>\n      <th>194611020STB</th>\n      <td>5</td>\n      <td>NBA</td>\n      <td>1</td>\n      <td>1947</td>\n      <td>11/2/1946</td>\n      <td>1</td>\n      <td>0</td>\n      <td>PIT</td>\n      <td>Ironmen</td>\n      <td>51</td>\n      <td>1300.0000</td>\n      <td>1295.3092</td>\n      <td>40.507980</td>\n      <td>STB</td>\n      <td>Bombers</td>\n      <td>56</td>\n      <td>1300.0000</td>\n      <td>1304.6908</td>\n      <td>A</td>\n      <td>L</td>\n      <td>0.359935</td>\n      <td>NaN</td>\n    </tr>\n    <tr>\n      <th>194611020STB</th>\n      <td>5</td>\n      <td>NBA</td>\n      <td>0</td>\n      <td>1947</td>\n      <td>11/2/1946</td>\n      <td>1</td>\n      <td>0</td>\n      <td>STB</td>\n      <td>Bombers</td>\n      <td>56</td>\n      <td>1300.0000</td>\n      <td>1304.6908</td>\n      <td>41.492020</td>\n      <td>PIT</td>\n      <td>Ironmen</td>\n      <td>51</td>\n      <td>1300.0000</td>\n      <td>1295.3092</td>\n      <td>H</td>\n      <td>W</td>\n      <td>0.640065</td>\n      <td>NaN</td>\n    </tr>\n  </tbody>\n</table>\n</div>"
     },
     "metadata": {},
     "execution_count": 6
    }
   ],
   "source": [
    "data.head(10)"
   ]
  },
  {
   "cell_type": "markdown",
   "metadata": {},
   "source": [
    "### Print the tail of the dataset to verify our import filled all the way to the end of the file."
   ]
  },
  {
   "cell_type": "code",
   "execution_count": 7,
   "metadata": {},
   "outputs": [
    {
     "output_type": "execute_result",
     "data": {
      "text/plain": "              gameorder lg_id  _iscopy  year_id  date_game  seasongame  \\\ngame_id                                                                  \n201506110CLE      63155   NBA        0     2015  6/11/2015         100   \n201506140GSW      63156   NBA        0     2015  6/14/2015         102   \n201506140GSW      63156   NBA        1     2015  6/14/2015         101   \n201506170CLE      63157   NBA        0     2015  6/16/2015         102   \n201506170CLE      63157   NBA        1     2015  6/16/2015         103   \n\n              is_playoffs team_id    fran_id  pts      elo_i      elo_n  \\\ngame_id                                                                   \n201506110CLE            1     CLE  Cavaliers   82  1723.4149  1704.3949   \n201506140GSW            1     GSW   Warriors  104  1809.9791  1813.6349   \n201506140GSW            1     CLE  Cavaliers   91  1704.3949  1700.7391   \n201506170CLE            1     CLE  Cavaliers   97  1700.7391  1692.0859   \n201506170CLE            1     GSW   Warriors  105  1813.6349  1822.2881   \n\n              win_equiv opp_id   opp_fran  opp_pts  opp_elo_i  opp_elo_n  \\\ngame_id                                                                    \n201506110CLE  60.309792    GSW   Warriors      103  1790.9591  1809.9791   \n201506140GSW  68.013329    CLE  Cavaliers       91  1704.3949  1700.7391   \n201506140GSW  60.010067    GSW   Warriors      104  1809.9791  1813.6349   \n201506170CLE  59.290245    GSW   Warriors      105  1813.6349  1822.2881   \n201506170CLE  68.519516    CLE  Cavaliers       97  1700.7391  1692.0859   \n\n             game_location game_result  forecast notes  \ngame_id                                                 \n201506110CLE             H           L  0.546572   NaN  \n201506140GSW             H           W  0.765565   NaN  \n201506140GSW             A           L  0.234435   NaN  \n201506170CLE             H           L  0.481450   NaN  \n201506170CLE             A           W  0.518550   NaN  ",
      "text/html": "<div>\n<style scoped>\n    .dataframe tbody tr th:only-of-type {\n        vertical-align: middle;\n    }\n\n    .dataframe tbody tr th {\n        vertical-align: top;\n    }\n\n    .dataframe thead th {\n        text-align: right;\n    }\n</style>\n<table border=\"1\" class=\"dataframe\">\n  <thead>\n    <tr style=\"text-align: right;\">\n      <th></th>\n      <th>gameorder</th>\n      <th>lg_id</th>\n      <th>_iscopy</th>\n      <th>year_id</th>\n      <th>date_game</th>\n      <th>seasongame</th>\n      <th>is_playoffs</th>\n      <th>team_id</th>\n      <th>fran_id</th>\n      <th>pts</th>\n      <th>elo_i</th>\n      <th>elo_n</th>\n      <th>win_equiv</th>\n      <th>opp_id</th>\n      <th>opp_fran</th>\n      <th>opp_pts</th>\n      <th>opp_elo_i</th>\n      <th>opp_elo_n</th>\n      <th>game_location</th>\n      <th>game_result</th>\n      <th>forecast</th>\n      <th>notes</th>\n    </tr>\n    <tr>\n      <th>game_id</th>\n      <th></th>\n      <th></th>\n      <th></th>\n      <th></th>\n      <th></th>\n      <th></th>\n      <th></th>\n      <th></th>\n      <th></th>\n      <th></th>\n      <th></th>\n      <th></th>\n      <th></th>\n      <th></th>\n      <th></th>\n      <th></th>\n      <th></th>\n      <th></th>\n      <th></th>\n      <th></th>\n      <th></th>\n      <th></th>\n    </tr>\n  </thead>\n  <tbody>\n    <tr>\n      <th>201506110CLE</th>\n      <td>63155</td>\n      <td>NBA</td>\n      <td>0</td>\n      <td>2015</td>\n      <td>6/11/2015</td>\n      <td>100</td>\n      <td>1</td>\n      <td>CLE</td>\n      <td>Cavaliers</td>\n      <td>82</td>\n      <td>1723.4149</td>\n      <td>1704.3949</td>\n      <td>60.309792</td>\n      <td>GSW</td>\n      <td>Warriors</td>\n      <td>103</td>\n      <td>1790.9591</td>\n      <td>1809.9791</td>\n      <td>H</td>\n      <td>L</td>\n      <td>0.546572</td>\n      <td>NaN</td>\n    </tr>\n    <tr>\n      <th>201506140GSW</th>\n      <td>63156</td>\n      <td>NBA</td>\n      <td>0</td>\n      <td>2015</td>\n      <td>6/14/2015</td>\n      <td>102</td>\n      <td>1</td>\n      <td>GSW</td>\n      <td>Warriors</td>\n      <td>104</td>\n      <td>1809.9791</td>\n      <td>1813.6349</td>\n      <td>68.013329</td>\n      <td>CLE</td>\n      <td>Cavaliers</td>\n      <td>91</td>\n      <td>1704.3949</td>\n      <td>1700.7391</td>\n      <td>H</td>\n      <td>W</td>\n      <td>0.765565</td>\n      <td>NaN</td>\n    </tr>\n    <tr>\n      <th>201506140GSW</th>\n      <td>63156</td>\n      <td>NBA</td>\n      <td>1</td>\n      <td>2015</td>\n      <td>6/14/2015</td>\n      <td>101</td>\n      <td>1</td>\n      <td>CLE</td>\n      <td>Cavaliers</td>\n      <td>91</td>\n      <td>1704.3949</td>\n      <td>1700.7391</td>\n      <td>60.010067</td>\n      <td>GSW</td>\n      <td>Warriors</td>\n      <td>104</td>\n      <td>1809.9791</td>\n      <td>1813.6349</td>\n      <td>A</td>\n      <td>L</td>\n      <td>0.234435</td>\n      <td>NaN</td>\n    </tr>\n    <tr>\n      <th>201506170CLE</th>\n      <td>63157</td>\n      <td>NBA</td>\n      <td>0</td>\n      <td>2015</td>\n      <td>6/16/2015</td>\n      <td>102</td>\n      <td>1</td>\n      <td>CLE</td>\n      <td>Cavaliers</td>\n      <td>97</td>\n      <td>1700.7391</td>\n      <td>1692.0859</td>\n      <td>59.290245</td>\n      <td>GSW</td>\n      <td>Warriors</td>\n      <td>105</td>\n      <td>1813.6349</td>\n      <td>1822.2881</td>\n      <td>H</td>\n      <td>L</td>\n      <td>0.481450</td>\n      <td>NaN</td>\n    </tr>\n    <tr>\n      <th>201506170CLE</th>\n      <td>63157</td>\n      <td>NBA</td>\n      <td>1</td>\n      <td>2015</td>\n      <td>6/16/2015</td>\n      <td>103</td>\n      <td>1</td>\n      <td>GSW</td>\n      <td>Warriors</td>\n      <td>105</td>\n      <td>1813.6349</td>\n      <td>1822.2881</td>\n      <td>68.519516</td>\n      <td>CLE</td>\n      <td>Cavaliers</td>\n      <td>97</td>\n      <td>1700.7391</td>\n      <td>1692.0859</td>\n      <td>A</td>\n      <td>W</td>\n      <td>0.518550</td>\n      <td>NaN</td>\n    </tr>\n  </tbody>\n</table>\n</div>"
     },
     "metadata": {},
     "execution_count": 7
    }
   ],
   "source": [
    "data.tail()"
   ]
  },
  {
   "cell_type": "markdown",
   "metadata": {},
   "source": [
    "### Print the info of the dataset. This should show datatypes and features of the dataset."
   ]
  },
  {
   "cell_type": "code",
   "execution_count": 8,
   "metadata": {
    "tags": []
   },
   "outputs": [
    {
     "output_type": "stream",
     "name": "stdout",
     "text": "<class 'pandas.core.frame.DataFrame'>\nIndex: 126314 entries, 194611010TRH to 201506170CLE\nData columns (total 22 columns):\n #   Column         Non-Null Count   Dtype  \n---  ------         --------------   -----  \n 0   gameorder      126314 non-null  int64  \n 1   lg_id          126314 non-null  object \n 2   _iscopy        126314 non-null  int64  \n 3   year_id        126314 non-null  int64  \n 4   date_game      126314 non-null  object \n 5   seasongame     126314 non-null  int64  \n 6   is_playoffs    126314 non-null  int64  \n 7   team_id        126314 non-null  object \n 8   fran_id        126314 non-null  object \n 9   pts            126314 non-null  int64  \n 10  elo_i          126314 non-null  float64\n 11  elo_n          126314 non-null  float64\n 12  win_equiv      126314 non-null  float64\n 13  opp_id         126314 non-null  object \n 14  opp_fran       126314 non-null  object \n 15  opp_pts        126314 non-null  int64  \n 16  opp_elo_i      126314 non-null  float64\n 17  opp_elo_n      126314 non-null  float64\n 18  game_location  126314 non-null  object \n 19  game_result    126314 non-null  object \n 20  forecast       126314 non-null  float64\n 21  notes          5424 non-null    object \ndtypes: float64(6), int64(7), object(9)\nmemory usage: 22.2+ MB\n"
    }
   ],
   "source": [
    "data.info()"
   ]
  },
  {
   "cell_type": "markdown",
   "metadata": {},
   "source": [
    "### Write a command to print the descriptive statistics of the dataset."
   ]
  },
  {
   "cell_type": "code",
   "execution_count": 9,
   "metadata": {},
   "outputs": [
    {
     "output_type": "execute_result",
     "data": {
      "text/plain": "           gameorder        _iscopy        year_id     seasongame  \\\ncount  126314.000000  126314.000000  126314.000000  126314.000000   \nmean    31579.000000       0.500000    1988.200374      43.533733   \nstd     18231.927643       0.500002      17.582309      25.375178   \nmin         1.000000       0.000000    1947.000000       1.000000   \n25%     15790.000000       0.000000    1975.000000      22.000000   \n50%     31579.000000       0.500000    1990.000000      43.000000   \n75%     47368.000000       1.000000    2003.000000      65.000000   \nmax     63157.000000       1.000000    2015.000000     108.000000   \n\n         is_playoffs            pts          elo_i          elo_n  \\\ncount  126314.000000  126314.000000  126314.000000  126314.000000   \nmean        0.063857     102.729982    1495.236055    1495.236055   \nstd         0.244499      14.814845     112.139945     112.461687   \nmin         0.000000       0.000000    1091.644500    1085.774400   \n25%         0.000000      93.000000    1417.237975    1416.994900   \n50%         0.000000     103.000000    1500.945550    1500.954400   \n75%         0.000000     112.000000    1576.060000    1576.291625   \nmax         1.000000     186.000000    1853.104500    1853.104500   \n\n           win_equiv        opp_pts      opp_elo_i      opp_elo_n  \\\ncount  126314.000000  126314.000000  126314.000000  126314.000000   \nmean       41.707889     102.729982    1495.236055    1495.236055   \nstd        10.627332      14.814845     112.139945     112.461687   \nmin        10.152501       0.000000    1091.644500    1085.774400   \n25%        34.103035      93.000000    1417.237975    1416.994900   \n50%        42.113357     103.000000    1500.945550    1500.954400   \n75%        49.635328     112.000000    1576.060000    1576.291625   \nmax        71.112038     186.000000    1853.104500    1853.104500   \n\n            forecast  \ncount  126314.000000  \nmean        0.500000  \nstd         0.215252  \nmin         0.020447  \n25%         0.327989  \n50%         0.500000  \n75%         0.672011  \nmax         0.979553  ",
      "text/html": "<div>\n<style scoped>\n    .dataframe tbody tr th:only-of-type {\n        vertical-align: middle;\n    }\n\n    .dataframe tbody tr th {\n        vertical-align: top;\n    }\n\n    .dataframe thead th {\n        text-align: right;\n    }\n</style>\n<table border=\"1\" class=\"dataframe\">\n  <thead>\n    <tr style=\"text-align: right;\">\n      <th></th>\n      <th>gameorder</th>\n      <th>_iscopy</th>\n      <th>year_id</th>\n      <th>seasongame</th>\n      <th>is_playoffs</th>\n      <th>pts</th>\n      <th>elo_i</th>\n      <th>elo_n</th>\n      <th>win_equiv</th>\n      <th>opp_pts</th>\n      <th>opp_elo_i</th>\n      <th>opp_elo_n</th>\n      <th>forecast</th>\n    </tr>\n  </thead>\n  <tbody>\n    <tr>\n      <th>count</th>\n      <td>126314.000000</td>\n      <td>126314.000000</td>\n      <td>126314.000000</td>\n      <td>126314.000000</td>\n      <td>126314.000000</td>\n      <td>126314.000000</td>\n      <td>126314.000000</td>\n      <td>126314.000000</td>\n      <td>126314.000000</td>\n      <td>126314.000000</td>\n      <td>126314.000000</td>\n      <td>126314.000000</td>\n      <td>126314.000000</td>\n    </tr>\n    <tr>\n      <th>mean</th>\n      <td>31579.000000</td>\n      <td>0.500000</td>\n      <td>1988.200374</td>\n      <td>43.533733</td>\n      <td>0.063857</td>\n      <td>102.729982</td>\n      <td>1495.236055</td>\n      <td>1495.236055</td>\n      <td>41.707889</td>\n      <td>102.729982</td>\n      <td>1495.236055</td>\n      <td>1495.236055</td>\n      <td>0.500000</td>\n    </tr>\n    <tr>\n      <th>std</th>\n      <td>18231.927643</td>\n      <td>0.500002</td>\n      <td>17.582309</td>\n      <td>25.375178</td>\n      <td>0.244499</td>\n      <td>14.814845</td>\n      <td>112.139945</td>\n      <td>112.461687</td>\n      <td>10.627332</td>\n      <td>14.814845</td>\n      <td>112.139945</td>\n      <td>112.461687</td>\n      <td>0.215252</td>\n    </tr>\n    <tr>\n      <th>min</th>\n      <td>1.000000</td>\n      <td>0.000000</td>\n      <td>1947.000000</td>\n      <td>1.000000</td>\n      <td>0.000000</td>\n      <td>0.000000</td>\n      <td>1091.644500</td>\n      <td>1085.774400</td>\n      <td>10.152501</td>\n      <td>0.000000</td>\n      <td>1091.644500</td>\n      <td>1085.774400</td>\n      <td>0.020447</td>\n    </tr>\n    <tr>\n      <th>25%</th>\n      <td>15790.000000</td>\n      <td>0.000000</td>\n      <td>1975.000000</td>\n      <td>22.000000</td>\n      <td>0.000000</td>\n      <td>93.000000</td>\n      <td>1417.237975</td>\n      <td>1416.994900</td>\n      <td>34.103035</td>\n      <td>93.000000</td>\n      <td>1417.237975</td>\n      <td>1416.994900</td>\n      <td>0.327989</td>\n    </tr>\n    <tr>\n      <th>50%</th>\n      <td>31579.000000</td>\n      <td>0.500000</td>\n      <td>1990.000000</td>\n      <td>43.000000</td>\n      <td>0.000000</td>\n      <td>103.000000</td>\n      <td>1500.945550</td>\n      <td>1500.954400</td>\n      <td>42.113357</td>\n      <td>103.000000</td>\n      <td>1500.945550</td>\n      <td>1500.954400</td>\n      <td>0.500000</td>\n    </tr>\n    <tr>\n      <th>75%</th>\n      <td>47368.000000</td>\n      <td>1.000000</td>\n      <td>2003.000000</td>\n      <td>65.000000</td>\n      <td>0.000000</td>\n      <td>112.000000</td>\n      <td>1576.060000</td>\n      <td>1576.291625</td>\n      <td>49.635328</td>\n      <td>112.000000</td>\n      <td>1576.060000</td>\n      <td>1576.291625</td>\n      <td>0.672011</td>\n    </tr>\n    <tr>\n      <th>max</th>\n      <td>63157.000000</td>\n      <td>1.000000</td>\n      <td>2015.000000</td>\n      <td>108.000000</td>\n      <td>1.000000</td>\n      <td>186.000000</td>\n      <td>1853.104500</td>\n      <td>1853.104500</td>\n      <td>71.112038</td>\n      <td>186.000000</td>\n      <td>1853.104500</td>\n      <td>1853.104500</td>\n      <td>0.979553</td>\n    </tr>\n  </tbody>\n</table>\n</div>"
     },
     "metadata": {},
     "execution_count": 9
    }
   ],
   "source": [
    "data.describe()"
   ]
  },
  {
   "cell_type": "markdown",
   "metadata": {},
   "source": [
    "### Print and count the opposing franchises values in the dataset."
   ]
  },
  {
   "cell_type": "code",
   "execution_count": 79,
   "metadata": {
    "tags": []
   },
   "outputs": [
    {
     "output_type": "stream",
     "name": "stdout",
     "text": "['Knicks' 'Huskies' 'Stags' 'Capitols' 'Falcons' 'Steamrollers' 'Celtics'\n 'Bombers' 'Ironmen' 'Rebels' 'Warriors' 'Baltimore' 'Jets' 'Pistons'\n 'Lakers' 'Kings' 'Denver' 'Hawks' 'Olympians' 'Redskins' 'Waterloo'\n 'Packers' 'Sixers' 'Wizards' 'Bulls' 'Thunder' 'Stars' 'Squires'\n 'Rockets' 'Pacers' 'Colonels' 'Nuggets' 'Spurs' 'Spirits' 'Sounds'\n 'Floridians' 'Condors' 'Nets' 'Bucks' 'Suns' 'Cavaliers' 'Clippers'\n 'Trailblazers' 'Sails' 'Jazz' 'Mavericks' 'Pelicans' 'Heat'\n 'Timberwolves' 'Magic' 'Grizzlies' 'Raptors' 'Hornets']\n\nLakers          6024\nCeltics         5997\nKnicks          5769\nWarriors        5657\nPistons         5650\nSixers          5644\nHawks           5572\nKings           5475\nWizards         4582\nSpurs           4309\nBulls           4307\nPacers          4227\nThunder         4178\nRockets         4154\nNuggets         4120\nNets            4106\nSuns            4080\nBucks           4034\nTrailblazers    3870\nCavaliers       3810\nClippers        3733\nJazz            3555\nMavericks       3013\nHeat            2371\nPelicans        2254\nMagic           2207\nTimberwolves    2131\nGrizzlies       1657\nRaptors         1634\nHornets          894\nColonels         846\nSquires          799\nSpirits          777\nStars            756\nSounds           697\nBaltimore        467\nFloridians       440\nCondors          430\nCapitols         291\nOlympians        282\nSails            274\nStags            260\nBombers          249\nSteamrollers     168\nPackers           72\nRedskins          65\nRebels            63\nDenver            62\nWaterloo          62\nIronmen           60\nHuskies           60\nJets              60\nFalcons           60\nName: opp_fran, dtype: int64\n"
    }
   ],
   "source": [
    "unique_opp_fran = data['opp_fran'].unique()\n",
    "unique_opp_fran_count = data['opp_fran'].value_counts()\n",
    "\n",
    "print(unique_opp_fran)\n",
    "print()\n",
    "print(unique_opp_fran_count)\n"
   ]
  },
  {
   "cell_type": "markdown",
   "metadata": {},
   "source": [
    "### Print and count the opposing points values in the dataset."
   ]
  },
  {
   "cell_type": "code",
   "execution_count": 82,
   "metadata": {
    "tags": []
   },
   "outputs": [
    {
     "output_type": "stream",
     "name": "stdout",
     "text": "[  0   2  18  19  33  38  40  43  44  45  46  47  48  49  50  51  52  53\n  54  55  56  57  58  59  60  61  62  63  64  65  66  67  68  69  70  71\n  72  73  74  75  76  77  78  79  80  81  82  83  84  85  86  87  88  89\n  90  91  92  93  94  95  96  97  98  99 100 101 102 103 104 105 106 107\n 108 109 110 111 112 113 114 115 116 117 118 119 120 121 122 123 124 125\n 126 127 128 129 130 131 132 133 134 135 136 137 138 139 140 141 142 143\n 144 145 146 147 148 149 150 151 152 153 154 155 156 157 158 159 160 161\n 162 163 165 166 168 169 171 172 173 176 177 184 186]\n\n102    3582\n103    3581\n99     3554\n106    3528\n105    3509\n       ... \n168       1\n38        1\n165       1\n33        1\n0         1\nName: opp_pts, Length: 139, dtype: int64\n"
    }
   ],
   "source": [
    "unique_score_fran = data['opp_pts'].unique()\n",
    "unique_score_fran.sort();\n",
    "unique_score_fran_count = data['opp_pts'].value_counts()\n",
    "\n",
    "print(unique_score_fran)\n",
    "print()\n",
    "print(unique_score_fran_count)\n"
   ]
  },
  {
   "cell_type": "markdown",
   "metadata": {},
   "source": [
    "# Data Analysis\n",
    "### Write a statement that uses numpy where to create a new column called 'high_scores'. Write a conditional statement saying any nba opponents points > 100 should fill the 'high_scores' column with a 'y' and everything else, an 'n'. Print the first ten rows of the dataset after."
   ]
  },
  {
   "cell_type": "code",
   "execution_count": 12,
   "metadata": {},
   "outputs": [
    {
     "output_type": "execute_result",
     "data": {
      "text/plain": "              gameorder lg_id  _iscopy  year_id  date_game  seasongame  \\\ngame_id                                                                  \n194611010TRH          1   NBA        0     1947  11/1/1946           1   \n194611010TRH          1   NBA        1     1947  11/1/1946           1   \n194611020CHS          2   NBA        0     1947  11/2/1946           1   \n194611020CHS          2   NBA        1     1947  11/2/1946           2   \n194611020DTF          3   NBA        0     1947  11/2/1946           1   \n194611020DTF          3   NBA        1     1947  11/2/1946           1   \n194611020PRO          4   NBA        1     1947  11/2/1946           1   \n194611020PRO          4   NBA        0     1947  11/2/1946           1   \n194611020STB          5   NBA        1     1947  11/2/1946           1   \n194611020STB          5   NBA        0     1947  11/2/1946           1   \n\n              is_playoffs team_id       fran_id  pts      elo_i      elo_n  \\\ngame_id                                                                      \n194611010TRH            0     TRH       Huskies   66  1300.0000  1293.2767   \n194611010TRH            0     NYK        Knicks   68  1300.0000  1306.7233   \n194611020CHS            0     CHS         Stags   63  1300.0000  1309.6521   \n194611020CHS            0     NYK        Knicks   47  1306.7233  1297.0712   \n194611020DTF            0     DTF       Falcons   33  1300.0000  1279.6189   \n194611020DTF            0     WSC      Capitols   50  1300.0000  1320.3811   \n194611020PRO            0     BOS       Celtics   53  1300.0000  1294.8458   \n194611020PRO            0     PRO  Steamrollers   59  1300.0000  1305.1542   \n194611020STB            0     PIT       Ironmen   51  1300.0000  1295.3092   \n194611020STB            0     STB       Bombers   56  1300.0000  1304.6908   \n\n              win_equiv opp_id      opp_fran  opp_pts  opp_elo_i  opp_elo_n  \\\ngame_id                                                                       \n194611010TRH  40.294830    NYK        Knicks       68  1300.0000  1306.7233   \n194611010TRH  41.705170    TRH       Huskies       66  1300.0000  1293.2767   \n194611020CHS  42.012257    NYK        Knicks       47  1306.7233  1297.0712   \n194611020CHS  40.692783    CHS         Stags       63  1300.0000  1309.6521   \n194611020DTF  38.864048    WSC      Capitols       50  1300.0000  1320.3811   \n194611020DTF  43.135952    DTF       Falcons       33  1300.0000  1279.6189   \n194611020PRO  40.459381    PRO  Steamrollers       59  1300.0000  1305.1542   \n194611020PRO  41.540619    BOS       Celtics       53  1300.0000  1294.8458   \n194611020STB  40.507980    STB       Bombers       56  1300.0000  1304.6908   \n194611020STB  41.492020    PIT       Ironmen       51  1300.0000  1295.3092   \n\n             game_location game_result  forecast notes high_scores  \ngame_id                                                             \n194611010TRH             H           L  0.640065   NaN           n  \n194611010TRH             A           W  0.359935   NaN           n  \n194611020CHS             H           W  0.631101   NaN           n  \n194611020CHS             A           L  0.368899   NaN           n  \n194611020DTF             H           L  0.640065   NaN           n  \n194611020DTF             A           W  0.359935   NaN           n  \n194611020PRO             A           L  0.359935   NaN           n  \n194611020PRO             H           W  0.640065   NaN           n  \n194611020STB             A           L  0.359935   NaN           n  \n194611020STB             H           W  0.640065   NaN           n  ",
      "text/html": "<div>\n<style scoped>\n    .dataframe tbody tr th:only-of-type {\n        vertical-align: middle;\n    }\n\n    .dataframe tbody tr th {\n        vertical-align: top;\n    }\n\n    .dataframe thead th {\n        text-align: right;\n    }\n</style>\n<table border=\"1\" class=\"dataframe\">\n  <thead>\n    <tr style=\"text-align: right;\">\n      <th></th>\n      <th>gameorder</th>\n      <th>lg_id</th>\n      <th>_iscopy</th>\n      <th>year_id</th>\n      <th>date_game</th>\n      <th>seasongame</th>\n      <th>is_playoffs</th>\n      <th>team_id</th>\n      <th>fran_id</th>\n      <th>pts</th>\n      <th>elo_i</th>\n      <th>elo_n</th>\n      <th>win_equiv</th>\n      <th>opp_id</th>\n      <th>opp_fran</th>\n      <th>opp_pts</th>\n      <th>opp_elo_i</th>\n      <th>opp_elo_n</th>\n      <th>game_location</th>\n      <th>game_result</th>\n      <th>forecast</th>\n      <th>notes</th>\n      <th>high_scores</th>\n    </tr>\n    <tr>\n      <th>game_id</th>\n      <th></th>\n      <th></th>\n      <th></th>\n      <th></th>\n      <th></th>\n      <th></th>\n      <th></th>\n      <th></th>\n      <th></th>\n      <th></th>\n      <th></th>\n      <th></th>\n      <th></th>\n      <th></th>\n      <th></th>\n      <th></th>\n      <th></th>\n      <th></th>\n      <th></th>\n      <th></th>\n      <th></th>\n      <th></th>\n      <th></th>\n    </tr>\n  </thead>\n  <tbody>\n    <tr>\n      <th>194611010TRH</th>\n      <td>1</td>\n      <td>NBA</td>\n      <td>0</td>\n      <td>1947</td>\n      <td>11/1/1946</td>\n      <td>1</td>\n      <td>0</td>\n      <td>TRH</td>\n      <td>Huskies</td>\n      <td>66</td>\n      <td>1300.0000</td>\n      <td>1293.2767</td>\n      <td>40.294830</td>\n      <td>NYK</td>\n      <td>Knicks</td>\n      <td>68</td>\n      <td>1300.0000</td>\n      <td>1306.7233</td>\n      <td>H</td>\n      <td>L</td>\n      <td>0.640065</td>\n      <td>NaN</td>\n      <td>n</td>\n    </tr>\n    <tr>\n      <th>194611010TRH</th>\n      <td>1</td>\n      <td>NBA</td>\n      <td>1</td>\n      <td>1947</td>\n      <td>11/1/1946</td>\n      <td>1</td>\n      <td>0</td>\n      <td>NYK</td>\n      <td>Knicks</td>\n      <td>68</td>\n      <td>1300.0000</td>\n      <td>1306.7233</td>\n      <td>41.705170</td>\n      <td>TRH</td>\n      <td>Huskies</td>\n      <td>66</td>\n      <td>1300.0000</td>\n      <td>1293.2767</td>\n      <td>A</td>\n      <td>W</td>\n      <td>0.359935</td>\n      <td>NaN</td>\n      <td>n</td>\n    </tr>\n    <tr>\n      <th>194611020CHS</th>\n      <td>2</td>\n      <td>NBA</td>\n      <td>0</td>\n      <td>1947</td>\n      <td>11/2/1946</td>\n      <td>1</td>\n      <td>0</td>\n      <td>CHS</td>\n      <td>Stags</td>\n      <td>63</td>\n      <td>1300.0000</td>\n      <td>1309.6521</td>\n      <td>42.012257</td>\n      <td>NYK</td>\n      <td>Knicks</td>\n      <td>47</td>\n      <td>1306.7233</td>\n      <td>1297.0712</td>\n      <td>H</td>\n      <td>W</td>\n      <td>0.631101</td>\n      <td>NaN</td>\n      <td>n</td>\n    </tr>\n    <tr>\n      <th>194611020CHS</th>\n      <td>2</td>\n      <td>NBA</td>\n      <td>1</td>\n      <td>1947</td>\n      <td>11/2/1946</td>\n      <td>2</td>\n      <td>0</td>\n      <td>NYK</td>\n      <td>Knicks</td>\n      <td>47</td>\n      <td>1306.7233</td>\n      <td>1297.0712</td>\n      <td>40.692783</td>\n      <td>CHS</td>\n      <td>Stags</td>\n      <td>63</td>\n      <td>1300.0000</td>\n      <td>1309.6521</td>\n      <td>A</td>\n      <td>L</td>\n      <td>0.368899</td>\n      <td>NaN</td>\n      <td>n</td>\n    </tr>\n    <tr>\n      <th>194611020DTF</th>\n      <td>3</td>\n      <td>NBA</td>\n      <td>0</td>\n      <td>1947</td>\n      <td>11/2/1946</td>\n      <td>1</td>\n      <td>0</td>\n      <td>DTF</td>\n      <td>Falcons</td>\n      <td>33</td>\n      <td>1300.0000</td>\n      <td>1279.6189</td>\n      <td>38.864048</td>\n      <td>WSC</td>\n      <td>Capitols</td>\n      <td>50</td>\n      <td>1300.0000</td>\n      <td>1320.3811</td>\n      <td>H</td>\n      <td>L</td>\n      <td>0.640065</td>\n      <td>NaN</td>\n      <td>n</td>\n    </tr>\n    <tr>\n      <th>194611020DTF</th>\n      <td>3</td>\n      <td>NBA</td>\n      <td>1</td>\n      <td>1947</td>\n      <td>11/2/1946</td>\n      <td>1</td>\n      <td>0</td>\n      <td>WSC</td>\n      <td>Capitols</td>\n      <td>50</td>\n      <td>1300.0000</td>\n      <td>1320.3811</td>\n      <td>43.135952</td>\n      <td>DTF</td>\n      <td>Falcons</td>\n      <td>33</td>\n      <td>1300.0000</td>\n      <td>1279.6189</td>\n      <td>A</td>\n      <td>W</td>\n      <td>0.359935</td>\n      <td>NaN</td>\n      <td>n</td>\n    </tr>\n    <tr>\n      <th>194611020PRO</th>\n      <td>4</td>\n      <td>NBA</td>\n      <td>1</td>\n      <td>1947</td>\n      <td>11/2/1946</td>\n      <td>1</td>\n      <td>0</td>\n      <td>BOS</td>\n      <td>Celtics</td>\n      <td>53</td>\n      <td>1300.0000</td>\n      <td>1294.8458</td>\n      <td>40.459381</td>\n      <td>PRO</td>\n      <td>Steamrollers</td>\n      <td>59</td>\n      <td>1300.0000</td>\n      <td>1305.1542</td>\n      <td>A</td>\n      <td>L</td>\n      <td>0.359935</td>\n      <td>NaN</td>\n      <td>n</td>\n    </tr>\n    <tr>\n      <th>194611020PRO</th>\n      <td>4</td>\n      <td>NBA</td>\n      <td>0</td>\n      <td>1947</td>\n      <td>11/2/1946</td>\n      <td>1</td>\n      <td>0</td>\n      <td>PRO</td>\n      <td>Steamrollers</td>\n      <td>59</td>\n      <td>1300.0000</td>\n      <td>1305.1542</td>\n      <td>41.540619</td>\n      <td>BOS</td>\n      <td>Celtics</td>\n      <td>53</td>\n      <td>1300.0000</td>\n      <td>1294.8458</td>\n      <td>H</td>\n      <td>W</td>\n      <td>0.640065</td>\n      <td>NaN</td>\n      <td>n</td>\n    </tr>\n    <tr>\n      <th>194611020STB</th>\n      <td>5</td>\n      <td>NBA</td>\n      <td>1</td>\n      <td>1947</td>\n      <td>11/2/1946</td>\n      <td>1</td>\n      <td>0</td>\n      <td>PIT</td>\n      <td>Ironmen</td>\n      <td>51</td>\n      <td>1300.0000</td>\n      <td>1295.3092</td>\n      <td>40.507980</td>\n      <td>STB</td>\n      <td>Bombers</td>\n      <td>56</td>\n      <td>1300.0000</td>\n      <td>1304.6908</td>\n      <td>A</td>\n      <td>L</td>\n      <td>0.359935</td>\n      <td>NaN</td>\n      <td>n</td>\n    </tr>\n    <tr>\n      <th>194611020STB</th>\n      <td>5</td>\n      <td>NBA</td>\n      <td>0</td>\n      <td>1947</td>\n      <td>11/2/1946</td>\n      <td>1</td>\n      <td>0</td>\n      <td>STB</td>\n      <td>Bombers</td>\n      <td>56</td>\n      <td>1300.0000</td>\n      <td>1304.6908</td>\n      <td>41.492020</td>\n      <td>PIT</td>\n      <td>Ironmen</td>\n      <td>51</td>\n      <td>1300.0000</td>\n      <td>1295.3092</td>\n      <td>H</td>\n      <td>W</td>\n      <td>0.640065</td>\n      <td>NaN</td>\n      <td>n</td>\n    </tr>\n  </tbody>\n</table>\n</div>"
     },
     "metadata": {},
     "execution_count": 12
    }
   ],
   "source": [
    "data['high_scores'] = np.where(data['opp_pts'] > 100, 'y', 'n')\n",
    "\n",
    "data.head(10)"
   ]
  },
  {
   "cell_type": "markdown",
   "metadata": {},
   "source": [
    "### Use your knowledge of pandas to get a list of games the TimberWolves played and print 25 rows."
   ]
  },
  {
   "cell_type": "code",
   "execution_count": 13,
   "metadata": {
    "tags": []
   },
   "outputs": [
    {
     "output_type": "execute_result",
     "data": {
      "text/plain": "              gameorder lg_id  _iscopy  year_id   date_game  seasongame  \\\ngame_id                                                                   \n198911030SEA      30972   NBA        1     1990   11/3/1989           1   \n198911050POR      30984   NBA        1     1990   11/5/1989           2   \n198911080MIN      30999   NBA        0     1990   11/8/1989           3   \n198911100MIN      31012   NBA        0     1990  11/10/1989           4   \n198911120MIN      31028   NBA        0     1990  11/12/1989           5   \n198911140MIN      31037   NBA        0     1990  11/14/1989           6   \n198911150MIN      31047   NBA        0     1990  11/15/1989           7   \n198911170BOS      31055   NBA        1     1990  11/17/1989           8   \n198911180NYK      31069   NBA        1     1990  11/18/1989           9   \n198911210MIN      31081   NBA        0     1990  11/21/1989          10   \n198911220MIN      31094   NBA        0     1990  11/22/1989          11   \n198911240DAL      31099   NBA        1     1990  11/24/1989          12   \n198911250CHH      31108   NBA        1     1990  11/25/1989          13   \n198911290MIA      31135   NBA        1     1990  11/29/1989          14   \n198911300ORL      31142   NBA        1     1990  11/30/1989          15   \n198912020CLE      31155   NBA        1     1990   12/2/1989          16   \n198912050MIN      31173   NBA        0     1990   12/5/1989          17   \n198912090ATL      31196   NBA        1     1990   12/9/1989          18   \n198912120IND      31214   NBA        1     1990  12/12/1989          19   \n198912130MIN      31224   NBA        0     1990  12/13/1989          20   \n198912150MIN      31236   NBA        0     1990  12/15/1989          21   \n198912170MIN      31250   NBA        0     1990  12/17/1989          22   \n198912190WSB      31262   NBA        1     1990  12/19/1989          23   \n198912200MIN      31266   NBA        0     1990  12/20/1989          24   \n198912230MIN      31288   NBA        0     1990  12/23/1989          25   \n\n              is_playoffs team_id       fran_id  pts      elo_i      elo_n  \\\ngame_id                                                                      \n198911030SEA            0     MIN  Timberwolves   94  1300.0000  1297.5072   \n198911050POR            0     MIN  Timberwolves   83  1297.5072  1294.7887   \n198911080MIN            0     MIN  Timberwolves   84  1294.7887  1289.2142   \n198911100MIN            0     MIN  Timberwolves  125  1289.2142  1301.8452   \n198911120MIN            0     MIN  Timberwolves   97  1301.8452  1294.9655   \n198911140MIN            0     MIN  Timberwolves  101  1294.9655  1301.7524   \n198911150MIN            0     MIN  Timberwolves   76  1301.7524  1289.8660   \n198911170BOS            0     MIN  Timberwolves   99  1289.8660  1286.9614   \n198911180NYK            0     MIN  Timberwolves   96  1286.9614  1284.5331   \n198911210MIN            0     MIN  Timberwolves  101  1284.5331  1282.1599   \n198911220MIN            0     MIN  Timberwolves   93  1282.1599  1278.7147   \n198911240DAL            0     MIN  Timberwolves   89  1278.7147  1275.6674   \n198911250CHH            0     MIN  Timberwolves   73  1275.6674  1270.1501   \n198911290MIA            0     MIN  Timberwolves  105  1270.1501  1280.5435   \n198911300ORL            0     MIN  Timberwolves   96  1280.5435  1276.8462   \n198912020CLE            0     MIN  Timberwolves  101  1276.8462  1327.1073   \n198912050MIN            0     MIN  Timberwolves   92  1327.1073  1330.1210   \n198912090ATL            0     MIN  Timberwolves   91  1330.1210  1327.9492   \n198912120IND            0     MIN  Timberwolves  112  1327.9492  1327.0311   \n198912130MIN            0     MIN  Timberwolves   87  1327.0311  1321.2427   \n198912150MIN            0     MIN  Timberwolves   84  1321.2427  1303.1956   \n198912170MIN            0     MIN  Timberwolves  112  1303.1956  1297.3031   \n198912190WSB            0     MIN  Timberwolves   99  1297.3031  1294.5591   \n198912200MIN            0     MIN  Timberwolves   97  1294.5591  1291.5177   \n198912230MIN            0     MIN  Timberwolves   90  1291.5177  1287.2438   \n\n              win_equiv opp_id      opp_fran  opp_pts  opp_elo_i  opp_elo_n  \\\ngame_id                                                                       \n198911030SEA  23.323610    SEA       Thunder      106  1522.9867  1525.4795   \n198911050POR  23.092154    POR  Trailblazers       93  1484.2450  1486.9635   \n198911080MIN  22.621931    CHI         Bulls       96  1565.5848  1571.1593   \n198911100MIN  23.695835    PHI        Sixers      118  1515.8893  1503.2583   \n198911120MIN  23.107161    SEA       Thunder      108  1516.3013  1523.1810   \n198911140MIN  23.687838    GSW      Warriors       98  1450.9146  1444.1276   \n198911150MIN  22.676600    SAS         Spurs       86  1363.3141  1375.2006   \n198911170BOS  22.433590    BOS       Celtics      116  1526.5529  1529.4574   \n198911180NYK  22.231672    NYK        Knicks      111  1540.3091  1542.7374   \n198911210MIN  22.035450    UTA          Jazz      103  1550.2230  1552.5962   \n198911220MIN  21.752544    DEN       Nuggets       96  1499.6501  1503.0953   \n198911240DAL  21.504250    DAL     Mavericks       99  1444.4480  1447.4954   \n198911250CHH  21.059389    CHH      Pelicans       81  1296.2322  1301.7494   \n198911290MIA  21.902424    MIA          Heat      100  1290.9008  1280.5074   \n198911300ORL  21.600082    ORL         Magic      103  1368.7770  1372.4742   \n198912020CLE  25.931570    CLE     Cavaliers       74  1533.6508  1483.3896   \n198912050MIN  26.205763    NJN          Nets       90  1312.2751  1309.2615   \n198912090ATL  26.008015    ATL         Hawks      104  1586.5212  1588.6930   \n198912120IND  25.924660    IND        Pacers      113  1540.4735  1541.3916   \n198912130MIN  25.402447    DAL     Mavericks       90  1417.4824  1423.2709   \n198912150MIN  23.812418    MIA          Heat       95  1261.6083  1279.6554   \n198912170MIN  23.306185    UTA          Jazz      122  1538.4479  1544.3403   \n198912190WSB  23.072668    WSB       Wizards      112  1512.3666  1515.1106   \n198912200MIN  22.815516    LAL        Lakers      106  1648.7283  1651.7697   \n198912230MIN  22.457142    MIL         Bucks       94  1488.3965  1492.6704   \n\n             game_location game_result  forecast notes high_scores  \ngame_id                                                             \n198911030SEA             A           L  0.134789   NaN           y  \n198911050POR             A           L  0.161029   NaN           n  \n198911080MIN             H           L  0.272261   NaN           n  \n198911100MIN             H           W  0.325370   NaN           y  \n198911120MIN             H           L  0.340995   NaN           y  \n198911140MIN             H           W  0.420172   NaN           n  \n198911150MIN             H           L  0.555093   NaN           n  \n198911170BOS             A           L  0.125854   NaN           y  \n198911180NYK             A           L  0.115676   NaN           y  \n198911210MIN             H           L  0.278124   NaN           y  \n198911220MIN             H           L  0.337081   NaN           n  \n198911240DAL             A           L  0.178040   NaN           n  \n198911250CHH             A           L  0.333138   NaN           n  \n198911290MIA             A           W  0.332900   NaN           n  \n198911300ORL             A           L  0.252833   NaN           y  \n198912020CLE             A           W  0.113656   NaN           n  \n198912050MIN             H           W  0.659491   NaN           n  \n198912090ATL             A           L  0.113890   NaN           y  \n198912120IND             A           L  0.141969   NaN           y  \n198912130MIN             H           L  0.513738   NaN           n  \n198912150MIN             H           L  0.714824   NaN           n  \n198912170MIN             H           L  0.314627   NaN           y  \n198912190WSB             A           L  0.140197   NaN           y  \n198912200MIN             H           L  0.187991   NaN           y  \n198912230MIN             H           L  0.364085   NaN           n  ",
      "text/html": "<div>\n<style scoped>\n    .dataframe tbody tr th:only-of-type {\n        vertical-align: middle;\n    }\n\n    .dataframe tbody tr th {\n        vertical-align: top;\n    }\n\n    .dataframe thead th {\n        text-align: right;\n    }\n</style>\n<table border=\"1\" class=\"dataframe\">\n  <thead>\n    <tr style=\"text-align: right;\">\n      <th></th>\n      <th>gameorder</th>\n      <th>lg_id</th>\n      <th>_iscopy</th>\n      <th>year_id</th>\n      <th>date_game</th>\n      <th>seasongame</th>\n      <th>is_playoffs</th>\n      <th>team_id</th>\n      <th>fran_id</th>\n      <th>pts</th>\n      <th>elo_i</th>\n      <th>elo_n</th>\n      <th>win_equiv</th>\n      <th>opp_id</th>\n      <th>opp_fran</th>\n      <th>opp_pts</th>\n      <th>opp_elo_i</th>\n      <th>opp_elo_n</th>\n      <th>game_location</th>\n      <th>game_result</th>\n      <th>forecast</th>\n      <th>notes</th>\n      <th>high_scores</th>\n    </tr>\n    <tr>\n      <th>game_id</th>\n      <th></th>\n      <th></th>\n      <th></th>\n      <th></th>\n      <th></th>\n      <th></th>\n      <th></th>\n      <th></th>\n      <th></th>\n      <th></th>\n      <th></th>\n      <th></th>\n      <th></th>\n      <th></th>\n      <th></th>\n      <th></th>\n      <th></th>\n      <th></th>\n      <th></th>\n      <th></th>\n      <th></th>\n      <th></th>\n      <th></th>\n    </tr>\n  </thead>\n  <tbody>\n    <tr>\n      <th>198911030SEA</th>\n      <td>30972</td>\n      <td>NBA</td>\n      <td>1</td>\n      <td>1990</td>\n      <td>11/3/1989</td>\n      <td>1</td>\n      <td>0</td>\n      <td>MIN</td>\n      <td>Timberwolves</td>\n      <td>94</td>\n      <td>1300.0000</td>\n      <td>1297.5072</td>\n      <td>23.323610</td>\n      <td>SEA</td>\n      <td>Thunder</td>\n      <td>106</td>\n      <td>1522.9867</td>\n      <td>1525.4795</td>\n      <td>A</td>\n      <td>L</td>\n      <td>0.134789</td>\n      <td>NaN</td>\n      <td>y</td>\n    </tr>\n    <tr>\n      <th>198911050POR</th>\n      <td>30984</td>\n      <td>NBA</td>\n      <td>1</td>\n      <td>1990</td>\n      <td>11/5/1989</td>\n      <td>2</td>\n      <td>0</td>\n      <td>MIN</td>\n      <td>Timberwolves</td>\n      <td>83</td>\n      <td>1297.5072</td>\n      <td>1294.7887</td>\n      <td>23.092154</td>\n      <td>POR</td>\n      <td>Trailblazers</td>\n      <td>93</td>\n      <td>1484.2450</td>\n      <td>1486.9635</td>\n      <td>A</td>\n      <td>L</td>\n      <td>0.161029</td>\n      <td>NaN</td>\n      <td>n</td>\n    </tr>\n    <tr>\n      <th>198911080MIN</th>\n      <td>30999</td>\n      <td>NBA</td>\n      <td>0</td>\n      <td>1990</td>\n      <td>11/8/1989</td>\n      <td>3</td>\n      <td>0</td>\n      <td>MIN</td>\n      <td>Timberwolves</td>\n      <td>84</td>\n      <td>1294.7887</td>\n      <td>1289.2142</td>\n      <td>22.621931</td>\n      <td>CHI</td>\n      <td>Bulls</td>\n      <td>96</td>\n      <td>1565.5848</td>\n      <td>1571.1593</td>\n      <td>H</td>\n      <td>L</td>\n      <td>0.272261</td>\n      <td>NaN</td>\n      <td>n</td>\n    </tr>\n    <tr>\n      <th>198911100MIN</th>\n      <td>31012</td>\n      <td>NBA</td>\n      <td>0</td>\n      <td>1990</td>\n      <td>11/10/1989</td>\n      <td>4</td>\n      <td>0</td>\n      <td>MIN</td>\n      <td>Timberwolves</td>\n      <td>125</td>\n      <td>1289.2142</td>\n      <td>1301.8452</td>\n      <td>23.695835</td>\n      <td>PHI</td>\n      <td>Sixers</td>\n      <td>118</td>\n      <td>1515.8893</td>\n      <td>1503.2583</td>\n      <td>H</td>\n      <td>W</td>\n      <td>0.325370</td>\n      <td>NaN</td>\n      <td>y</td>\n    </tr>\n    <tr>\n      <th>198911120MIN</th>\n      <td>31028</td>\n      <td>NBA</td>\n      <td>0</td>\n      <td>1990</td>\n      <td>11/12/1989</td>\n      <td>5</td>\n      <td>0</td>\n      <td>MIN</td>\n      <td>Timberwolves</td>\n      <td>97</td>\n      <td>1301.8452</td>\n      <td>1294.9655</td>\n      <td>23.107161</td>\n      <td>SEA</td>\n      <td>Thunder</td>\n      <td>108</td>\n      <td>1516.3013</td>\n      <td>1523.1810</td>\n      <td>H</td>\n      <td>L</td>\n      <td>0.340995</td>\n      <td>NaN</td>\n      <td>y</td>\n    </tr>\n    <tr>\n      <th>198911140MIN</th>\n      <td>31037</td>\n      <td>NBA</td>\n      <td>0</td>\n      <td>1990</td>\n      <td>11/14/1989</td>\n      <td>6</td>\n      <td>0</td>\n      <td>MIN</td>\n      <td>Timberwolves</td>\n      <td>101</td>\n      <td>1294.9655</td>\n      <td>1301.7524</td>\n      <td>23.687838</td>\n      <td>GSW</td>\n      <td>Warriors</td>\n      <td>98</td>\n      <td>1450.9146</td>\n      <td>1444.1276</td>\n      <td>H</td>\n      <td>W</td>\n      <td>0.420172</td>\n      <td>NaN</td>\n      <td>n</td>\n    </tr>\n    <tr>\n      <th>198911150MIN</th>\n      <td>31047</td>\n      <td>NBA</td>\n      <td>0</td>\n      <td>1990</td>\n      <td>11/15/1989</td>\n      <td>7</td>\n      <td>0</td>\n      <td>MIN</td>\n      <td>Timberwolves</td>\n      <td>76</td>\n      <td>1301.7524</td>\n      <td>1289.8660</td>\n      <td>22.676600</td>\n      <td>SAS</td>\n      <td>Spurs</td>\n      <td>86</td>\n      <td>1363.3141</td>\n      <td>1375.2006</td>\n      <td>H</td>\n      <td>L</td>\n      <td>0.555093</td>\n      <td>NaN</td>\n      <td>n</td>\n    </tr>\n    <tr>\n      <th>198911170BOS</th>\n      <td>31055</td>\n      <td>NBA</td>\n      <td>1</td>\n      <td>1990</td>\n      <td>11/17/1989</td>\n      <td>8</td>\n      <td>0</td>\n      <td>MIN</td>\n      <td>Timberwolves</td>\n      <td>99</td>\n      <td>1289.8660</td>\n      <td>1286.9614</td>\n      <td>22.433590</td>\n      <td>BOS</td>\n      <td>Celtics</td>\n      <td>116</td>\n      <td>1526.5529</td>\n      <td>1529.4574</td>\n      <td>A</td>\n      <td>L</td>\n      <td>0.125854</td>\n      <td>NaN</td>\n      <td>y</td>\n    </tr>\n    <tr>\n      <th>198911180NYK</th>\n      <td>31069</td>\n      <td>NBA</td>\n      <td>1</td>\n      <td>1990</td>\n      <td>11/18/1989</td>\n      <td>9</td>\n      <td>0</td>\n      <td>MIN</td>\n      <td>Timberwolves</td>\n      <td>96</td>\n      <td>1286.9614</td>\n      <td>1284.5331</td>\n      <td>22.231672</td>\n      <td>NYK</td>\n      <td>Knicks</td>\n      <td>111</td>\n      <td>1540.3091</td>\n      <td>1542.7374</td>\n      <td>A</td>\n      <td>L</td>\n      <td>0.115676</td>\n      <td>NaN</td>\n      <td>y</td>\n    </tr>\n    <tr>\n      <th>198911210MIN</th>\n      <td>31081</td>\n      <td>NBA</td>\n      <td>0</td>\n      <td>1990</td>\n      <td>11/21/1989</td>\n      <td>10</td>\n      <td>0</td>\n      <td>MIN</td>\n      <td>Timberwolves</td>\n      <td>101</td>\n      <td>1284.5331</td>\n      <td>1282.1599</td>\n      <td>22.035450</td>\n      <td>UTA</td>\n      <td>Jazz</td>\n      <td>103</td>\n      <td>1550.2230</td>\n      <td>1552.5962</td>\n      <td>H</td>\n      <td>L</td>\n      <td>0.278124</td>\n      <td>NaN</td>\n      <td>y</td>\n    </tr>\n    <tr>\n      <th>198911220MIN</th>\n      <td>31094</td>\n      <td>NBA</td>\n      <td>0</td>\n      <td>1990</td>\n      <td>11/22/1989</td>\n      <td>11</td>\n      <td>0</td>\n      <td>MIN</td>\n      <td>Timberwolves</td>\n      <td>93</td>\n      <td>1282.1599</td>\n      <td>1278.7147</td>\n      <td>21.752544</td>\n      <td>DEN</td>\n      <td>Nuggets</td>\n      <td>96</td>\n      <td>1499.6501</td>\n      <td>1503.0953</td>\n      <td>H</td>\n      <td>L</td>\n      <td>0.337081</td>\n      <td>NaN</td>\n      <td>n</td>\n    </tr>\n    <tr>\n      <th>198911240DAL</th>\n      <td>31099</td>\n      <td>NBA</td>\n      <td>1</td>\n      <td>1990</td>\n      <td>11/24/1989</td>\n      <td>12</td>\n      <td>0</td>\n      <td>MIN</td>\n      <td>Timberwolves</td>\n      <td>89</td>\n      <td>1278.7147</td>\n      <td>1275.6674</td>\n      <td>21.504250</td>\n      <td>DAL</td>\n      <td>Mavericks</td>\n      <td>99</td>\n      <td>1444.4480</td>\n      <td>1447.4954</td>\n      <td>A</td>\n      <td>L</td>\n      <td>0.178040</td>\n      <td>NaN</td>\n      <td>n</td>\n    </tr>\n    <tr>\n      <th>198911250CHH</th>\n      <td>31108</td>\n      <td>NBA</td>\n      <td>1</td>\n      <td>1990</td>\n      <td>11/25/1989</td>\n      <td>13</td>\n      <td>0</td>\n      <td>MIN</td>\n      <td>Timberwolves</td>\n      <td>73</td>\n      <td>1275.6674</td>\n      <td>1270.1501</td>\n      <td>21.059389</td>\n      <td>CHH</td>\n      <td>Pelicans</td>\n      <td>81</td>\n      <td>1296.2322</td>\n      <td>1301.7494</td>\n      <td>A</td>\n      <td>L</td>\n      <td>0.333138</td>\n      <td>NaN</td>\n      <td>n</td>\n    </tr>\n    <tr>\n      <th>198911290MIA</th>\n      <td>31135</td>\n      <td>NBA</td>\n      <td>1</td>\n      <td>1990</td>\n      <td>11/29/1989</td>\n      <td>14</td>\n      <td>0</td>\n      <td>MIN</td>\n      <td>Timberwolves</td>\n      <td>105</td>\n      <td>1270.1501</td>\n      <td>1280.5435</td>\n      <td>21.902424</td>\n      <td>MIA</td>\n      <td>Heat</td>\n      <td>100</td>\n      <td>1290.9008</td>\n      <td>1280.5074</td>\n      <td>A</td>\n      <td>W</td>\n      <td>0.332900</td>\n      <td>NaN</td>\n      <td>n</td>\n    </tr>\n    <tr>\n      <th>198911300ORL</th>\n      <td>31142</td>\n      <td>NBA</td>\n      <td>1</td>\n      <td>1990</td>\n      <td>11/30/1989</td>\n      <td>15</td>\n      <td>0</td>\n      <td>MIN</td>\n      <td>Timberwolves</td>\n      <td>96</td>\n      <td>1280.5435</td>\n      <td>1276.8462</td>\n      <td>21.600082</td>\n      <td>ORL</td>\n      <td>Magic</td>\n      <td>103</td>\n      <td>1368.7770</td>\n      <td>1372.4742</td>\n      <td>A</td>\n      <td>L</td>\n      <td>0.252833</td>\n      <td>NaN</td>\n      <td>y</td>\n    </tr>\n    <tr>\n      <th>198912020CLE</th>\n      <td>31155</td>\n      <td>NBA</td>\n      <td>1</td>\n      <td>1990</td>\n      <td>12/2/1989</td>\n      <td>16</td>\n      <td>0</td>\n      <td>MIN</td>\n      <td>Timberwolves</td>\n      <td>101</td>\n      <td>1276.8462</td>\n      <td>1327.1073</td>\n      <td>25.931570</td>\n      <td>CLE</td>\n      <td>Cavaliers</td>\n      <td>74</td>\n      <td>1533.6508</td>\n      <td>1483.3896</td>\n      <td>A</td>\n      <td>W</td>\n      <td>0.113656</td>\n      <td>NaN</td>\n      <td>n</td>\n    </tr>\n    <tr>\n      <th>198912050MIN</th>\n      <td>31173</td>\n      <td>NBA</td>\n      <td>0</td>\n      <td>1990</td>\n      <td>12/5/1989</td>\n      <td>17</td>\n      <td>0</td>\n      <td>MIN</td>\n      <td>Timberwolves</td>\n      <td>92</td>\n      <td>1327.1073</td>\n      <td>1330.1210</td>\n      <td>26.205763</td>\n      <td>NJN</td>\n      <td>Nets</td>\n      <td>90</td>\n      <td>1312.2751</td>\n      <td>1309.2615</td>\n      <td>H</td>\n      <td>W</td>\n      <td>0.659491</td>\n      <td>NaN</td>\n      <td>n</td>\n    </tr>\n    <tr>\n      <th>198912090ATL</th>\n      <td>31196</td>\n      <td>NBA</td>\n      <td>1</td>\n      <td>1990</td>\n      <td>12/9/1989</td>\n      <td>18</td>\n      <td>0</td>\n      <td>MIN</td>\n      <td>Timberwolves</td>\n      <td>91</td>\n      <td>1330.1210</td>\n      <td>1327.9492</td>\n      <td>26.008015</td>\n      <td>ATL</td>\n      <td>Hawks</td>\n      <td>104</td>\n      <td>1586.5212</td>\n      <td>1588.6930</td>\n      <td>A</td>\n      <td>L</td>\n      <td>0.113890</td>\n      <td>NaN</td>\n      <td>y</td>\n    </tr>\n    <tr>\n      <th>198912120IND</th>\n      <td>31214</td>\n      <td>NBA</td>\n      <td>1</td>\n      <td>1990</td>\n      <td>12/12/1989</td>\n      <td>19</td>\n      <td>0</td>\n      <td>MIN</td>\n      <td>Timberwolves</td>\n      <td>112</td>\n      <td>1327.9492</td>\n      <td>1327.0311</td>\n      <td>25.924660</td>\n      <td>IND</td>\n      <td>Pacers</td>\n      <td>113</td>\n      <td>1540.4735</td>\n      <td>1541.3916</td>\n      <td>A</td>\n      <td>L</td>\n      <td>0.141969</td>\n      <td>NaN</td>\n      <td>y</td>\n    </tr>\n    <tr>\n      <th>198912130MIN</th>\n      <td>31224</td>\n      <td>NBA</td>\n      <td>0</td>\n      <td>1990</td>\n      <td>12/13/1989</td>\n      <td>20</td>\n      <td>0</td>\n      <td>MIN</td>\n      <td>Timberwolves</td>\n      <td>87</td>\n      <td>1327.0311</td>\n      <td>1321.2427</td>\n      <td>25.402447</td>\n      <td>DAL</td>\n      <td>Mavericks</td>\n      <td>90</td>\n      <td>1417.4824</td>\n      <td>1423.2709</td>\n      <td>H</td>\n      <td>L</td>\n      <td>0.513738</td>\n      <td>NaN</td>\n      <td>n</td>\n    </tr>\n    <tr>\n      <th>198912150MIN</th>\n      <td>31236</td>\n      <td>NBA</td>\n      <td>0</td>\n      <td>1990</td>\n      <td>12/15/1989</td>\n      <td>21</td>\n      <td>0</td>\n      <td>MIN</td>\n      <td>Timberwolves</td>\n      <td>84</td>\n      <td>1321.2427</td>\n      <td>1303.1956</td>\n      <td>23.812418</td>\n      <td>MIA</td>\n      <td>Heat</td>\n      <td>95</td>\n      <td>1261.6083</td>\n      <td>1279.6554</td>\n      <td>H</td>\n      <td>L</td>\n      <td>0.714824</td>\n      <td>NaN</td>\n      <td>n</td>\n    </tr>\n    <tr>\n      <th>198912170MIN</th>\n      <td>31250</td>\n      <td>NBA</td>\n      <td>0</td>\n      <td>1990</td>\n      <td>12/17/1989</td>\n      <td>22</td>\n      <td>0</td>\n      <td>MIN</td>\n      <td>Timberwolves</td>\n      <td>112</td>\n      <td>1303.1956</td>\n      <td>1297.3031</td>\n      <td>23.306185</td>\n      <td>UTA</td>\n      <td>Jazz</td>\n      <td>122</td>\n      <td>1538.4479</td>\n      <td>1544.3403</td>\n      <td>H</td>\n      <td>L</td>\n      <td>0.314627</td>\n      <td>NaN</td>\n      <td>y</td>\n    </tr>\n    <tr>\n      <th>198912190WSB</th>\n      <td>31262</td>\n      <td>NBA</td>\n      <td>1</td>\n      <td>1990</td>\n      <td>12/19/1989</td>\n      <td>23</td>\n      <td>0</td>\n      <td>MIN</td>\n      <td>Timberwolves</td>\n      <td>99</td>\n      <td>1297.3031</td>\n      <td>1294.5591</td>\n      <td>23.072668</td>\n      <td>WSB</td>\n      <td>Wizards</td>\n      <td>112</td>\n      <td>1512.3666</td>\n      <td>1515.1106</td>\n      <td>A</td>\n      <td>L</td>\n      <td>0.140197</td>\n      <td>NaN</td>\n      <td>y</td>\n    </tr>\n    <tr>\n      <th>198912200MIN</th>\n      <td>31266</td>\n      <td>NBA</td>\n      <td>0</td>\n      <td>1990</td>\n      <td>12/20/1989</td>\n      <td>24</td>\n      <td>0</td>\n      <td>MIN</td>\n      <td>Timberwolves</td>\n      <td>97</td>\n      <td>1294.5591</td>\n      <td>1291.5177</td>\n      <td>22.815516</td>\n      <td>LAL</td>\n      <td>Lakers</td>\n      <td>106</td>\n      <td>1648.7283</td>\n      <td>1651.7697</td>\n      <td>H</td>\n      <td>L</td>\n      <td>0.187991</td>\n      <td>NaN</td>\n      <td>y</td>\n    </tr>\n    <tr>\n      <th>198912230MIN</th>\n      <td>31288</td>\n      <td>NBA</td>\n      <td>0</td>\n      <td>1990</td>\n      <td>12/23/1989</td>\n      <td>25</td>\n      <td>0</td>\n      <td>MIN</td>\n      <td>Timberwolves</td>\n      <td>90</td>\n      <td>1291.5177</td>\n      <td>1287.2438</td>\n      <td>22.457142</td>\n      <td>MIL</td>\n      <td>Bucks</td>\n      <td>94</td>\n      <td>1488.3965</td>\n      <td>1492.6704</td>\n      <td>H</td>\n      <td>L</td>\n      <td>0.364085</td>\n      <td>NaN</td>\n      <td>n</td>\n    </tr>\n  </tbody>\n</table>\n</div>"
     },
     "metadata": {},
     "execution_count": 13
    }
   ],
   "source": [
    "TW = data[data['fran_id'] == 'Timberwolves']\n",
    "\n",
    "TW.head(25)"
   ]
  },
  {
   "cell_type": "markdown",
   "metadata": {},
   "source": [
    "### Write a loc statement to select march 4th, 2015's Minnesota game using the index of the dataset. You should get two values."
   ]
  },
  {
   "cell_type": "code",
   "execution_count": 29,
   "metadata": {
    "tags": []
   },
   "outputs": [
    {
     "output_type": "execute_result",
     "data": {
      "text/plain": "              gameorder lg_id  _iscopy  year_id date_game  seasongame  \\\ngame_id                                                                 \n201503040MIN      62748   NBA        0     2015  3/4/2015          60   \n201503040MIN      62748   NBA        1     2015  3/4/2015          61   \n\n              is_playoffs team_id       fran_id  pts      elo_i      elo_n  \\\ngame_id                                                                      \n201503040MIN            0     MIN  Timberwolves   85  1360.1581  1341.7996   \n201503040MIN            0     DEN       Nuggets  100  1366.9797  1385.3383   \n\n              win_equiv opp_id      opp_fran  opp_pts  opp_elo_i  opp_elo_n  \\\ngame_id                                                                       \n201503040MIN  24.851854    DEN       Nuggets      100  1366.9797  1385.3383   \n201503040MIN  28.870102    MIN  Timberwolves       85  1360.1581  1341.7996   \n\n             game_location game_result  forecast notes high_scores  \ngame_id                                                             \n201503040MIN             H           L  0.630969   NaN           n  \n201503040MIN             A           W  0.369031   NaN           n  ",
      "text/html": "<div>\n<style scoped>\n    .dataframe tbody tr th:only-of-type {\n        vertical-align: middle;\n    }\n\n    .dataframe tbody tr th {\n        vertical-align: top;\n    }\n\n    .dataframe thead th {\n        text-align: right;\n    }\n</style>\n<table border=\"1\" class=\"dataframe\">\n  <thead>\n    <tr style=\"text-align: right;\">\n      <th></th>\n      <th>gameorder</th>\n      <th>lg_id</th>\n      <th>_iscopy</th>\n      <th>year_id</th>\n      <th>date_game</th>\n      <th>seasongame</th>\n      <th>is_playoffs</th>\n      <th>team_id</th>\n      <th>fran_id</th>\n      <th>pts</th>\n      <th>elo_i</th>\n      <th>elo_n</th>\n      <th>win_equiv</th>\n      <th>opp_id</th>\n      <th>opp_fran</th>\n      <th>opp_pts</th>\n      <th>opp_elo_i</th>\n      <th>opp_elo_n</th>\n      <th>game_location</th>\n      <th>game_result</th>\n      <th>forecast</th>\n      <th>notes</th>\n      <th>high_scores</th>\n    </tr>\n    <tr>\n      <th>game_id</th>\n      <th></th>\n      <th></th>\n      <th></th>\n      <th></th>\n      <th></th>\n      <th></th>\n      <th></th>\n      <th></th>\n      <th></th>\n      <th></th>\n      <th></th>\n      <th></th>\n      <th></th>\n      <th></th>\n      <th></th>\n      <th></th>\n      <th></th>\n      <th></th>\n      <th></th>\n      <th></th>\n      <th></th>\n      <th></th>\n      <th></th>\n    </tr>\n  </thead>\n  <tbody>\n    <tr>\n      <th>201503040MIN</th>\n      <td>62748</td>\n      <td>NBA</td>\n      <td>0</td>\n      <td>2015</td>\n      <td>3/4/2015</td>\n      <td>60</td>\n      <td>0</td>\n      <td>MIN</td>\n      <td>Timberwolves</td>\n      <td>85</td>\n      <td>1360.1581</td>\n      <td>1341.7996</td>\n      <td>24.851854</td>\n      <td>DEN</td>\n      <td>Nuggets</td>\n      <td>100</td>\n      <td>1366.9797</td>\n      <td>1385.3383</td>\n      <td>H</td>\n      <td>L</td>\n      <td>0.630969</td>\n      <td>NaN</td>\n      <td>n</td>\n    </tr>\n    <tr>\n      <th>201503040MIN</th>\n      <td>62748</td>\n      <td>NBA</td>\n      <td>1</td>\n      <td>2015</td>\n      <td>3/4/2015</td>\n      <td>61</td>\n      <td>0</td>\n      <td>DEN</td>\n      <td>Nuggets</td>\n      <td>100</td>\n      <td>1366.9797</td>\n      <td>1385.3383</td>\n      <td>28.870102</td>\n      <td>MIN</td>\n      <td>Timberwolves</td>\n      <td>85</td>\n      <td>1360.1581</td>\n      <td>1341.7996</td>\n      <td>A</td>\n      <td>W</td>\n      <td>0.369031</td>\n      <td>NaN</td>\n      <td>n</td>\n    </tr>\n  </tbody>\n</table>\n</div>"
     },
     "metadata": {},
     "execution_count": 29
    }
   ],
   "source": [
    "data.loc['201503040MIN']"
   ]
  },
  {
   "cell_type": "markdown",
   "metadata": {},
   "source": [
    "### Using iloc, grab the datasets 899th game."
   ]
  },
  {
   "cell_type": "code",
   "execution_count": 16,
   "metadata": {},
   "outputs": [
    {
     "output_type": "execute_result",
     "data": {
      "text/plain": "gameorder              450\nlg_id                  NBA\n_iscopy                  1\nyear_id               1948\ndate_game        1/19/1948\nseasongame              26\nis_playoffs              0\nteam_id                PHW\nfran_id           Warriors\npts                     63\nelo_i              1396.61\nelo_n              1407.95\nwin_equiv          42.1854\nopp_id                 NYK\nopp_fran            Knicks\nopp_pts                 57\nopp_elo_i          1414.97\nopp_elo_n          1403.63\ngame_location            A\ngame_result              W\nforecast          0.335958\nnotes                  NaN\nhigh_scores              n\nName: 194801190NYK, dtype: object"
     },
     "metadata": {},
     "execution_count": 16
    }
   ],
   "source": [
    "data.iloc[898]"
   ]
  },
  {
   "cell_type": "markdown",
   "metadata": {},
   "source": [
    "### Count the values of the high_scores feature. Discuss the impact of scoring over 100 in a basketball game based on the analysis of the values."
   ]
  },
  {
   "cell_type": "code",
   "execution_count": 53,
   "metadata": {
    "tags": []
   },
   "outputs": [
    {
     "output_type": "execute_result",
     "data": {
      "text/plain": "70729"
     },
     "metadata": {},
     "execution_count": 53
    }
   ],
   "source": [
    "h_scores = data[data['high_scores'] == 'y']\n",
    "h_scores['high_scores'].count()"
   ]
  },
  {
   "source": [
    "The imact of scoring over 100 in a baseketball game is not impmactful. Roughly 56% of all games are scoring over 100 points in a game. "
   ],
   "cell_type": "markdown",
   "metadata": {}
  },
  {
   "source": [
    "# Bonus Points: \n",
    "### Create a subset of this dataset and do a brief analysis on it. An example of a subset would be fran_id, pts, and result. "
   ],
   "cell_type": "markdown",
   "metadata": {}
  },
  {
   "cell_type": "code",
   "execution_count": 68,
   "metadata": {},
   "outputs": [
    {
     "output_type": "execute_result",
     "data": {
      "text/plain": "                fran_id  pts   opp_fran  opp_pts high_scores\ngame_id                                                     \n194611010TRH    Huskies   66     Knicks       68           n\n194611010TRH     Knicks   68    Huskies       66           n\n194611020CHS      Stags   63     Knicks       47           n\n194611020CHS     Knicks   47      Stags       63           n\n194611020DTF    Falcons   33   Capitols       50           n\n...                 ...  ...        ...      ...         ...\n201506110CLE  Cavaliers   82   Warriors      103           y\n201506140GSW   Warriors  104  Cavaliers       91           n\n201506140GSW  Cavaliers   91   Warriors      104           y\n201506170CLE  Cavaliers   97   Warriors      105           y\n201506170CLE   Warriors  105  Cavaliers       97           n\n\n[126314 rows x 5 columns]",
      "text/html": "<div>\n<style scoped>\n    .dataframe tbody tr th:only-of-type {\n        vertical-align: middle;\n    }\n\n    .dataframe tbody tr th {\n        vertical-align: top;\n    }\n\n    .dataframe thead th {\n        text-align: right;\n    }\n</style>\n<table border=\"1\" class=\"dataframe\">\n  <thead>\n    <tr style=\"text-align: right;\">\n      <th></th>\n      <th>fran_id</th>\n      <th>pts</th>\n      <th>opp_fran</th>\n      <th>opp_pts</th>\n      <th>high_scores</th>\n    </tr>\n    <tr>\n      <th>game_id</th>\n      <th></th>\n      <th></th>\n      <th></th>\n      <th></th>\n      <th></th>\n    </tr>\n  </thead>\n  <tbody>\n    <tr>\n      <th>194611010TRH</th>\n      <td>Huskies</td>\n      <td>66</td>\n      <td>Knicks</td>\n      <td>68</td>\n      <td>n</td>\n    </tr>\n    <tr>\n      <th>194611010TRH</th>\n      <td>Knicks</td>\n      <td>68</td>\n      <td>Huskies</td>\n      <td>66</td>\n      <td>n</td>\n    </tr>\n    <tr>\n      <th>194611020CHS</th>\n      <td>Stags</td>\n      <td>63</td>\n      <td>Knicks</td>\n      <td>47</td>\n      <td>n</td>\n    </tr>\n    <tr>\n      <th>194611020CHS</th>\n      <td>Knicks</td>\n      <td>47</td>\n      <td>Stags</td>\n      <td>63</td>\n      <td>n</td>\n    </tr>\n    <tr>\n      <th>194611020DTF</th>\n      <td>Falcons</td>\n      <td>33</td>\n      <td>Capitols</td>\n      <td>50</td>\n      <td>n</td>\n    </tr>\n    <tr>\n      <th>...</th>\n      <td>...</td>\n      <td>...</td>\n      <td>...</td>\n      <td>...</td>\n      <td>...</td>\n    </tr>\n    <tr>\n      <th>201506110CLE</th>\n      <td>Cavaliers</td>\n      <td>82</td>\n      <td>Warriors</td>\n      <td>103</td>\n      <td>y</td>\n    </tr>\n    <tr>\n      <th>201506140GSW</th>\n      <td>Warriors</td>\n      <td>104</td>\n      <td>Cavaliers</td>\n      <td>91</td>\n      <td>n</td>\n    </tr>\n    <tr>\n      <th>201506140GSW</th>\n      <td>Cavaliers</td>\n      <td>91</td>\n      <td>Warriors</td>\n      <td>104</td>\n      <td>y</td>\n    </tr>\n    <tr>\n      <th>201506170CLE</th>\n      <td>Cavaliers</td>\n      <td>97</td>\n      <td>Warriors</td>\n      <td>105</td>\n      <td>y</td>\n    </tr>\n    <tr>\n      <th>201506170CLE</th>\n      <td>Warriors</td>\n      <td>105</td>\n      <td>Cavaliers</td>\n      <td>97</td>\n      <td>n</td>\n    </tr>\n  </tbody>\n</table>\n<p>126314 rows × 5 columns</p>\n</div>"
     },
     "metadata": {},
     "execution_count": 68
    }
   ],
   "source": [
    "subset = data[['fran_id', 'pts', 'opp_fran', 'opp_pts', 'high_scores']]\n",
    "subset"
   ]
  },
  {
   "cell_type": "code",
   "execution_count": 70,
   "metadata": {},
   "outputs": [
    {
     "output_type": "execute_result",
     "data": {
      "text/plain": "                 pts        opp_pts\ncount  126314.000000  126314.000000\nmean      102.729982     102.729982\nstd        14.814845      14.814845\nmin         0.000000       0.000000\n25%        93.000000      93.000000\n50%       103.000000     103.000000\n75%       112.000000     112.000000\nmax       186.000000     186.000000",
      "text/html": "<div>\n<style scoped>\n    .dataframe tbody tr th:only-of-type {\n        vertical-align: middle;\n    }\n\n    .dataframe tbody tr th {\n        vertical-align: top;\n    }\n\n    .dataframe thead th {\n        text-align: right;\n    }\n</style>\n<table border=\"1\" class=\"dataframe\">\n  <thead>\n    <tr style=\"text-align: right;\">\n      <th></th>\n      <th>pts</th>\n      <th>opp_pts</th>\n    </tr>\n  </thead>\n  <tbody>\n    <tr>\n      <th>count</th>\n      <td>126314.000000</td>\n      <td>126314.000000</td>\n    </tr>\n    <tr>\n      <th>mean</th>\n      <td>102.729982</td>\n      <td>102.729982</td>\n    </tr>\n    <tr>\n      <th>std</th>\n      <td>14.814845</td>\n      <td>14.814845</td>\n    </tr>\n    <tr>\n      <th>min</th>\n      <td>0.000000</td>\n      <td>0.000000</td>\n    </tr>\n    <tr>\n      <th>25%</th>\n      <td>93.000000</td>\n      <td>93.000000</td>\n    </tr>\n    <tr>\n      <th>50%</th>\n      <td>103.000000</td>\n      <td>103.000000</td>\n    </tr>\n    <tr>\n      <th>75%</th>\n      <td>112.000000</td>\n      <td>112.000000</td>\n    </tr>\n    <tr>\n      <th>max</th>\n      <td>186.000000</td>\n      <td>186.000000</td>\n    </tr>\n  </tbody>\n</table>\n</div>"
     },
     "metadata": {},
     "execution_count": 70
    }
   ],
   "source": [
    "subset.describe()"
   ]
  },
  {
   "cell_type": "code",
   "execution_count": 74,
   "metadata": {},
   "outputs": [
    {
     "output_type": "execute_result",
     "data": {
      "text/plain": "              fran_id  pts opp_fran  opp_pts high_scores\ngame_id                                                 \n198312130DEN  Pistons  186  Nuggets      184           y",
      "text/html": "<div>\n<style scoped>\n    .dataframe tbody tr th:only-of-type {\n        vertical-align: middle;\n    }\n\n    .dataframe tbody tr th {\n        vertical-align: top;\n    }\n\n    .dataframe thead th {\n        text-align: right;\n    }\n</style>\n<table border=\"1\" class=\"dataframe\">\n  <thead>\n    <tr style=\"text-align: right;\">\n      <th></th>\n      <th>fran_id</th>\n      <th>pts</th>\n      <th>opp_fran</th>\n      <th>opp_pts</th>\n      <th>high_scores</th>\n    </tr>\n    <tr>\n      <th>game_id</th>\n      <th></th>\n      <th></th>\n      <th></th>\n      <th></th>\n      <th></th>\n    </tr>\n  </thead>\n  <tbody>\n    <tr>\n      <th>198312130DEN</th>\n      <td>Pistons</td>\n      <td>186</td>\n      <td>Nuggets</td>\n      <td>184</td>\n      <td>y</td>\n    </tr>\n  </tbody>\n</table>\n</div>"
     },
     "metadata": {},
     "execution_count": 74
    }
   ],
   "source": [
    "subset[subset['pts'] == 186]"
   ]
  }
 ],
 "metadata": {
  "kernelspec": {
   "display_name": "Python 3",
   "language": "python",
   "name": "python3"
  },
  "language_info": {
   "codemirror_mode": {
    "name": "ipython",
    "version": 3
   },
   "file_extension": ".py",
   "mimetype": "text/x-python",
   "name": "python",
   "nbconvert_exporter": "python",
   "pygments_lexer": "ipython3",
   "version": "3.8.3-final"
  }
 },
 "nbformat": 4,
 "nbformat_minor": 2
}