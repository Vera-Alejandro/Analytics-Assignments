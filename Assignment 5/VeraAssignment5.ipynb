{
 "cells": [
  {
   "cell_type": "markdown",
   "metadata": {},
   "source": [
    "# VeraAssignment05 - Importing and Cleaning Data\n",
    "## The Three Datasets\n",
    "## Book Publishers Dataset"
   ]
  },
  {
   "cell_type": "markdown",
   "metadata": {},
   "source": [
    "### Import the book publishers dataset as a csv and print the head."
   ]
  },
  {
   "cell_type": "code",
   "execution_count": 1,
   "metadata": {},
   "outputs": [
    {
     "output_type": "execute_result",
     "data": {
      "text/plain": [
       "   Identifier              Edition Statement  \\\n",
       "0         206                            NaN   \n",
       "1         216                            NaN   \n",
       "2         218                            NaN   \n",
       "3         472                            NaN   \n",
       "4         480   A new edition, revised, etc.   \n",
       "5         481  Fourth edition, revised, etc.   \n",
       "6         519                            NaN   \n",
       "7         667                            NaN   \n",
       "8         874                            NaN   \n",
       "9        1143                            NaN   \n",
       "\n",
       "                  Place of Publication Date of Publication  \\\n",
       "0                               London         1879 [1878]   \n",
       "1             London; Virtue & Yorston                1868   \n",
       "2                               London                1869   \n",
       "3                               London                1851   \n",
       "4                               London                1857   \n",
       "5                               London                1875   \n",
       "6                               London                1872   \n",
       "7  pp. 40. G. Bryan & Co: Oxford, 1898                 NaN   \n",
       "8                              London]                1676   \n",
       "9                               London                1679   \n",
       "\n",
       "               Publisher                                              Title  \\\n",
       "0       S. Tinsley & Co.                  Walter Forbes. [A novel.] By A. A   \n",
       "1           Virtue & Co.  All for Greed. [A novel. The dedication signed...   \n",
       "2  Bradbury, Evans & Co.  Love the Avenger. By the author of “All for Gr...   \n",
       "3          James Darling  Welsh Sketches, chiefly ecclesiastical, to the...   \n",
       "4   Wertheim & Macintosh  [The World in which I live, and my place in it...   \n",
       "5      William Macintosh  [The World in which I live, and my place in it...   \n",
       "6             The Author  Lagonells. By the author of Darmayne (F. E. A....   \n",
       "7                    NaN  The Coming of Spring, and other poems. By J. A...   \n",
       "8                    NaN  A Warning to the inhabitants of England, and L...   \n",
       "9                    NaN  A Satyr against Vertue. (A poem: supposed to b...   \n",
       "\n",
       "          Author                                  Contributors  \\\n",
       "0          A. A.                               FORBES, Walter.   \n",
       "1      A., A. A.  BLAZE DE BURY, Marie Pauline Rose - Baroness   \n",
       "2      A., A. A.  BLAZE DE BURY, Marie Pauline Rose - Baroness   \n",
       "3      A., E. S.                   Appleyard, Ernest Silvanus.   \n",
       "4      A., E. S.                           BROOME, John Henry.   \n",
       "5      A., E. S.                           BROOME, John Henry.   \n",
       "6      A., F. E.                       ASHLEY, Florence Emily.   \n",
       "7  A., J.|A., J.                 ANDREWS, J. - Writer of Verse   \n",
       "8         Remaʿ.                                  ADAMS, Mary.   \n",
       "9         A., T.                                 OLDHAM, John.   \n",
       "\n",
       "   Corporate Author  Corporate Contributors Former owner  Engraver  \\\n",
       "0               NaN                     NaN          NaN       NaN   \n",
       "1               NaN                     NaN          NaN       NaN   \n",
       "2               NaN                     NaN          NaN       NaN   \n",
       "3               NaN                     NaN          NaN       NaN   \n",
       "4               NaN                     NaN          NaN       NaN   \n",
       "5               NaN                     NaN          NaN       NaN   \n",
       "6               NaN                     NaN          NaN       NaN   \n",
       "7               NaN                     NaN          NaN       NaN   \n",
       "8               NaN                     NaN          NaN       NaN   \n",
       "9               NaN                     NaN          NaN       NaN   \n",
       "\n",
       "  Issuance type                                         Flickr URL  \\\n",
       "0   monographic  http://www.flickr.com/photos/britishlibrary/ta...   \n",
       "1   monographic  http://www.flickr.com/photos/britishlibrary/ta...   \n",
       "2   monographic  http://www.flickr.com/photos/britishlibrary/ta...   \n",
       "3   monographic  http://www.flickr.com/photos/britishlibrary/ta...   \n",
       "4   monographic  http://www.flickr.com/photos/britishlibrary/ta...   \n",
       "5   monographic  http://www.flickr.com/photos/britishlibrary/ta...   \n",
       "6   monographic  http://www.flickr.com/photos/britishlibrary/ta...   \n",
       "7   monographic  http://www.flickr.com/photos/britishlibrary/ta...   \n",
       "8   monographic  http://www.flickr.com/photos/britishlibrary/ta...   \n",
       "9   monographic  http://www.flickr.com/photos/britishlibrary/ta...   \n",
       "\n",
       "                               Shelfmarks  \n",
       "0       British Library HMNTS 12641.b.30.  \n",
       "1       British Library HMNTS 12626.cc.2.  \n",
       "2       British Library HMNTS 12625.dd.1.  \n",
       "3     British Library HMNTS 10369.bbb.15.  \n",
       "4        British Library HMNTS 9007.d.28.  \n",
       "5       British Library HMNTS 9006.ee.10.  \n",
       "6        British Library HMNTS 12637.e.3.  \n",
       "7      British Library HMNTS 011652.g.73.  \n",
       "8      British Library HMNTS 11645.bb.42.  \n",
       "9  British Library HMNTS 11602.ee.10.(2.)  "
      ],
      "text/html": "<div>\n<style scoped>\n    .dataframe tbody tr th:only-of-type {\n        vertical-align: middle;\n    }\n\n    .dataframe tbody tr th {\n        vertical-align: top;\n    }\n\n    .dataframe thead th {\n        text-align: right;\n    }\n</style>\n<table border=\"1\" class=\"dataframe\">\n  <thead>\n    <tr style=\"text-align: right;\">\n      <th></th>\n      <th>Identifier</th>\n      <th>Edition Statement</th>\n      <th>Place of Publication</th>\n      <th>Date of Publication</th>\n      <th>Publisher</th>\n      <th>Title</th>\n      <th>Author</th>\n      <th>Contributors</th>\n      <th>Corporate Author</th>\n      <th>Corporate Contributors</th>\n      <th>Former owner</th>\n      <th>Engraver</th>\n      <th>Issuance type</th>\n      <th>Flickr URL</th>\n      <th>Shelfmarks</th>\n    </tr>\n  </thead>\n  <tbody>\n    <tr>\n      <th>0</th>\n      <td>206</td>\n      <td>NaN</td>\n      <td>London</td>\n      <td>1879 [1878]</td>\n      <td>S. Tinsley &amp; Co.</td>\n      <td>Walter Forbes. [A novel.] By A. A</td>\n      <td>A. A.</td>\n      <td>FORBES, Walter.</td>\n      <td>NaN</td>\n      <td>NaN</td>\n      <td>NaN</td>\n      <td>NaN</td>\n      <td>monographic</td>\n      <td>http://www.flickr.com/photos/britishlibrary/ta...</td>\n      <td>British Library HMNTS 12641.b.30.</td>\n    </tr>\n    <tr>\n      <th>1</th>\n      <td>216</td>\n      <td>NaN</td>\n      <td>London; Virtue &amp; Yorston</td>\n      <td>1868</td>\n      <td>Virtue &amp; Co.</td>\n      <td>All for Greed. [A novel. The dedication signed...</td>\n      <td>A., A. A.</td>\n      <td>BLAZE DE BURY, Marie Pauline Rose - Baroness</td>\n      <td>NaN</td>\n      <td>NaN</td>\n      <td>NaN</td>\n      <td>NaN</td>\n      <td>monographic</td>\n      <td>http://www.flickr.com/photos/britishlibrary/ta...</td>\n      <td>British Library HMNTS 12626.cc.2.</td>\n    </tr>\n    <tr>\n      <th>2</th>\n      <td>218</td>\n      <td>NaN</td>\n      <td>London</td>\n      <td>1869</td>\n      <td>Bradbury, Evans &amp; Co.</td>\n      <td>Love the Avenger. By the author of “All for Gr...</td>\n      <td>A., A. A.</td>\n      <td>BLAZE DE BURY, Marie Pauline Rose - Baroness</td>\n      <td>NaN</td>\n      <td>NaN</td>\n      <td>NaN</td>\n      <td>NaN</td>\n      <td>monographic</td>\n      <td>http://www.flickr.com/photos/britishlibrary/ta...</td>\n      <td>British Library HMNTS 12625.dd.1.</td>\n    </tr>\n    <tr>\n      <th>3</th>\n      <td>472</td>\n      <td>NaN</td>\n      <td>London</td>\n      <td>1851</td>\n      <td>James Darling</td>\n      <td>Welsh Sketches, chiefly ecclesiastical, to the...</td>\n      <td>A., E. S.</td>\n      <td>Appleyard, Ernest Silvanus.</td>\n      <td>NaN</td>\n      <td>NaN</td>\n      <td>NaN</td>\n      <td>NaN</td>\n      <td>monographic</td>\n      <td>http://www.flickr.com/photos/britishlibrary/ta...</td>\n      <td>British Library HMNTS 10369.bbb.15.</td>\n    </tr>\n    <tr>\n      <th>4</th>\n      <td>480</td>\n      <td>A new edition, revised, etc.</td>\n      <td>London</td>\n      <td>1857</td>\n      <td>Wertheim &amp; Macintosh</td>\n      <td>[The World in which I live, and my place in it...</td>\n      <td>A., E. S.</td>\n      <td>BROOME, John Henry.</td>\n      <td>NaN</td>\n      <td>NaN</td>\n      <td>NaN</td>\n      <td>NaN</td>\n      <td>monographic</td>\n      <td>http://www.flickr.com/photos/britishlibrary/ta...</td>\n      <td>British Library HMNTS 9007.d.28.</td>\n    </tr>\n    <tr>\n      <th>5</th>\n      <td>481</td>\n      <td>Fourth edition, revised, etc.</td>\n      <td>London</td>\n      <td>1875</td>\n      <td>William Macintosh</td>\n      <td>[The World in which I live, and my place in it...</td>\n      <td>A., E. S.</td>\n      <td>BROOME, John Henry.</td>\n      <td>NaN</td>\n      <td>NaN</td>\n      <td>NaN</td>\n      <td>NaN</td>\n      <td>monographic</td>\n      <td>http://www.flickr.com/photos/britishlibrary/ta...</td>\n      <td>British Library HMNTS 9006.ee.10.</td>\n    </tr>\n    <tr>\n      <th>6</th>\n      <td>519</td>\n      <td>NaN</td>\n      <td>London</td>\n      <td>1872</td>\n      <td>The Author</td>\n      <td>Lagonells. By the author of Darmayne (F. E. A....</td>\n      <td>A., F. E.</td>\n      <td>ASHLEY, Florence Emily.</td>\n      <td>NaN</td>\n      <td>NaN</td>\n      <td>NaN</td>\n      <td>NaN</td>\n      <td>monographic</td>\n      <td>http://www.flickr.com/photos/britishlibrary/ta...</td>\n      <td>British Library HMNTS 12637.e.3.</td>\n    </tr>\n    <tr>\n      <th>7</th>\n      <td>667</td>\n      <td>NaN</td>\n      <td>pp. 40. G. Bryan &amp; Co: Oxford, 1898</td>\n      <td>NaN</td>\n      <td>NaN</td>\n      <td>The Coming of Spring, and other poems. By J. A...</td>\n      <td>A., J.|A., J.</td>\n      <td>ANDREWS, J. - Writer of Verse</td>\n      <td>NaN</td>\n      <td>NaN</td>\n      <td>NaN</td>\n      <td>NaN</td>\n      <td>monographic</td>\n      <td>http://www.flickr.com/photos/britishlibrary/ta...</td>\n      <td>British Library HMNTS 011652.g.73.</td>\n    </tr>\n    <tr>\n      <th>8</th>\n      <td>874</td>\n      <td>NaN</td>\n      <td>London]</td>\n      <td>1676</td>\n      <td>NaN</td>\n      <td>A Warning to the inhabitants of England, and L...</td>\n      <td>Remaʿ.</td>\n      <td>ADAMS, Mary.</td>\n      <td>NaN</td>\n      <td>NaN</td>\n      <td>NaN</td>\n      <td>NaN</td>\n      <td>monographic</td>\n      <td>http://www.flickr.com/photos/britishlibrary/ta...</td>\n      <td>British Library HMNTS 11645.bb.42.</td>\n    </tr>\n    <tr>\n      <th>9</th>\n      <td>1143</td>\n      <td>NaN</td>\n      <td>London</td>\n      <td>1679</td>\n      <td>NaN</td>\n      <td>A Satyr against Vertue. (A poem: supposed to b...</td>\n      <td>A., T.</td>\n      <td>OLDHAM, John.</td>\n      <td>NaN</td>\n      <td>NaN</td>\n      <td>NaN</td>\n      <td>NaN</td>\n      <td>monographic</td>\n      <td>http://www.flickr.com/photos/britishlibrary/ta...</td>\n      <td>British Library HMNTS 11602.ee.10.(2.)</td>\n    </tr>\n  </tbody>\n</table>\n</div>"
     },
     "metadata": {},
     "execution_count": 1
    }
   ],
   "source": [
    "import pandas as pd\n",
    "\n",
    "# import the csv fromo the file using pandas\n",
    "book_pub = pd.read_csv('Datasets/book-publishers.csv')\n",
    "\n",
    "# print the head of the Book Publisher\n",
    "book_pub.head(10)"
   ]
  },
  {
   "cell_type": "markdown",
   "metadata": {},
   "source": [
    "### Put these columns into a list (you will need to store them in a variable): \n",
    "            'Edition Statement',\n",
    "            'Corporate Author',\n",
    "            'Corporate Contributors',\n",
    "            'Former owner',\n",
    "            'Engraver',\n",
    "            'Contributors',\n",
    "            'Issuance type',\n",
    "            'Shelfmarks'\n",
    "### Use that list to drop them from the dataset using inplace. Make sure to specify the axis."
   ]
  },
  {
   "cell_type": "code",
   "execution_count": 2,
   "metadata": {},
   "outputs": [],
   "source": [
    "test = ['Edition Statement',\n",
    "        'Corporate Author',\n",
    "        'Corporate Contributors',\n",
    "        'Former owner',\n",
    "        'Engraver',\n",
    "        'Contributors',\n",
    "        'Issuance type',\n",
    "        'Shelfmarks']\n",
    "\n",
    "#drop the columns in the list test\n",
    "book_pub.drop(test, axis=1, inplace=True, )"
   ]
  },
  {
   "cell_type": "markdown",
   "metadata": {},
   "source": [
    "### Print the head of the dataset after dropping the columns."
   ]
  },
  {
   "cell_type": "code",
   "execution_count": 3,
   "metadata": {},
   "outputs": [
    {
     "output_type": "execute_result",
     "data": {
      "text/plain": [
       "   Identifier                 Place of Publication Date of Publication  \\\n",
       "0         206                               London         1879 [1878]   \n",
       "1         216             London; Virtue & Yorston                1868   \n",
       "2         218                               London                1869   \n",
       "3         472                               London                1851   \n",
       "4         480                               London                1857   \n",
       "5         481                               London                1875   \n",
       "6         519                               London                1872   \n",
       "7         667  pp. 40. G. Bryan & Co: Oxford, 1898                 NaN   \n",
       "8         874                              London]                1676   \n",
       "9        1143                               London                1679   \n",
       "\n",
       "               Publisher                                              Title  \\\n",
       "0       S. Tinsley & Co.                  Walter Forbes. [A novel.] By A. A   \n",
       "1           Virtue & Co.  All for Greed. [A novel. The dedication signed...   \n",
       "2  Bradbury, Evans & Co.  Love the Avenger. By the author of “All for Gr...   \n",
       "3          James Darling  Welsh Sketches, chiefly ecclesiastical, to the...   \n",
       "4   Wertheim & Macintosh  [The World in which I live, and my place in it...   \n",
       "5      William Macintosh  [The World in which I live, and my place in it...   \n",
       "6             The Author  Lagonells. By the author of Darmayne (F. E. A....   \n",
       "7                    NaN  The Coming of Spring, and other poems. By J. A...   \n",
       "8                    NaN  A Warning to the inhabitants of England, and L...   \n",
       "9                    NaN  A Satyr against Vertue. (A poem: supposed to b...   \n",
       "\n",
       "          Author                                         Flickr URL  \n",
       "0          A. A.  http://www.flickr.com/photos/britishlibrary/ta...  \n",
       "1      A., A. A.  http://www.flickr.com/photos/britishlibrary/ta...  \n",
       "2      A., A. A.  http://www.flickr.com/photos/britishlibrary/ta...  \n",
       "3      A., E. S.  http://www.flickr.com/photos/britishlibrary/ta...  \n",
       "4      A., E. S.  http://www.flickr.com/photos/britishlibrary/ta...  \n",
       "5      A., E. S.  http://www.flickr.com/photos/britishlibrary/ta...  \n",
       "6      A., F. E.  http://www.flickr.com/photos/britishlibrary/ta...  \n",
       "7  A., J.|A., J.  http://www.flickr.com/photos/britishlibrary/ta...  \n",
       "8         Remaʿ.  http://www.flickr.com/photos/britishlibrary/ta...  \n",
       "9         A., T.  http://www.flickr.com/photos/britishlibrary/ta...  "
      ],
      "text/html": "<div>\n<style scoped>\n    .dataframe tbody tr th:only-of-type {\n        vertical-align: middle;\n    }\n\n    .dataframe tbody tr th {\n        vertical-align: top;\n    }\n\n    .dataframe thead th {\n        text-align: right;\n    }\n</style>\n<table border=\"1\" class=\"dataframe\">\n  <thead>\n    <tr style=\"text-align: right;\">\n      <th></th>\n      <th>Identifier</th>\n      <th>Place of Publication</th>\n      <th>Date of Publication</th>\n      <th>Publisher</th>\n      <th>Title</th>\n      <th>Author</th>\n      <th>Flickr URL</th>\n    </tr>\n  </thead>\n  <tbody>\n    <tr>\n      <th>0</th>\n      <td>206</td>\n      <td>London</td>\n      <td>1879 [1878]</td>\n      <td>S. Tinsley &amp; Co.</td>\n      <td>Walter Forbes. [A novel.] By A. A</td>\n      <td>A. A.</td>\n      <td>http://www.flickr.com/photos/britishlibrary/ta...</td>\n    </tr>\n    <tr>\n      <th>1</th>\n      <td>216</td>\n      <td>London; Virtue &amp; Yorston</td>\n      <td>1868</td>\n      <td>Virtue &amp; Co.</td>\n      <td>All for Greed. [A novel. The dedication signed...</td>\n      <td>A., A. A.</td>\n      <td>http://www.flickr.com/photos/britishlibrary/ta...</td>\n    </tr>\n    <tr>\n      <th>2</th>\n      <td>218</td>\n      <td>London</td>\n      <td>1869</td>\n      <td>Bradbury, Evans &amp; Co.</td>\n      <td>Love the Avenger. By the author of “All for Gr...</td>\n      <td>A., A. A.</td>\n      <td>http://www.flickr.com/photos/britishlibrary/ta...</td>\n    </tr>\n    <tr>\n      <th>3</th>\n      <td>472</td>\n      <td>London</td>\n      <td>1851</td>\n      <td>James Darling</td>\n      <td>Welsh Sketches, chiefly ecclesiastical, to the...</td>\n      <td>A., E. S.</td>\n      <td>http://www.flickr.com/photos/britishlibrary/ta...</td>\n    </tr>\n    <tr>\n      <th>4</th>\n      <td>480</td>\n      <td>London</td>\n      <td>1857</td>\n      <td>Wertheim &amp; Macintosh</td>\n      <td>[The World in which I live, and my place in it...</td>\n      <td>A., E. S.</td>\n      <td>http://www.flickr.com/photos/britishlibrary/ta...</td>\n    </tr>\n    <tr>\n      <th>5</th>\n      <td>481</td>\n      <td>London</td>\n      <td>1875</td>\n      <td>William Macintosh</td>\n      <td>[The World in which I live, and my place in it...</td>\n      <td>A., E. S.</td>\n      <td>http://www.flickr.com/photos/britishlibrary/ta...</td>\n    </tr>\n    <tr>\n      <th>6</th>\n      <td>519</td>\n      <td>London</td>\n      <td>1872</td>\n      <td>The Author</td>\n      <td>Lagonells. By the author of Darmayne (F. E. A....</td>\n      <td>A., F. E.</td>\n      <td>http://www.flickr.com/photos/britishlibrary/ta...</td>\n    </tr>\n    <tr>\n      <th>7</th>\n      <td>667</td>\n      <td>pp. 40. G. Bryan &amp; Co: Oxford, 1898</td>\n      <td>NaN</td>\n      <td>NaN</td>\n      <td>The Coming of Spring, and other poems. By J. A...</td>\n      <td>A., J.|A., J.</td>\n      <td>http://www.flickr.com/photos/britishlibrary/ta...</td>\n    </tr>\n    <tr>\n      <th>8</th>\n      <td>874</td>\n      <td>London]</td>\n      <td>1676</td>\n      <td>NaN</td>\n      <td>A Warning to the inhabitants of England, and L...</td>\n      <td>Remaʿ.</td>\n      <td>http://www.flickr.com/photos/britishlibrary/ta...</td>\n    </tr>\n    <tr>\n      <th>9</th>\n      <td>1143</td>\n      <td>London</td>\n      <td>1679</td>\n      <td>NaN</td>\n      <td>A Satyr against Vertue. (A poem: supposed to b...</td>\n      <td>A., T.</td>\n      <td>http://www.flickr.com/photos/britishlibrary/ta...</td>\n    </tr>\n  </tbody>\n</table>\n</div>"
     },
     "metadata": {},
     "execution_count": 3
    }
   ],
   "source": [
    "book_pub.head(10)"
   ]
  },
  {
   "cell_type": "markdown",
   "metadata": {},
   "source": [
    "### Check to see if the column \"Identifier\" is a unique column. This is important because we need to have an index in our dataset."
   ]
  },
  {
   "cell_type": "code",
   "execution_count": 4,
   "metadata": {},
   "outputs": [
    {
     "output_type": "execute_result",
     "data": {
      "text/plain": [
       "True"
      ]
     },
     "metadata": {},
     "execution_count": 4
    }
   ],
   "source": [
    "#check to see if the Identifier column is unique\n",
    "pd.Series('Identifier').is_unique"
   ]
  },
  {
   "cell_type": "markdown",
   "metadata": {},
   "source": [
    "### Use Set Index to set the index as the \"Identifier\" column."
   ]
  },
  {
   "cell_type": "code",
   "execution_count": 5,
   "metadata": {},
   "outputs": [],
   "source": [
    "# set the index of the dataset to Identifier\n",
    "book_pub.set_index('Identifier', inplace=True)"
   ]
  },
  {
   "cell_type": "code",
   "execution_count": 6,
   "metadata": {},
   "outputs": [
    {
     "output_type": "execute_result",
     "data": {
      "text/plain": [
       "                           Place of Publication Date of Publication  \\\n",
       "Identifier                                                            \n",
       "206                                      London         1879 [1878]   \n",
       "216                    London; Virtue & Yorston                1868   \n",
       "218                                      London                1869   \n",
       "472                                      London                1851   \n",
       "480                                      London                1857   \n",
       "481                                      London                1875   \n",
       "519                                      London                1872   \n",
       "667         pp. 40. G. Bryan & Co: Oxford, 1898                 NaN   \n",
       "874                                     London]                1676   \n",
       "1143                                     London                1679   \n",
       "\n",
       "                        Publisher  \\\n",
       "Identifier                          \n",
       "206              S. Tinsley & Co.   \n",
       "216                  Virtue & Co.   \n",
       "218         Bradbury, Evans & Co.   \n",
       "472                 James Darling   \n",
       "480          Wertheim & Macintosh   \n",
       "481             William Macintosh   \n",
       "519                    The Author   \n",
       "667                           NaN   \n",
       "874                           NaN   \n",
       "1143                          NaN   \n",
       "\n",
       "                                                        Title         Author  \\\n",
       "Identifier                                                                     \n",
       "206                         Walter Forbes. [A novel.] By A. A          A. A.   \n",
       "216         All for Greed. [A novel. The dedication signed...      A., A. A.   \n",
       "218         Love the Avenger. By the author of “All for Gr...      A., A. A.   \n",
       "472         Welsh Sketches, chiefly ecclesiastical, to the...      A., E. S.   \n",
       "480         [The World in which I live, and my place in it...      A., E. S.   \n",
       "481         [The World in which I live, and my place in it...      A., E. S.   \n",
       "519         Lagonells. By the author of Darmayne (F. E. A....      A., F. E.   \n",
       "667         The Coming of Spring, and other poems. By J. A...  A., J.|A., J.   \n",
       "874         A Warning to the inhabitants of England, and L...         Remaʿ.   \n",
       "1143        A Satyr against Vertue. (A poem: supposed to b...         A., T.   \n",
       "\n",
       "                                                   Flickr URL  \n",
       "Identifier                                                     \n",
       "206         http://www.flickr.com/photos/britishlibrary/ta...  \n",
       "216         http://www.flickr.com/photos/britishlibrary/ta...  \n",
       "218         http://www.flickr.com/photos/britishlibrary/ta...  \n",
       "472         http://www.flickr.com/photos/britishlibrary/ta...  \n",
       "480         http://www.flickr.com/photos/britishlibrary/ta...  \n",
       "481         http://www.flickr.com/photos/britishlibrary/ta...  \n",
       "519         http://www.flickr.com/photos/britishlibrary/ta...  \n",
       "667         http://www.flickr.com/photos/britishlibrary/ta...  \n",
       "874         http://www.flickr.com/photos/britishlibrary/ta...  \n",
       "1143        http://www.flickr.com/photos/britishlibrary/ta...  "
      ],
      "text/html": "<div>\n<style scoped>\n    .dataframe tbody tr th:only-of-type {\n        vertical-align: middle;\n    }\n\n    .dataframe tbody tr th {\n        vertical-align: top;\n    }\n\n    .dataframe thead th {\n        text-align: right;\n    }\n</style>\n<table border=\"1\" class=\"dataframe\">\n  <thead>\n    <tr style=\"text-align: right;\">\n      <th></th>\n      <th>Place of Publication</th>\n      <th>Date of Publication</th>\n      <th>Publisher</th>\n      <th>Title</th>\n      <th>Author</th>\n      <th>Flickr URL</th>\n    </tr>\n    <tr>\n      <th>Identifier</th>\n      <th></th>\n      <th></th>\n      <th></th>\n      <th></th>\n      <th></th>\n      <th></th>\n    </tr>\n  </thead>\n  <tbody>\n    <tr>\n      <th>206</th>\n      <td>London</td>\n      <td>1879 [1878]</td>\n      <td>S. Tinsley &amp; Co.</td>\n      <td>Walter Forbes. [A novel.] By A. A</td>\n      <td>A. A.</td>\n      <td>http://www.flickr.com/photos/britishlibrary/ta...</td>\n    </tr>\n    <tr>\n      <th>216</th>\n      <td>London; Virtue &amp; Yorston</td>\n      <td>1868</td>\n      <td>Virtue &amp; Co.</td>\n      <td>All for Greed. [A novel. The dedication signed...</td>\n      <td>A., A. A.</td>\n      <td>http://www.flickr.com/photos/britishlibrary/ta...</td>\n    </tr>\n    <tr>\n      <th>218</th>\n      <td>London</td>\n      <td>1869</td>\n      <td>Bradbury, Evans &amp; Co.</td>\n      <td>Love the Avenger. By the author of “All for Gr...</td>\n      <td>A., A. A.</td>\n      <td>http://www.flickr.com/photos/britishlibrary/ta...</td>\n    </tr>\n    <tr>\n      <th>472</th>\n      <td>London</td>\n      <td>1851</td>\n      <td>James Darling</td>\n      <td>Welsh Sketches, chiefly ecclesiastical, to the...</td>\n      <td>A., E. S.</td>\n      <td>http://www.flickr.com/photos/britishlibrary/ta...</td>\n    </tr>\n    <tr>\n      <th>480</th>\n      <td>London</td>\n      <td>1857</td>\n      <td>Wertheim &amp; Macintosh</td>\n      <td>[The World in which I live, and my place in it...</td>\n      <td>A., E. S.</td>\n      <td>http://www.flickr.com/photos/britishlibrary/ta...</td>\n    </tr>\n    <tr>\n      <th>481</th>\n      <td>London</td>\n      <td>1875</td>\n      <td>William Macintosh</td>\n      <td>[The World in which I live, and my place in it...</td>\n      <td>A., E. S.</td>\n      <td>http://www.flickr.com/photos/britishlibrary/ta...</td>\n    </tr>\n    <tr>\n      <th>519</th>\n      <td>London</td>\n      <td>1872</td>\n      <td>The Author</td>\n      <td>Lagonells. By the author of Darmayne (F. E. A....</td>\n      <td>A., F. E.</td>\n      <td>http://www.flickr.com/photos/britishlibrary/ta...</td>\n    </tr>\n    <tr>\n      <th>667</th>\n      <td>pp. 40. G. Bryan &amp; Co: Oxford, 1898</td>\n      <td>NaN</td>\n      <td>NaN</td>\n      <td>The Coming of Spring, and other poems. By J. A...</td>\n      <td>A., J.|A., J.</td>\n      <td>http://www.flickr.com/photos/britishlibrary/ta...</td>\n    </tr>\n    <tr>\n      <th>874</th>\n      <td>London]</td>\n      <td>1676</td>\n      <td>NaN</td>\n      <td>A Warning to the inhabitants of England, and L...</td>\n      <td>Remaʿ.</td>\n      <td>http://www.flickr.com/photos/britishlibrary/ta...</td>\n    </tr>\n    <tr>\n      <th>1143</th>\n      <td>London</td>\n      <td>1679</td>\n      <td>NaN</td>\n      <td>A Satyr against Vertue. (A poem: supposed to b...</td>\n      <td>A., T.</td>\n      <td>http://www.flickr.com/photos/britishlibrary/ta...</td>\n    </tr>\n  </tbody>\n</table>\n</div>"
     },
     "metadata": {},
     "execution_count": 6
    }
   ],
   "source": [
    "book_pub.head(10)"
   ]
  },
  {
   "cell_type": "markdown",
   "metadata": {},
   "source": [
    "### Use a loc statement to select the record whose Name is 206. Write in markdown about the issue with the date of publication."
   ]
  },
  {
   "cell_type": "code",
   "execution_count": 7,
   "metadata": {},
   "outputs": [
    {
     "output_type": "execute_result",
     "data": {
      "text/plain": [
       "Place of Publication                                               London\n",
       "Date of Publication                                           1879 [1878]\n",
       "Publisher                                                S. Tinsley & Co.\n",
       "Title                                   Walter Forbes. [A novel.] By A. A\n",
       "Author                                                              A. A.\n",
       "Flickr URL              http://www.flickr.com/photos/britishlibrary/ta...\n",
       "Name: 206, dtype: object"
      ]
     },
     "metadata": {},
     "execution_count": 7
    }
   ],
   "source": [
    "# Use the loc method to get the record with the name 206\n",
    "book_pub.loc[206]"
   ]
  },
  {
   "cell_type": "markdown",
   "metadata": {},
   "source": [
    "### Use a statement called get_dtype_counts() to get the data types of the data frame. Write in markdown on why this could be useful in our analysis. "
   ]
  },
  {
   "source": [
    "#### This would be useful in our analysis becasue we know what kind of data we are working with and we can use the appropriate tools to manipulate and extract the correct data we need. We know there are "
   ],
   "cell_type": "markdown",
   "metadata": {}
  },
  {
   "cell_type": "code",
   "execution_count": 8,
   "metadata": {},
   "outputs": [
    {
     "output_type": "execute_result",
     "data": {
      "text/plain": [
       "object    6\n",
       "dtype: int64"
      ]
     },
     "metadata": {},
     "execution_count": 8
    }
   ],
   "source": [
    "book_pub.dtypes.value_counts()"
   ]
  },
  {
   "cell_type": "markdown",
   "metadata": {},
   "source": [
    "### Select record 1905 and any remaining values after that using loc. Following that select the 'Date of Publication'. Print the first 10 values. What cleanup issues do we need to focus on here? Write it in markdown."
   ]
  },
  {
   "source": [
    "#### The clean up issues that we have here are that some of the values have mulitple date of publications. We should extract those out and give them their own identifier. "
   ],
   "cell_type": "markdown",
   "metadata": {}
  },
  {
   "cell_type": "code",
   "execution_count": 9,
   "metadata": {},
   "outputs": [
    {
     "output_type": "stream",
     "name": "stdout",
     "text": [
      "Identifier\n1905           1888\n1929    1839, 38-54\n2836           1897\n2854           1865\n2956        1860-63\n2957           1873\n3017           1866\n3131           1899\n4598           1814\n4884           1820\nName: Date of Publication, dtype: object\n"
     ]
    }
   ],
   "source": [
    "newer_books = book_pub.loc[1905:]\n",
    "\n",
    "print(newer_books['Date of Publication'][:10])\n"
   ]
  },
  {
   "cell_type": "markdown",
   "metadata": {},
   "source": [
    "### Describe in markdown what this statement is completing below and why it is useful to your cleanup."
   ]
  },
  {
   "source": [
    "#### The code below is a regular expression that extracts out the 4 digit values and the `expand = false` will return a series or a dataframe "
   ],
   "cell_type": "markdown",
   "metadata": {}
  },
  {
   "cell_type": "code",
   "execution_count": 10,
   "metadata": {},
   "outputs": [
    {
     "output_type": "execute_result",
     "data": {
      "text/plain": [
       "Identifier\n",
       "206    1879\n",
       "216    1868\n",
       "218    1869\n",
       "472    1851\n",
       "480    1857\n",
       "Name: Date of Publication, dtype: object"
      ]
     },
     "metadata": {},
     "execution_count": 10
    }
   ],
   "source": [
    "extr = book_pub['Date of Publication'].str.extract(r'^(\\d{4})', expand=False)\n",
    "extr.head()"
   ]
  },
  {
   "cell_type": "markdown",
   "metadata": {},
   "source": [
    "### Convert date of publication to numeric from the extracted dataset. Code has been provided for you."
   ]
  },
  {
   "cell_type": "code",
   "execution_count": 11,
   "metadata": {},
   "outputs": [
    {
     "output_type": "execute_result",
     "data": {
      "text/plain": [
       "dtype('float64')"
      ]
     },
     "metadata": {},
     "execution_count": 11
    }
   ],
   "source": [
    "book_pub['Date of Publication'] = pd.to_numeric(extr)\n",
    "book_pub['Date of Publication'].dtype"
   ]
  },
  {
   "cell_type": "markdown",
   "metadata": {},
   "source": [
    "### Describe in markdown what this statement below is completing and state to me the value of it."
   ]
  },
  {
   "source": [
    "#### The first part `isnull().sum()` return the number of missing values in Date of Publication and the `len(df)` returns the total number of values in the df. So together this is the percentage of empty values in the df"
   ],
   "cell_type": "markdown",
   "metadata": {}
  },
  {
   "cell_type": "code",
   "execution_count": 12,
   "metadata": {},
   "outputs": [
    {
     "output_type": "execute_result",
     "data": {
      "text/plain": [
       "0.11717147339205986"
      ]
     },
     "metadata": {},
     "execution_count": 12
    }
   ],
   "source": [
    "book_pub['Date of Publication'].isnull().sum() / len(book_pub)"
   ]
  },
  {
   "cell_type": "markdown",
   "metadata": {},
   "source": [
    "## messytowns text file\n",
    "### Import messy towns.txt using the statement below. Please do not make any major changes to the logic of this statement. Only focus on the import.\n",
    "\n",
    "### Describe in markdown what the logic of the statement below is. It is key to helping you understand the dataset."
   ]
  },
  {
   "cell_type": "code",
   "execution_count": 13,
   "metadata": {},
   "outputs": [
    {
     "output_type": "execute_result",
     "data": {
      "text/plain": [
       "[('Alabama[edit]\\n', 'Auburn (Auburn University)[1]\\n'),\n",
       " ('Alabama[edit]\\n', 'Florence (University of North Alabama)\\n'),\n",
       " ('Alabama[edit]\\n', 'Jacksonville (Jacksonville State University)[2]\\n'),\n",
       " ('Alabama[edit]\\n', 'Livingston (University of West Alabama)[2]\\n'),\n",
       " ('Alabama[edit]\\n', 'Montevallo (University of Montevallo)[2]\\n')]"
      ]
     },
     "metadata": {},
     "execution_count": 13
    }
   ],
   "source": [
    "messytowns = []\n",
    "with open('Datasets/messytowns.txt') as file:\n",
    "     for line in file:\n",
    "        if '[edit]' in line:\n",
    "             # Remember this `state` until the next is found\n",
    "            state = line\n",
    "        else:\n",
    "             # Otherwise, we have a city; keep `state` as last-seen\n",
    "            messytowns.append((state, line))\n",
    "\n",
    "messytowns[:5]"
   ]
  },
  {
   "cell_type": "markdown",
   "metadata": {},
   "source": [
    "### Remember, anytime we do an import we have to set it up as a dataframe. Set messytowns up as a dataframe and set the columns as 'State' and 'RegionName'."
   ]
  },
  {
   "cell_type": "code",
   "execution_count": 14,
   "metadata": {},
   "outputs": [],
   "source": [
    "towns_df = pd.DataFrame(messytowns,columns=['State','RegionName'])"
   ]
  },
  {
   "cell_type": "markdown",
   "metadata": {},
   "source": [
    "### Please run this statement and do not make any changes to it. Please try to make note of what is happening here. This is crucial to understanding the mapping."
   ]
  },
  {
   "cell_type": "code",
   "execution_count": 15,
   "metadata": {},
   "outputs": [],
   "source": [
    "def get_citystate(item):\n",
    "     if ' (' in item:\n",
    "        return item[:item.find(' (')]\n",
    "     elif '[' in item:\n",
    "        return item[:item.find('[')]\n",
    "     else:\n",
    "        return item"
   ]
  },
  {
   "cell_type": "markdown",
   "metadata": {},
   "source": [
    "### Now, run a command called applymap to towns_df with the function inside of the parameter. Set this in a new variable and print the head of the dataset."
   ]
  },
  {
   "cell_type": "code",
   "execution_count": 16,
   "metadata": {},
   "outputs": [
    {
     "output_type": "execute_result",
     "data": {
      "text/plain": [
       "             State                                         RegionName\n",
       "0  Alabama[edit]\\n                    Auburn (Auburn University)[1]\\n\n",
       "1  Alabama[edit]\\n           Florence (University of North Alabama)\\n\n",
       "2  Alabama[edit]\\n  Jacksonville (Jacksonville State University)[2]\\n\n",
       "3  Alabama[edit]\\n       Livingston (University of West Alabama)[2]\\n\n",
       "4  Alabama[edit]\\n         Montevallo (University of Montevallo)[2]\\n\n",
       "5  Alabama[edit]\\n                        Troy (Troy University)[2]\\n\n",
       "6  Alabama[edit]\\n  Tuscaloosa (University of Alabama, Stillman Co...\n",
       "7  Alabama[edit]\\n                Tuskegee (Tuskegee University)[5]\\n\n",
       "8   Alaska[edit]\\n    Fairbanks (University of Alaska Fairbanks)[2]\\n\n",
       "9  Arizona[edit]\\n       Flagstaff (Northern Arizona University)[6]\\n"
      ],
      "text/html": "<div>\n<style scoped>\n    .dataframe tbody tr th:only-of-type {\n        vertical-align: middle;\n    }\n\n    .dataframe tbody tr th {\n        vertical-align: top;\n    }\n\n    .dataframe thead th {\n        text-align: right;\n    }\n</style>\n<table border=\"1\" class=\"dataframe\">\n  <thead>\n    <tr style=\"text-align: right;\">\n      <th></th>\n      <th>State</th>\n      <th>RegionName</th>\n    </tr>\n  </thead>\n  <tbody>\n    <tr>\n      <th>0</th>\n      <td>Alabama[edit]\\n</td>\n      <td>Auburn (Auburn University)[1]\\n</td>\n    </tr>\n    <tr>\n      <th>1</th>\n      <td>Alabama[edit]\\n</td>\n      <td>Florence (University of North Alabama)\\n</td>\n    </tr>\n    <tr>\n      <th>2</th>\n      <td>Alabama[edit]\\n</td>\n      <td>Jacksonville (Jacksonville State University)[2]\\n</td>\n    </tr>\n    <tr>\n      <th>3</th>\n      <td>Alabama[edit]\\n</td>\n      <td>Livingston (University of West Alabama)[2]\\n</td>\n    </tr>\n    <tr>\n      <th>4</th>\n      <td>Alabama[edit]\\n</td>\n      <td>Montevallo (University of Montevallo)[2]\\n</td>\n    </tr>\n    <tr>\n      <th>5</th>\n      <td>Alabama[edit]\\n</td>\n      <td>Troy (Troy University)[2]\\n</td>\n    </tr>\n    <tr>\n      <th>6</th>\n      <td>Alabama[edit]\\n</td>\n      <td>Tuscaloosa (University of Alabama, Stillman Co...</td>\n    </tr>\n    <tr>\n      <th>7</th>\n      <td>Alabama[edit]\\n</td>\n      <td>Tuskegee (Tuskegee University)[5]\\n</td>\n    </tr>\n    <tr>\n      <th>8</th>\n      <td>Alaska[edit]\\n</td>\n      <td>Fairbanks (University of Alaska Fairbanks)[2]\\n</td>\n    </tr>\n    <tr>\n      <th>9</th>\n      <td>Arizona[edit]\\n</td>\n      <td>Flagstaff (Northern Arizona University)[6]\\n</td>\n    </tr>\n  </tbody>\n</table>\n</div>"
     },
     "metadata": {},
     "execution_count": 16
    }
   ],
   "source": [
    "towns_citystate = get_citystate(towns_df)\n",
    "\n",
    "towns_citystate.head(10)"
   ]
  },
  {
   "cell_type": "markdown",
   "metadata": {},
   "source": [
    "## Medals dataset.\n",
    "### Import the medals dataset as a csv and set the header to remove the indexed columns such as 0,1,2,3,4..etc. This is a parameter inside of your import statement. Please print the head."
   ]
  },
  {
   "cell_type": "code",
   "execution_count": 17,
   "metadata": {},
   "outputs": [
    {
     "output_type": "execute_result",
     "data": {
      "text/plain": [
       "                  Unnamed: 0  ? Summer  01 !  02 !  03 !  Total  ? Winter  \\\n",
       "0          Afghanistan (AFG)        13     0     0     2      2         0   \n",
       "1              Algeria (ALG)        12     5     2     8     15         3   \n",
       "2            Argentina (ARG)        23    18    24    28     70        18   \n",
       "3              Armenia (ARM)         5     1     2     9     12         6   \n",
       "4    Australasia (ANZ) [ANZ]         2     3     4     5     12         0   \n",
       "5  Australia (AUS) [AUS] [Z]        25   139   152   177    468        18   \n",
       "6              Austria (AUT)        26    18    33    35     86        22   \n",
       "7           Azerbaijan (AZE)         5     6     5    15     26         5   \n",
       "8              Bahamas (BAH)        15     5     2     5     12         0   \n",
       "9              Bahrain (BRN)         8     0     0     1      1         0   \n",
       "\n",
       "   01 !.1  02 !.1  03 !.1  Total.1  ? Games  01 !.2  02 !.2  03 !.2  \\\n",
       "0       0       0       0        0       13       0       0       2   \n",
       "1       0       0       0        0       15       5       2       8   \n",
       "2       0       0       0        0       41      18      24      28   \n",
       "3       0       0       0        0       11       1       2       9   \n",
       "4       0       0       0        0        2       3       4       5   \n",
       "5       5       3       4       12       43     144     155     181   \n",
       "6      59      78      81      218       48      77     111     116   \n",
       "7       0       0       0        0       10       6       5      15   \n",
       "8       0       0       0        0       15       5       2       5   \n",
       "9       0       0       0        0        8       0       0       1   \n",
       "\n",
       "   Combined total  \n",
       "0               2  \n",
       "1              15  \n",
       "2              70  \n",
       "3              12  \n",
       "4              12  \n",
       "5             480  \n",
       "6             304  \n",
       "7              26  \n",
       "8              12  \n",
       "9               1  "
      ],
      "text/html": "<div>\n<style scoped>\n    .dataframe tbody tr th:only-of-type {\n        vertical-align: middle;\n    }\n\n    .dataframe tbody tr th {\n        vertical-align: top;\n    }\n\n    .dataframe thead th {\n        text-align: right;\n    }\n</style>\n<table border=\"1\" class=\"dataframe\">\n  <thead>\n    <tr style=\"text-align: right;\">\n      <th></th>\n      <th>Unnamed: 0</th>\n      <th>? Summer</th>\n      <th>01 !</th>\n      <th>02 !</th>\n      <th>03 !</th>\n      <th>Total</th>\n      <th>? Winter</th>\n      <th>01 !.1</th>\n      <th>02 !.1</th>\n      <th>03 !.1</th>\n      <th>Total.1</th>\n      <th>? Games</th>\n      <th>01 !.2</th>\n      <th>02 !.2</th>\n      <th>03 !.2</th>\n      <th>Combined total</th>\n    </tr>\n  </thead>\n  <tbody>\n    <tr>\n      <th>0</th>\n      <td>Afghanistan (AFG)</td>\n      <td>13</td>\n      <td>0</td>\n      <td>0</td>\n      <td>2</td>\n      <td>2</td>\n      <td>0</td>\n      <td>0</td>\n      <td>0</td>\n      <td>0</td>\n      <td>0</td>\n      <td>13</td>\n      <td>0</td>\n      <td>0</td>\n      <td>2</td>\n      <td>2</td>\n    </tr>\n    <tr>\n      <th>1</th>\n      <td>Algeria (ALG)</td>\n      <td>12</td>\n      <td>5</td>\n      <td>2</td>\n      <td>8</td>\n      <td>15</td>\n      <td>3</td>\n      <td>0</td>\n      <td>0</td>\n      <td>0</td>\n      <td>0</td>\n      <td>15</td>\n      <td>5</td>\n      <td>2</td>\n      <td>8</td>\n      <td>15</td>\n    </tr>\n    <tr>\n      <th>2</th>\n      <td>Argentina (ARG)</td>\n      <td>23</td>\n      <td>18</td>\n      <td>24</td>\n      <td>28</td>\n      <td>70</td>\n      <td>18</td>\n      <td>0</td>\n      <td>0</td>\n      <td>0</td>\n      <td>0</td>\n      <td>41</td>\n      <td>18</td>\n      <td>24</td>\n      <td>28</td>\n      <td>70</td>\n    </tr>\n    <tr>\n      <th>3</th>\n      <td>Armenia (ARM)</td>\n      <td>5</td>\n      <td>1</td>\n      <td>2</td>\n      <td>9</td>\n      <td>12</td>\n      <td>6</td>\n      <td>0</td>\n      <td>0</td>\n      <td>0</td>\n      <td>0</td>\n      <td>11</td>\n      <td>1</td>\n      <td>2</td>\n      <td>9</td>\n      <td>12</td>\n    </tr>\n    <tr>\n      <th>4</th>\n      <td>Australasia (ANZ) [ANZ]</td>\n      <td>2</td>\n      <td>3</td>\n      <td>4</td>\n      <td>5</td>\n      <td>12</td>\n      <td>0</td>\n      <td>0</td>\n      <td>0</td>\n      <td>0</td>\n      <td>0</td>\n      <td>2</td>\n      <td>3</td>\n      <td>4</td>\n      <td>5</td>\n      <td>12</td>\n    </tr>\n    <tr>\n      <th>5</th>\n      <td>Australia (AUS) [AUS] [Z]</td>\n      <td>25</td>\n      <td>139</td>\n      <td>152</td>\n      <td>177</td>\n      <td>468</td>\n      <td>18</td>\n      <td>5</td>\n      <td>3</td>\n      <td>4</td>\n      <td>12</td>\n      <td>43</td>\n      <td>144</td>\n      <td>155</td>\n      <td>181</td>\n      <td>480</td>\n    </tr>\n    <tr>\n      <th>6</th>\n      <td>Austria (AUT)</td>\n      <td>26</td>\n      <td>18</td>\n      <td>33</td>\n      <td>35</td>\n      <td>86</td>\n      <td>22</td>\n      <td>59</td>\n      <td>78</td>\n      <td>81</td>\n      <td>218</td>\n      <td>48</td>\n      <td>77</td>\n      <td>111</td>\n      <td>116</td>\n      <td>304</td>\n    </tr>\n    <tr>\n      <th>7</th>\n      <td>Azerbaijan (AZE)</td>\n      <td>5</td>\n      <td>6</td>\n      <td>5</td>\n      <td>15</td>\n      <td>26</td>\n      <td>5</td>\n      <td>0</td>\n      <td>0</td>\n      <td>0</td>\n      <td>0</td>\n      <td>10</td>\n      <td>6</td>\n      <td>5</td>\n      <td>15</td>\n      <td>26</td>\n    </tr>\n    <tr>\n      <th>8</th>\n      <td>Bahamas (BAH)</td>\n      <td>15</td>\n      <td>5</td>\n      <td>2</td>\n      <td>5</td>\n      <td>12</td>\n      <td>0</td>\n      <td>0</td>\n      <td>0</td>\n      <td>0</td>\n      <td>0</td>\n      <td>15</td>\n      <td>5</td>\n      <td>2</td>\n      <td>5</td>\n      <td>12</td>\n    </tr>\n    <tr>\n      <th>9</th>\n      <td>Bahrain (BRN)</td>\n      <td>8</td>\n      <td>0</td>\n      <td>0</td>\n      <td>1</td>\n      <td>1</td>\n      <td>0</td>\n      <td>0</td>\n      <td>0</td>\n      <td>0</td>\n      <td>0</td>\n      <td>8</td>\n      <td>0</td>\n      <td>0</td>\n      <td>1</td>\n      <td>1</td>\n    </tr>\n  </tbody>\n</table>\n</div>"
     },
     "metadata": {},
     "execution_count": 17
    }
   ],
   "source": [
    "medals = pd.read_csv('Datasets/medals.csv',header=1)\n",
    "\n",
    "medals.head(10)"
   ]
  },
  {
   "cell_type": "markdown",
   "metadata": {},
   "source": [
    "### Following a similar procedure as the first example, set this dictionary into a variable called new_features.\n",
    "\n",
    "               'Unnamed: 0': 'Country',\n",
    "               '? Summer': 'Summer Olympics',\n",
    "               '01 !': 'Gold',\n",
    "               '02 !': 'Silver',\n",
    "               '03 !': 'Bronze',\n",
    "               '? Winter': 'Winter Olympics',\n",
    "               '01 !.1': 'Gold.1',\n",
    "               '02 !.1': 'Silver.1',\n",
    "               '03 !.1': 'Bronze.1',\n",
    "               '? Games': '# Games',\n",
    "               '01 !.2': 'Gold.2',\n",
    "               '02 !.2': 'Silver.2',\n",
    "               '03 !.2': 'Bronze.2'"
   ]
  },
  {
   "cell_type": "code",
   "execution_count": 18,
   "metadata": {},
   "outputs": [
    {
     "output_type": "stream",
     "name": "stdout",
     "text": [
      "{'Unnamed: 0': 'Country', '? Summer': 'Summer Olympics', '01 !': 'Gold', '02 !': 'Silver', '03 !': 'Bronze', '? Winter': 'Winter Olympics', '01 !.1': 'Gold.1', '02 !.1': 'Silver.1', '03 !.1': 'Bronze.1', '? Games': '# Games', '01 !.2': 'Gold.2', '02 !.2': 'Silver.2', '03 !.2': 'Bronze.2'}\n"
     ]
    }
   ],
   "source": [
    "new_features = {'Unnamed: 0': 'Country',\n",
    "           '? Summer': 'Summer Olympics',\n",
    "           '01 !': 'Gold',\n",
    "           '02 !': 'Silver',\n",
    "           '03 !': 'Bronze',\n",
    "           '? Winter': 'Winter Olympics',\n",
    "           '01 !.1': 'Gold.1',\n",
    "           '02 !.1': 'Silver.1',\n",
    "           '03 !.1': 'Bronze.1',\n",
    "           '? Games': '# Games',\n",
    "           '01 !.2': 'Gold.2',\n",
    "           '02 !.2': 'Silver.2',\n",
    "           '03 !.2': 'Bronze.2'}\n",
    "\n",
    "print(new_features)"
   ]
  },
  {
   "cell_type": "markdown",
   "metadata": {},
   "source": [
    "### Use the rename function on the medals dataframe to set the new columns as 'new_features'. Make sure to do this inplace. Following that, print the head of the dataset."
   ]
  },
  {
   "cell_type": "code",
   "execution_count": 19,
   "metadata": {},
   "outputs": [
    {
     "output_type": "execute_result",
     "data": {
      "text/plain": [
       "                     Country  Summer Olympics  Gold  Silver  Bronze  Total  \\\n",
       "0          Afghanistan (AFG)               13     0       0       2      2   \n",
       "1              Algeria (ALG)               12     5       2       8     15   \n",
       "2            Argentina (ARG)               23    18      24      28     70   \n",
       "3              Armenia (ARM)                5     1       2       9     12   \n",
       "4    Australasia (ANZ) [ANZ]                2     3       4       5     12   \n",
       "5  Australia (AUS) [AUS] [Z]               25   139     152     177    468   \n",
       "6              Austria (AUT)               26    18      33      35     86   \n",
       "7           Azerbaijan (AZE)                5     6       5      15     26   \n",
       "8              Bahamas (BAH)               15     5       2       5     12   \n",
       "9              Bahrain (BRN)                8     0       0       1      1   \n",
       "\n",
       "   Winter Olympics  Gold.1  Silver.1  Bronze.1  Total.1  # Games  Gold.2  \\\n",
       "0                0       0         0         0        0       13       0   \n",
       "1                3       0         0         0        0       15       5   \n",
       "2               18       0         0         0        0       41      18   \n",
       "3                6       0         0         0        0       11       1   \n",
       "4                0       0         0         0        0        2       3   \n",
       "5               18       5         3         4       12       43     144   \n",
       "6               22      59        78        81      218       48      77   \n",
       "7                5       0         0         0        0       10       6   \n",
       "8                0       0         0         0        0       15       5   \n",
       "9                0       0         0         0        0        8       0   \n",
       "\n",
       "   Silver.2  Bronze.2  Combined total  \n",
       "0         0         2               2  \n",
       "1         2         8              15  \n",
       "2        24        28              70  \n",
       "3         2         9              12  \n",
       "4         4         5              12  \n",
       "5       155       181             480  \n",
       "6       111       116             304  \n",
       "7         5        15              26  \n",
       "8         2         5              12  \n",
       "9         0         1               1  "
      ],
      "text/html": "<div>\n<style scoped>\n    .dataframe tbody tr th:only-of-type {\n        vertical-align: middle;\n    }\n\n    .dataframe tbody tr th {\n        vertical-align: top;\n    }\n\n    .dataframe thead th {\n        text-align: right;\n    }\n</style>\n<table border=\"1\" class=\"dataframe\">\n  <thead>\n    <tr style=\"text-align: right;\">\n      <th></th>\n      <th>Country</th>\n      <th>Summer Olympics</th>\n      <th>Gold</th>\n      <th>Silver</th>\n      <th>Bronze</th>\n      <th>Total</th>\n      <th>Winter Olympics</th>\n      <th>Gold.1</th>\n      <th>Silver.1</th>\n      <th>Bronze.1</th>\n      <th>Total.1</th>\n      <th># Games</th>\n      <th>Gold.2</th>\n      <th>Silver.2</th>\n      <th>Bronze.2</th>\n      <th>Combined total</th>\n    </tr>\n  </thead>\n  <tbody>\n    <tr>\n      <th>0</th>\n      <td>Afghanistan (AFG)</td>\n      <td>13</td>\n      <td>0</td>\n      <td>0</td>\n      <td>2</td>\n      <td>2</td>\n      <td>0</td>\n      <td>0</td>\n      <td>0</td>\n      <td>0</td>\n      <td>0</td>\n      <td>13</td>\n      <td>0</td>\n      <td>0</td>\n      <td>2</td>\n      <td>2</td>\n    </tr>\n    <tr>\n      <th>1</th>\n      <td>Algeria (ALG)</td>\n      <td>12</td>\n      <td>5</td>\n      <td>2</td>\n      <td>8</td>\n      <td>15</td>\n      <td>3</td>\n      <td>0</td>\n      <td>0</td>\n      <td>0</td>\n      <td>0</td>\n      <td>15</td>\n      <td>5</td>\n      <td>2</td>\n      <td>8</td>\n      <td>15</td>\n    </tr>\n    <tr>\n      <th>2</th>\n      <td>Argentina (ARG)</td>\n      <td>23</td>\n      <td>18</td>\n      <td>24</td>\n      <td>28</td>\n      <td>70</td>\n      <td>18</td>\n      <td>0</td>\n      <td>0</td>\n      <td>0</td>\n      <td>0</td>\n      <td>41</td>\n      <td>18</td>\n      <td>24</td>\n      <td>28</td>\n      <td>70</td>\n    </tr>\n    <tr>\n      <th>3</th>\n      <td>Armenia (ARM)</td>\n      <td>5</td>\n      <td>1</td>\n      <td>2</td>\n      <td>9</td>\n      <td>12</td>\n      <td>6</td>\n      <td>0</td>\n      <td>0</td>\n      <td>0</td>\n      <td>0</td>\n      <td>11</td>\n      <td>1</td>\n      <td>2</td>\n      <td>9</td>\n      <td>12</td>\n    </tr>\n    <tr>\n      <th>4</th>\n      <td>Australasia (ANZ) [ANZ]</td>\n      <td>2</td>\n      <td>3</td>\n      <td>4</td>\n      <td>5</td>\n      <td>12</td>\n      <td>0</td>\n      <td>0</td>\n      <td>0</td>\n      <td>0</td>\n      <td>0</td>\n      <td>2</td>\n      <td>3</td>\n      <td>4</td>\n      <td>5</td>\n      <td>12</td>\n    </tr>\n    <tr>\n      <th>5</th>\n      <td>Australia (AUS) [AUS] [Z]</td>\n      <td>25</td>\n      <td>139</td>\n      <td>152</td>\n      <td>177</td>\n      <td>468</td>\n      <td>18</td>\n      <td>5</td>\n      <td>3</td>\n      <td>4</td>\n      <td>12</td>\n      <td>43</td>\n      <td>144</td>\n      <td>155</td>\n      <td>181</td>\n      <td>480</td>\n    </tr>\n    <tr>\n      <th>6</th>\n      <td>Austria (AUT)</td>\n      <td>26</td>\n      <td>18</td>\n      <td>33</td>\n      <td>35</td>\n      <td>86</td>\n      <td>22</td>\n      <td>59</td>\n      <td>78</td>\n      <td>81</td>\n      <td>218</td>\n      <td>48</td>\n      <td>77</td>\n      <td>111</td>\n      <td>116</td>\n      <td>304</td>\n    </tr>\n    <tr>\n      <th>7</th>\n      <td>Azerbaijan (AZE)</td>\n      <td>5</td>\n      <td>6</td>\n      <td>5</td>\n      <td>15</td>\n      <td>26</td>\n      <td>5</td>\n      <td>0</td>\n      <td>0</td>\n      <td>0</td>\n      <td>0</td>\n      <td>10</td>\n      <td>6</td>\n      <td>5</td>\n      <td>15</td>\n      <td>26</td>\n    </tr>\n    <tr>\n      <th>8</th>\n      <td>Bahamas (BAH)</td>\n      <td>15</td>\n      <td>5</td>\n      <td>2</td>\n      <td>5</td>\n      <td>12</td>\n      <td>0</td>\n      <td>0</td>\n      <td>0</td>\n      <td>0</td>\n      <td>0</td>\n      <td>15</td>\n      <td>5</td>\n      <td>2</td>\n      <td>5</td>\n      <td>12</td>\n    </tr>\n    <tr>\n      <th>9</th>\n      <td>Bahrain (BRN)</td>\n      <td>8</td>\n      <td>0</td>\n      <td>0</td>\n      <td>1</td>\n      <td>1</td>\n      <td>0</td>\n      <td>0</td>\n      <td>0</td>\n      <td>0</td>\n      <td>0</td>\n      <td>8</td>\n      <td>0</td>\n      <td>0</td>\n      <td>1</td>\n      <td>1</td>\n    </tr>\n  </tbody>\n</table>\n</div>"
     },
     "metadata": {},
     "execution_count": 19
    }
   ],
   "source": [
    "medals.rename(columns=new_features, inplace=True)\n",
    "\n",
    "medals.head(10)"
   ]
  },
  {
   "cell_type": "markdown",
   "metadata": {},
   "source": [
    "### Briefly describe what was done in each dataset to help clean the data. These are three techniques that are useful in cleaning data. Each problem has significant difference in the approach."
   ]
  },
  {
   "cell_type": "markdown",
   "metadata": {},
   "source": [
    "#### The first dataset had a lot of empty values so we went in and droped them from the dataset and we switched the index to a more relivant index and that made it easier to look up information about the dataset. \n",
    "\n",
    "The second dataset was just a txt file that we had to read line by line to extract then convert to a dataset so we can more easily manipulate the data. \n",
    "\n",
    "Finally the third data set did not have the corret formating and we went in and fixed it up so it shows cleaner headers and made the dataset easier to read."
   ]
  }
 ],
 "metadata": {
  "kernelspec": {
   "display_name": "Python 3",
   "language": "python",
   "name": "python3"
  },
  "language_info": {
   "codemirror_mode": {
    "name": "ipython",
    "version": 3
   },
   "file_extension": ".py",
   "mimetype": "text/x-python",
   "name": "python",
   "nbconvert_exporter": "python",
   "pygments_lexer": "ipython3",
   "version": "3.8.3-final"
  }
 },
 "nbformat": 4,
 "nbformat_minor": 2
}