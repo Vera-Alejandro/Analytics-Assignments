{
 "metadata": {
  "language_info": {
   "codemirror_mode": {
    "name": "ipython",
    "version": 3
   },
   "file_extension": ".py",
   "mimetype": "text/x-python",
   "name": "python",
   "nbconvert_exporter": "python",
   "pygments_lexer": "ipython3",
   "version": "3.8.3-final"
  },
  "orig_nbformat": 2,
  "kernelspec": {
   "name": "python_defaultSpec_1599797855505",
   "display_name": "Python 3.8.3 64-bit"
  }
 },
 "nbformat": 4,
 "nbformat_minor": 2,
 "cells": [
  {
   "cell_type": "markdown",
   "metadata": {},
   "source": [
    "# Assignment 2 - Alejandro Vera"
   ]
  },
  {
   "cell_type": "markdown",
   "metadata": {},
   "source": [
    "Mutable Objects are objects that can be changed such as lists, while Immutable Objects are objects that cannot be changed such as tuples. \n",
    "\n",
    "You would want to use a mutable object when dealing with a list you want to transform into something else. \n",
    "You would want to use an immutable object when you're wanting sometihng that's more static in nature and don't need to worry about changing.\n",
    "\n",
    "By: Alejandro Vera\n"
   ]
  },
  {
   "source": [
    "## Lists"
   ],
   "cell_type": "markdown",
   "metadata": {}
  },
  {
   "cell_type": "code",
   "execution_count": 13,
   "metadata": {
    "tags": []
   },
   "outputs": [
    {
     "output_type": "stream",
     "name": "stdout",
     "text": "[1, 2, 4, 5, 6, 8, 9, 10, 12, 13]\n"
    }
   ],
   "source": [
    "list1 = []\n",
    "\n",
    "# here we will work backwords from 10 and append a random number to the list\n",
    "for i in range(10, 0, -1):\n",
    "    list1.append((i * 64) % 15)\n",
    "\n",
    "# sort the list \n",
    "list1.sort();\n",
    "\n",
    "print(list1)"
   ]
  },
  {
   "source": [
    "## Tuples"
   ],
   "cell_type": "markdown",
   "metadata": {}
  },
  {
   "cell_type": "code",
   "execution_count": 14,
   "metadata": {
    "tags": []
   },
   "outputs": [
    {
     "output_type": "stream",
     "name": "stdout",
     "text": "[1, 2, 4, 5, 6]\n[8, 9, 10, 12, 13]\n([1, 2, 4, 5, 6], [8, 9, 10, 12, 13])\n"
    }
   ],
   "source": [
    "# take the first 5 values in list1 and put them in tuple1\n",
    "tuple1 = list1[:5]\n",
    "# take the last 5 values in list1 and put them in tuple2\n",
    "tuple2 = list1[5:]\n",
    "\n",
    "print(tuple1)\n",
    "print(tuple2)\n",
    "\n",
    "# combine the two tuples into another tuple\n",
    "combined = (tuple1, tuple2)\n",
    "\n",
    "print(combined)"
   ]
  },
  {
   "source": [
    "## Dictionaries"
   ],
   "cell_type": "markdown",
   "metadata": {}
  },
  {
   "cell_type": "code",
   "execution_count": 15,
   "metadata": {
    "tags": []
   },
   "outputs": [
    {
     "output_type": "stream",
     "name": "stdout",
     "text": "['cheese', 'tortillas', 'salsa', 'potatos']\n['condensed milk', 'sugar', 'eggs']\n['chicken', 'cheese', 'pasta']\n"
    }
   ],
   "source": [
    "favorateFoods = {\n",
    "    \"Enchiladas\" : ['cheese', 'tortillas', 'salsa', 'potatos'],\n",
    "    \"Three Milk Cake\" : ['condensed milk', 'sugar', 'eggs'],\n",
    "    \"Chicken Alfredo\" : ['chicken', 'cheese', 'pasta']\n",
    "}\n",
    "\n",
    "# print the ingredients from the dic using the key\n",
    "print(favorateFoods[\"Enchiladas\"])\n",
    "print(favorateFoods[\"Three Milk Cake\"])\n",
    "print(favorateFoods[\"Chicken Alfredo\"])\n"
   ]
  },
  {
   "cell_type": "code",
   "execution_count": 16,
   "metadata": {
    "tags": []
   },
   "outputs": [
    {
     "output_type": "stream",
     "name": "stdout",
     "text": "shark\notter\nplatypus\nbear\ndolphin\n{2: 'shark', 4: 'otter', 5: 'platypus', 3: 'bear', 1: 'dolphin'}\n0 longboarding\n1 soccer\n"
    }
   ],
   "source": [
    "fav_animals = ['shark', 'otter', 'platypus', 'bear', 'dolphin']\n",
    "\n",
    "# for every animal in fav_animals print animal\n",
    "for animal in fav_animals:\n",
    "    print(animal)\n",
    "\n",
    "animal_rankings = [2,4,5,3,1]\n",
    "\n",
    "# zip fav_animals with animal rankings so they correctly correspond\n",
    "zipped = dict(zip(animal_rankings, fav_animals))\n",
    "\n",
    "print(zipped)\n",
    "\n",
    "hobbies_list = ['longboarding', 'soccer']\n",
    "\n",
    "# enumerate my hobbies list\n",
    "fav_hobbies = enumerate(hobbies_list)\n",
    "\n",
    "for counter, value in enumerate(hobbies_list):\n",
    "    print(counter, value)"
   ]
  },
  {
   "source": [
    "## Data Cleaning and Dictionary Building"
   ],
   "cell_type": "markdown",
   "metadata": {}
  },
  {
   "cell_type": "code",
   "execution_count": 17,
   "metadata": {},
   "outputs": [],
   "source": [
    "# importing list\n",
    "data = [' chase!', 'on', 'wednesday', 'reported', 'an', 'unexpected', 'drop', 'in', 'profit', 'during', 'a', 'sluggish', 'fourth', 'quarter', 'the', 'bank', 'said', 'its', 'earnings', 'fell', '7', 'percent', 'to', '4.9', 'billion', 'or', '1.19', 'a', 'share', 'from', '5.6', 'billion', 'or', '1.30', 'a', 'share', 'in', 'the', 'period', 'a', 'year', 'earlier', 'the', 'most', 'recent', 'results', 'fell', 'short', 'of', 'the', '1.31', 'a', 'share', 'expected', 'by', 'analysts', 'surveyed', 'by', 'THOMSON??', 'reuters', 'net', 'revenue', 'at', 'the', 'bank', 'dropped', '3', 'percent', 'to', '22.5', 'billion', 'from', 'the', 'fourth', 'quarter', 'of', '2013', 'on', 'a', 'so-called', 'managed', 'basis', 'revenue', '#was', '23.55', 'billion', 'slightly', 'below', 'the', '23.6', 'billion', 'anticipated', 'by', 'analysts', 'the', 'bank', '’', 's', 'SHARES', 'were', 'down', '4', 'percent', 'in', 'midmorning', 'trading', 'for', '2014', 'as', 'a', 'whole', 'jpmorgan!', ' reported', 'profit!', 'of', '21.8', 'billion', 'a', '21', 'percent', 'increase', 'and', 'the', 'highest', 'ever', 'annual', 'profit?', 'for', 'the', 'company', 'the', 'bank', '’', 's', 'quarterly', 'profit', 'was', 'hurt', 'by', '900', 'million', 'in', 'new', 'legal', 'expenses', 'or', '1.1', 'billion', 'on', 'a',  'pretax ', 'basis', 'as', 'the', 'company', 'prepared', 'to', 'SETTLE', 'an', 'investigation', 'into', 'manipulation', 'of', 'the', 'foreign', 'currency', 'markets', 'by', 'the', 'big', 'banks', 'these', 'are', 'the', 'latest', 'big', 'legal', 'costs', 'being', 'absorbed', 'by', ' jpmorgan ', 'in', 'the', 'wake', 'of', 'the', 'financial', 'crisis']"
   ]
  },
  {
   "source": [
    "here is where all the magic happens \n",
    "\n",
    "we take the word then remove the punctuation\n",
    "\n",
    "we convert it to lowercase\n",
    "\n",
    "finally we append it to the clean_list only if it isn't empty\n",
    "\n",
    "trims the string removing spaces"
   ],
   "cell_type": "markdown",
   "metadata": {}
  },
  {
   "cell_type": "code",
   "execution_count": 18,
   "metadata": {},
   "outputs": [],
   "source": [
    "import re\n",
    "import string\n",
    "\n",
    "def clean_words(data_list):\n",
    "    clean_list = []\n",
    "    for word in data_list:\n",
    "        temp = str.lower(re.sub(r'[^\\w\\s]', '', word))\n",
    "        if (len(temp) > 0):\n",
    "            clean_list.append(temp.strip())\n",
    "    return clean_list\n"
   ]
  },
  {
   "source": [
    "data = clean_words(data)\n"
   ],
   "cell_type": "code",
   "metadata": {
    "tags": []
   },
   "execution_count": 19,
   "outputs": []
  },
  {
   "source": [
    "The following code tell you which is the 58th item in the list\n"
   ],
   "cell_type": "markdown",
   "metadata": {}
  },
  {
   "cell_type": "code",
   "execution_count": 20,
   "metadata": {
    "tags": []
   },
   "outputs": [
    {
     "output_type": "stream",
     "name": "stdout",
     "text": "The 58th value is: by\n"
    }
   ],
   "source": [
    "print('The 58th value is: ' + data[57])"
   ]
  },
  {
   "source": [
    "Here is a for loop that checks if the value is already in the list and if its not then it is added. "
   ],
   "cell_type": "markdown",
   "metadata": {}
  },
  {
   "cell_type": "code",
   "execution_count": 21,
   "metadata": {
    "tags": []
   },
   "outputs": [
    {
     "output_type": "stream",
     "name": "stdout",
     "text": "['chase', 'on', 'wednesday', 'reported', 'an', 'unexpected', 'drop', 'in', 'profit', 'during', 'a', 'sluggish', 'fourth', 'quarter', 'the', 'bank', 'said', 'its', 'earnings', 'fell', '7', 'percent', 'to', '49', 'billion', 'or', '119', 'share', 'from', '56', '130', 'period', 'year', 'earlier', 'most', 'recent', 'results', 'short', 'of', '131', 'expected', 'by', 'analysts', 'surveyed', 'thomson', 'reuters', 'net', 'revenue', 'at', 'dropped', '3', '225', '2013', 'socalled', 'managed', 'basis', 'was', '2355', 'slightly', 'below', '236', 'anticipated', 's', 'shares', 'were', 'down', '4', 'midmorning', 'trading', 'for', '2014', 'as', 'whole', 'jpmorgan', '218', '21', 'increase', 'and', 'highest', 'ever', 'annual', 'company', 'quarterly', 'hurt', '900', 'million', 'new', 'legal', 'expenses', '11', 'pretax', 'prepared', 'settle', 'investigation', 'into', 'manipulation', 'foreign', 'currency', 'markets', 'big', 'banks', 'these', 'are', 'latest', 'costs', 'being', 'absorbed', 'wake', 'financial', 'crisis']\n"
    }
   ],
   "source": [
    "unique = []\n",
    "\n",
    "for x in data:\n",
    "    if x not in unique:\n",
    "        unique.append(x)\n",
    "\n",
    "print(unique)\n"
   ]
  },
  {
   "source": [
    "Here I am taking all the past values and storing them in a temp variable and append the new value. I wanted it to look nicer, but technically this still works too because you are able to read it. "
   ],
   "cell_type": "markdown",
   "metadata": {}
  },
  {
   "cell_type": "code",
   "execution_count": 22,
   "metadata": {
    "tags": []
   },
   "outputs": [],
   "source": [
    "letter_dict = dict()\n",
    "\n",
    "for word in unique:\n",
    "    # create the new key value pairs\n",
    "    if word[0] in letter_dict:\n",
    "        temp = []\n",
    "        # if isinstance(letter_dict[word[0]], list):\n",
    "        #     temp = letter_dict[word[0]].copy()\n",
    "        # else: \n",
    "        temp.append(letter_dict[word[0]])\n",
    "        temp.append(word)\n",
    "        letter_dict[word[0]] = temp\n",
    "    else:\n",
    "        letter_dict[word[0]] = word"
   ]
  },
  {
   "cell_type": "code",
   "execution_count": 23,
   "metadata": {
    "tags": []
   },
   "outputs": [
    {
     "output_type": "execute_result",
     "data": {
      "text/plain": "[[[[[[['bank', 'billion'], 'by'], 'basis'], 'below'], 'big'], 'banks'],\n 'being']"
     },
     "metadata": {},
     "execution_count": 23
    }
   ],
   "source": [
    "letter_dict['b']"
   ]
  }
 ]
}