{
 "metadata": {
  "language_info": {
   "codemirror_mode": {
    "name": "ipython",
    "version": 3
   },
   "file_extension": ".py",
   "mimetype": "text/x-python",
   "name": "python",
   "nbconvert_exporter": "python",
   "pygments_lexer": "ipython3",
   "version": "3.8.3-final"
  },
  "orig_nbformat": 2,
  "kernelspec": {
   "name": "python_defaultSpec_1600834398054",
   "display_name": "Python 3.8.3 64-bit"
  }
 },
 "nbformat": 4,
 "nbformat_minor": 2,
 "cells": [
  {
   "source": [
    "# Assignment 3\n",
    "## By Alejandro Vera"
   ],
   "cell_type": "markdown",
   "metadata": {}
  },
  {
   "source": [
    "### why when you slice and store any value(s) using NumPy and store it in a new variable it changes the value in the original variable\n",
    "\n",
    "When you slice a value in NumPy and store it in a different variable the value is not coppied into a different array it is refrenced in the new variable so if you make a change in the new variable then that modifications are also make in the source array."
   ],
   "cell_type": "markdown",
   "metadata": {}
  },
  {
   "source": [
    "## Ndarrays"
   ],
   "cell_type": "markdown",
   "metadata": {}
  },
  {
   "cell_type": "code",
   "execution_count": 25,
   "metadata": {
    "tags": []
   },
   "outputs": [
    {
     "output_type": "stream",
     "name": "stdout",
     "text": "(5, 5)\n"
    }
   ],
   "source": [
    "import numpy as np\n",
    "\n",
    "# create nested sequences with 5 values in each\n",
    "nested_seq = [[1, 2, 3, 4, 5],[6, 7, 8, 9 ,10],[11, 12, 13, 14, 15],[16, 17, 18, 19 ,20],[21, 22, 23, 24, 25]]\n",
    "\n",
    "# conert that object into an np array \n",
    "nd_arr = np.array(nested_seq);\n",
    "\n",
    "print(nd_arr.shape)"
   ]
  },
  {
   "cell_type": "code",
   "execution_count": 26,
   "metadata": {
    "tags": []
   },
   "outputs": [
    {
     "output_type": "stream",
     "name": "stdout",
     "text": "[[0. 0. 0.]\n [0. 0. 0.]\n [0. 0. 0.]\n [0. 0. 0.]\n [0. 0. 0.]\n [0. 0. 0.]]\n"
    }
   ],
   "source": [
    "# use the np.zeros function to create a 3 by 6 array\n",
    "zero_arr = np.zeros((6,3))\n",
    "\n",
    "print(zero_arr)"
   ]
  },
  {
   "cell_type": "code",
   "execution_count": 27,
   "metadata": {
    "tags": []
   },
   "outputs": [
    {
     "output_type": "stream",
     "name": "stdout",
     "text": "[ 1.5  4.5  7.5 10.5 13.5 16.5 19.5]\n"
    }
   ],
   "source": [
    "# use aragne to start at 1.5 and go to 20 with it incrementing by 3 each time\n",
    "Q3 = np.arange(1.5, 20, 3)\n",
    "\n",
    "print(Q3)"
   ]
  },
  {
   "cell_type": "code",
   "execution_count": 28,
   "metadata": {
    "tags": []
   },
   "outputs": [
    {
     "output_type": "stream",
     "name": "stdout",
     "text": "[ 1  4  7 10 13 16 19]\n"
    }
   ],
   "source": [
    "# use the astype function to conver the floats into ints, removing the deximals and their numbers\n",
    "Q4 = Q3.astype(np.int)\n",
    "\n",
    "print(Q4)"
   ]
  },
  {
   "source": [
    "## Slicing"
   ],
   "cell_type": "markdown",
   "metadata": {}
  },
  {
   "cell_type": "code",
   "execution_count": 29,
   "metadata": {
    "tags": []
   },
   "outputs": [
    {
     "output_type": "stream",
     "name": "stdout",
     "text": "[  5  10  15  20  25  30  35  40  45  50  55  60  65  70  75  80  85  90\n  95 100 105 110 115 120 125 130 135 140 145 150 155 160 165 170 175 180\n 185 190 195]\n"
    }
   ],
   "source": [
    "#create new numpy range\n",
    "pepper = np.arange(5, 200, 5)\n",
    "\n",
    "print(pepper)"
   ]
  },
  {
   "cell_type": "code",
   "execution_count": 30,
   "metadata": {
    "tags": []
   },
   "outputs": [
    {
     "output_type": "stream",
     "name": "stdout",
     "text": "[30 35 40]\n[1 2 3]\n"
    }
   ],
   "source": [
    "# slice the array and take the 6th, 7th, and 8th value into this new array\n",
    "arrSlice = pepper[5:8]\n",
    "\n",
    "print(arrSlice)\n",
    "\n",
    "arrSlice[0] = 1  \n",
    "arrSlice[1] = 2\n",
    "arrSlice[2] = 3\n",
    "\n",
    "print(arrSlice)"
   ]
  },
  {
   "cell_type": "code",
   "execution_count": 31,
   "metadata": {},
   "outputs": [
    {
     "output_type": "execute_result",
     "data": {
      "text/plain": "array([1, 2, 3])"
     },
     "metadata": {},
     "execution_count": 31
    }
   ],
   "source": [
    "# select items 6 - 8 in original array\n",
    "pepper[5:8]"
   ]
  },
  {
   "cell_type": "code",
   "execution_count": 32,
   "metadata": {
    "tags": []
   },
   "outputs": [
    {
     "output_type": "stream",
     "name": "stdout",
     "text": "[[0.69646919 0.28613933 0.22685145]\n [0.55131477 0.71946897 0.42310646]\n [0.9807642  0.68482974 0.4809319 ]]\n0.5513147690828912\n"
    }
   ],
   "source": [
    "# create 3 by 3 grid with random numbers \n",
    "grid = np.random.uniform(size=(3,3))\n",
    "print(grid)\n",
    "\n",
    "# select second row first column item\n",
    "print(grid[1][0])"
   ]
  },
  {
   "source": [
    "## Randomize Example"
   ],
   "cell_type": "markdown",
   "metadata": {}
  },
  {
   "cell_type": "code",
   "execution_count": 33,
   "metadata": {},
   "outputs": [],
   "source": [
    "# set numpy random seed \n",
    "np.random.seed(123)"
   ]
  },
  {
   "cell_type": "code",
   "execution_count": 34,
   "metadata": {},
   "outputs": [],
   "source": [
    "# set random state\n",
    "rng = np.random.RandomState(12345)"
   ]
  },
  {
   "cell_type": "code",
   "execution_count": 35,
   "metadata": {
    "tags": []
   },
   "outputs": [
    {
     "output_type": "stream",
     "name": "stdout",
     "text": "[-0.20470766  0.47894334 -0.51943872 -0.5557303   1.96578057  1.39340583\n  0.09290788  0.28174615  0.76902257  1.24643474]\n[-0.5557303  -0.51943872 -0.20470766  0.09290788  0.28174615  0.47894334\n  0.76902257  1.24643474  1.39340583  1.96578057]\n"
    }
   ],
   "source": [
    "# generate random values and stpre in to variable\n",
    "sortrng = rng.randn(10);\n",
    "\n",
    "print(sortrng)\n",
    "\n",
    "# sort values in sortrng\n",
    "sortrng.sort()\n",
    "\n",
    "print(sortrng)"
   ]
  },
  {
   "source": [
    "## Indexing"
   ],
   "cell_type": "markdown",
   "metadata": {}
  },
  {
   "cell_type": "code",
   "execution_count": 36,
   "metadata": {
    "tags": []
   },
   "outputs": [
    {
     "output_type": "stream",
     "name": "stdout",
     "text": "['McClane' 'Hans' 'Harry' 'Holly']\n"
    }
   ],
   "source": [
    "# create an array with the given values\n",
    "prod = np.array(['McClane', 'Hans', 'Harry', 'Holly'])\n",
    "\n",
    "print(prod)"
   ]
  },
  {
   "source": [
    "# boolean indexing to see if 'Hans' is in the list\n",
    "prod == 'Hans'\n"
   ],
   "cell_type": "code",
   "metadata": {},
   "execution_count": 37,
   "outputs": [
    {
     "output_type": "execute_result",
     "data": {
      "text/plain": "array([False,  True, False, False])"
     },
     "metadata": {},
     "execution_count": 37
    }
   ]
  },
  {
   "cell_type": "code",
   "execution_count": 38,
   "metadata": {
    "tags": []
   },
   "outputs": [
    {
     "output_type": "stream",
     "name": "stdout",
     "text": "[[192722 178381 123411 118498]\n [129418 169760 104442 196768]\n [111788 107343 154896 118256]\n [119197 107314 100670 148633]]\n"
    }
   ],
   "source": [
    "# create new list with given values\n",
    "income = np.array([[192722, 178381, 123411, 118498],\n",
    "       [129418, 169760, 104442, 196768],\n",
    "       [111788, 107343, 154896, 118256],\n",
    "       [119197, 107314, 100670, 148633]]\n",
    ")\n",
    "\n",
    "print(income)"
   ]
  },
  {
   "cell_type": "code",
   "execution_count": 39,
   "metadata": {},
   "outputs": [
    {
     "output_type": "execute_result",
     "data": {
      "text/plain": "196768"
     },
     "metadata": {},
     "execution_count": 39
    }
   ],
   "source": [
    "# get the max income for Hans row\n",
    "income[prod == 'Hans'].max()"
   ]
  },
  {
   "cell_type": "code",
   "execution_count": 40,
   "metadata": {
    "tags": []
   },
   "outputs": [
    {
     "output_type": "execute_result",
     "data": {
      "text/plain": "array([553125, 562798, 483419, 582155])"
     },
     "metadata": {},
     "execution_count": 40
    }
   ],
   "source": [
    "# find the sum of arrays using the columns\n",
    "income.sum(axis=0)"
   ]
  },
  {
   "cell_type": "code",
   "execution_count": 41,
   "metadata": {},
   "outputs": [
    {
     "output_type": "execute_result",
     "data": {
      "text/plain": "array([613012, 600388, 492283, 475814])"
     },
     "metadata": {},
     "execution_count": 41
    }
   ],
   "source": [
    "# find the sum of the rows\n",
    "income.sum(axis=1)"
   ]
  },
  {
   "cell_type": "code",
   "execution_count": 42,
   "metadata": {
    "tags": []
   },
   "outputs": [
    {
     "output_type": "stream",
     "name": "stdout",
     "text": "Standard Deviation:  [32740.16391987 35625.8890275  18779.58281452 18375.91048765]\nVariance:  [1.07191833e+09 1.26920397e+09 3.52672731e+08 3.37674086e+08]\nMin:  [118498 104442 107343 100670]\nMax:  [192722 196768 154896 148633]\n"
    }
   ],
   "source": [
    "# std using numpy functions\n",
    "std = income.std(axis=1)\n",
    "\n",
    "print('Standard Deviation: ', std)\n",
    "\n",
    "# var\n",
    "var = income.var(axis=1)\n",
    "\n",
    "print('Variance: ', var)\n",
    "\n",
    "# min\n",
    "min = income.min(axis=1)\n",
    "\n",
    "print('Min: ', min)\n",
    "\n",
    "# max\n",
    "max = income.max(axis=1)\n",
    "\n",
    "print('Max: ', max)\n"
   ]
  }
 ]
}