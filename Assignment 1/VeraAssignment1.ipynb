{
 "cells": [
  {
   "cell_type": "markdown",
   "metadata": {},
   "source": [
    "# Assignment 1 - Alejandro Vera"
   ]
  },
  {
   "cell_type": "markdown",
   "metadata": {},
   "source": [
    "Creating the list with the integer values"
   ]
  },
  {
   "cell_type": "code",
   "execution_count": 50,
   "metadata": {},
   "outputs": [],
   "source": [
    "my_list = [4, 8, 15, 16]"
   ]
  },
  {
   "cell_type": "markdown",
   "metadata": {},
   "source": [
    "append my last name to the list"
   ]
  },
  {
   "cell_type": "code",
   "execution_count": 51,
   "metadata": {},
   "outputs": [],
   "source": [
    "my_list.append('vera')"
   ]
  },
  {
   "cell_type": "markdown",
   "metadata": {},
   "source": [
    "Print out the list again with my last name appended on \n"
   ]
  },
  {
   "cell_type": "code",
   "execution_count": 52,
   "metadata": {
    "tags": []
   },
   "outputs": [
    {
     "output_type": "stream",
     "name": "stdout",
     "text": "[4, 8, 15, 16, 'vera']\n"
    }
   ],
   "source": [
    "print(my_list)"
   ]
  },
  {
   "cell_type": "markdown",
   "metadata": {},
   "source": [
    "### Q2: To use tab look up you have to start typing the begginning of a command and a dropdown list of possible options will appear if not then you can also click 'ctrl' + 'space' if you're on visual studio code to get the drop down list to appear"
   ]
  },
  {
   "cell_type": "markdown",
   "metadata": {},
   "source": [
    "In the first section, I am setting variables and printing them out. \n",
    "In the second section, I am added 100 to the `mathtest` variable and then printing it\n",
    "in the third section, I am using the power operator to square 9 and printing it\n",
    "Finally, I am subtractin `squaretest` from `mathtest` and printing it out\n"
   ]
  },
  {
   "cell_type": "code",
   "execution_count": 53,
   "metadata": {
    "tags": []
   },
   "outputs": [
    {
     "output_type": "stream",
     "name": "stdout",
     "text": "100\n200\n81\n119\n"
    }
   ],
   "source": [
    "mathtest = 100\n",
    "print(mathtest)\n",
    "\n",
    "mathtest += 100\n",
    "print(mathtest)\n",
    "\n",
    "squaretest = 9\n",
    "squaretest = squaretest ** 2\n",
    "print(squaretest)\n",
    "\n",
    "\n",
    "diff = mathtest - squaretest\n",
    "print(diff)"
   ]
  },
  {
   "cell_type": "markdown",
   "metadata": {},
   "source": [
    "I used integer divison here with the `//` to return only the integer of this non perfect divison"
   ]
  },
  {
   "cell_type": "code",
   "execution_count": 54,
   "metadata": {},
   "outputs": [
    {
     "output_type": "execute_result",
     "data": {
      "text/plain": "2"
     },
     "metadata": {},
     "execution_count": 54
    }
   ],
   "source": [
    "20 // 9\n"
   ]
  },
  {
   "cell_type": "markdown",
   "metadata": {},
   "source": [
    "Here I set `Log1` to a list of numbers. then I get `Log2` equal to `Log1`. Finally I made a simple if statment comapring the two lists and printing out appropriate responses"
   ]
  },
  {
   "cell_type": "code",
   "execution_count": 55,
   "metadata": {
    "tags": []
   },
   "outputs": [
    {
     "output_type": "stream",
     "name": "stdout",
     "text": "these lists are the same\n"
    }
   ],
   "source": [
    "Log1 = [1,2,3,4]\n",
    "Log2 = Log1\n",
    "if (Log1 == Log2):\n",
    "    print('these lists are the same')\n",
    "else:\n",
    "    print('these lists are not the same')"
   ]
  },
  {
   "cell_type": "markdown",
   "metadata": {},
   "source": [
    "Mutable Objects are objects that can be changed after they are initialized and unmutablle objects are the exact opposite. They cannot be changed after they are initialized. \n",
    "\n",
    "Example "
   ]
  },
  {
   "cell_type": "code",
   "execution_count": 56,
   "metadata": {
    "tags": []
   },
   "outputs": [
    {
     "output_type": "stream",
     "name": "stdout",
     "text": "True\nTrue\n"
    }
   ],
   "source": [
    "#immutable object \n",
    "immutable = (31,23, 5643,125)\n",
    "#immutable[4] = 32  -- this is why it is immutable\n",
    "\n",
    "#mutable object\n",
    "list1 = [5.5,8.8,2.2]\n",
    "list2 = list1\n",
    "\n",
    "print(id(list1) == id(list2))\n",
    "\n",
    "list1.pop()\n",
    "\n",
    "print(id(list1) == id(list2))\n"
   ]
  },
  {
   "cell_type": "code",
   "execution_count": 57,
   "metadata": {
    "tags": []
   },
   "outputs": [
    {
     "output_type": "stream",
     "name": "stdout",
     "text": "('Alejandro', 'Vera', 'Loves', 'Data', 'Analytics')\n"
    }
   ],
   "source": [
    "analytics = (\"Alejandro\", \"Vera\", \"Loves\", \"Data\", \"Analytics\")\n",
    "print(analytics)"
   ]
  },
  {
   "cell_type": "markdown",
   "metadata": {},
   "source": [
    "This is not allowed due to tuples being immutable. To fix this you could convert this to a list and modify it there. "
   ]
  },
  {
   "cell_type": "code",
   "execution_count": 58,
   "metadata": {},
   "outputs": [
    {
     "output_type": "error",
     "ename": "TypeError",
     "evalue": "'tuple' object does not support item assignment",
     "traceback": [
      "\u001b[1;31m---------------------------------------------------------------------------\u001b[0m",
      "\u001b[1;31mTypeError\u001b[0m                                 Traceback (most recent call last)",
      "\u001b[1;32m<ipython-input-58-f56a92d6ea40>\u001b[0m in \u001b[0;36m<module>\u001b[1;34m\u001b[0m\n\u001b[1;32m----> 1\u001b[1;33m \u001b[0manalytics\u001b[0m\u001b[1;33m[\u001b[0m\u001b[1;36m3\u001b[0m\u001b[1;33m]\u001b[0m \u001b[1;33m=\u001b[0m \u001b[1;34m\"likes\"\u001b[0m\u001b[1;33m\u001b[0m\u001b[1;33m\u001b[0m\u001b[0m\n\u001b[0m",
      "\u001b[1;31mTypeError\u001b[0m: 'tuple' object does not support item assignment"
     ]
    }
   ],
   "source": [
    "analytics[3] = \"likes\""
   ]
  },
  {
   "cell_type": "markdown",
   "metadata": {},
   "source": [
    "Here we are doing a for loop where we go from range(start, end, by how much) so we start at 10, and go until 0, and iterate by -1"
   ]
  },
  {
   "cell_type": "code",
   "execution_count": 59,
   "metadata": {
    "tags": []
   },
   "outputs": [
    {
     "output_type": "stream",
     "name": "stdout",
     "text": "10\n9\n8\n7\n6\n5\n4\n3\n2\n1\n"
    }
   ],
   "source": [
    "for n in range(10, 0, -1):\n",
    "    print(n)"
   ]
  },
  {
   "cell_type": "markdown",
   "metadata": {},
   "source": [
    "Here is a simple if statment with a condition that if score is freater than 60 then the we will print out an S else the code will print out a U"
   ]
  },
  {
   "cell_type": "code",
   "execution_count": 60,
   "metadata": {
    "tags": []
   },
   "outputs": [
    {
     "output_type": "stream",
     "name": "stdout",
     "text": "U\n"
    }
   ],
   "source": [
    "score = 44\n",
    "\n",
    "if(score > 60):\n",
    "    print('S')\n",
    "else:\n",
    "    print('U')"
   ]
  }
 ],
 "metadata": {
  "kernelspec": {
   "display_name": "Python 3",
   "language": "python",
   "name": "python3"
  },
  "language_info": {
   "codemirror_mode": {
    "name": "ipython",
    "version": 3
   },
   "file_extension": ".py",
   "mimetype": "text/x-python",
   "name": "python",
   "nbconvert_exporter": "python",
   "pygments_lexer": "ipython3",
   "version": "3.8.3-final"
  }
 },
 "nbformat": 4,
 "nbformat_minor": 4
}