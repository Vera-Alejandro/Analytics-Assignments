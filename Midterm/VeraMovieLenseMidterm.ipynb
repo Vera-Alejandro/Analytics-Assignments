{
    "metadata": {
        "kernelspec": {
            "name": "python3",
            "display_name": "Python 3"
        },
        "language_info": {
            "name": "python",
            "version": "3.8.3-final",
            "mimetype": "text/x-python",
            "codemirror_mode": {
                "name": "ipython",
                "version": 3
            },
            "pygments_lexer": "ipython3",
            "nbconvert_exporter": "python",
            "file_extension": ".py"
        },
        "orig_nbformat": 2
    },
    "nbformat_minor": 2,
    "nbformat": 4,
    "cells": [
        {
            "cell_type": "markdown",
            "source": [
                "# MovieLens Dataset - Alejandro Vera"
            ],
            "metadata": {
                "azdata_cell_guid": "26f507c4-bfe9-4e4a-87c9-46ec2266d562"
            }
        },
        {
            "cell_type": "markdown",
            "source": [
                "#### import pandas library and set display smaller."
            ],
            "metadata": {
                "azdata_cell_guid": "d4aaa839-f527-4613-8b1c-b51bebf61d85"
            }
        },
        {
            "cell_type": "code",
            "source": [
                "import pandas as pd\n",
                "\n",
                "pd.options.display.max_rows = 10"
            ],
            "metadata": {
                "azdata_cell_guid": "85a71ec6-5f12-4c26-81ec-0a0d7bf1790f"
            },
            "outputs": [],
            "execution_count": 1
        },
        {
            "cell_type": "markdown",
            "source": [
                "#### create arrays that hold the user information, rankings, and movie information then read the data from the dataset"
            ],
            "metadata": {
                "azdata_cell_guid": "8b1dda90-b971-4f57-ac85-c98d44d996ab"
            }
        },
        {
            "cell_type": "code",
            "source": [
                "unames = ['user_id', 'gender', 'age', 'occupation', 'zip']\n",
                "users = pd.read_table('movielens/users.dat', sep='::', header=None, names=unames)\n",
                "\n",
                "rnames = ['user_id', 'movie_id', 'rating', 'timestamp']\n",
                "ratings = pd.read_table('movielens/ratings.dat', sep='::', header=None, names=rnames)\n",
                "\n",
                "mnames = ['movie_id', 'title', 'genres']\n",
                "movies = pd.read_table('movielens/movies.dat', sep='::', header=None, names=mnames)"
            ],
            "metadata": {
                "azdata_cell_guid": "a7cbdc27-81a4-4132-b38e-f892bd7c42e0"
            },
            "outputs": [],
            "execution_count": 2
        },
        {
            "cell_type": "markdown",
            "source": [
                "#### verify that the data is loaded in "
            ],
            "metadata": {
                "azdata_cell_guid": "900d09d7-4f3d-42a8-9704-b15fc5ab15d5"
            }
        },
        {
            "cell_type": "code",
            "source": [
                "users[:5]"
            ],
            "metadata": {
                "azdata_cell_guid": "22a464e0-5f41-4173-b31e-69ae6d3bd027"
            },
            "outputs": [
                {
                    "output_type": "execute_result",
                    "data": {
                        "text/plain": [
                            "   user_id gender  age  occupation    zip\n",
                            "0        1      F    1          10  48067\n",
                            "1        2      M   56          16  70072\n",
                            "2        3      M   25          15  55117\n",
                            "3        4      M   45           7  02460\n",
                            "4        5      M   25          20  55455"
                        ],
                        "text/html": "<div>\n<style scoped>\n    .dataframe tbody tr th:only-of-type {\n        vertical-align: middle;\n    }\n\n    .dataframe tbody tr th {\n        vertical-align: top;\n    }\n\n    .dataframe thead th {\n        text-align: right;\n    }\n</style>\n<table border=\"1\" class=\"dataframe\">\n  <thead>\n    <tr style=\"text-align: right;\">\n      <th></th>\n      <th>user_id</th>\n      <th>gender</th>\n      <th>age</th>\n      <th>occupation</th>\n      <th>zip</th>\n    </tr>\n  </thead>\n  <tbody>\n    <tr>\n      <th>0</th>\n      <td>1</td>\n      <td>F</td>\n      <td>1</td>\n      <td>10</td>\n      <td>48067</td>\n    </tr>\n    <tr>\n      <th>1</th>\n      <td>2</td>\n      <td>M</td>\n      <td>56</td>\n      <td>16</td>\n      <td>70072</td>\n    </tr>\n    <tr>\n      <th>2</th>\n      <td>3</td>\n      <td>M</td>\n      <td>25</td>\n      <td>15</td>\n      <td>55117</td>\n    </tr>\n    <tr>\n      <th>3</th>\n      <td>4</td>\n      <td>M</td>\n      <td>45</td>\n      <td>7</td>\n      <td>02460</td>\n    </tr>\n    <tr>\n      <th>4</th>\n      <td>5</td>\n      <td>M</td>\n      <td>25</td>\n      <td>20</td>\n      <td>55455</td>\n    </tr>\n  </tbody>\n</table>\n</div>"
                    },
                    "metadata": {},
                    "execution_count": 3
                }
            ],
            "execution_count": 3
        },
        {
            "cell_type": "code",
            "source": [
                "ratings[:5]"
            ],
            "metadata": {
                "azdata_cell_guid": "6910a28b-7de7-461b-9db4-9b7f4f14e98d"
            },
            "outputs": [
                {
                    "output_type": "execute_result",
                    "data": {
                        "text/plain": [
                            "   user_id  movie_id  rating  timestamp\n",
                            "0        1      1193       5  978300760\n",
                            "1        1       661       3  978302109\n",
                            "2        1       914       3  978301968\n",
                            "3        1      3408       4  978300275\n",
                            "4        1      2355       5  978824291"
                        ],
                        "text/html": "<div>\n<style scoped>\n    .dataframe tbody tr th:only-of-type {\n        vertical-align: middle;\n    }\n\n    .dataframe tbody tr th {\n        vertical-align: top;\n    }\n\n    .dataframe thead th {\n        text-align: right;\n    }\n</style>\n<table border=\"1\" class=\"dataframe\">\n  <thead>\n    <tr style=\"text-align: right;\">\n      <th></th>\n      <th>user_id</th>\n      <th>movie_id</th>\n      <th>rating</th>\n      <th>timestamp</th>\n    </tr>\n  </thead>\n  <tbody>\n    <tr>\n      <th>0</th>\n      <td>1</td>\n      <td>1193</td>\n      <td>5</td>\n      <td>978300760</td>\n    </tr>\n    <tr>\n      <th>1</th>\n      <td>1</td>\n      <td>661</td>\n      <td>3</td>\n      <td>978302109</td>\n    </tr>\n    <tr>\n      <th>2</th>\n      <td>1</td>\n      <td>914</td>\n      <td>3</td>\n      <td>978301968</td>\n    </tr>\n    <tr>\n      <th>3</th>\n      <td>1</td>\n      <td>3408</td>\n      <td>4</td>\n      <td>978300275</td>\n    </tr>\n    <tr>\n      <th>4</th>\n      <td>1</td>\n      <td>2355</td>\n      <td>5</td>\n      <td>978824291</td>\n    </tr>\n  </tbody>\n</table>\n</div>"
                    },
                    "metadata": {},
                    "execution_count": 4
                }
            ],
            "execution_count": 4
        },
        {
            "cell_type": "code",
            "source": [
                "movies[:5]"
            ],
            "metadata": {
                "azdata_cell_guid": "fd10586e-902f-4624-8d39-65fd2e0693b3"
            },
            "outputs": [
                {
                    "output_type": "execute_result",
                    "data": {
                        "text/plain": [
                            "   movie_id                               title                        genres\n",
                            "0         1                    Toy Story (1995)   Animation|Children's|Comedy\n",
                            "1         2                      Jumanji (1995)  Adventure|Children's|Fantasy\n",
                            "2         3             Grumpier Old Men (1995)                Comedy|Romance\n",
                            "3         4            Waiting to Exhale (1995)                  Comedy|Drama\n",
                            "4         5  Father of the Bride Part II (1995)                        Comedy"
                        ],
                        "text/html": "<div>\n<style scoped>\n    .dataframe tbody tr th:only-of-type {\n        vertical-align: middle;\n    }\n\n    .dataframe tbody tr th {\n        vertical-align: top;\n    }\n\n    .dataframe thead th {\n        text-align: right;\n    }\n</style>\n<table border=\"1\" class=\"dataframe\">\n  <thead>\n    <tr style=\"text-align: right;\">\n      <th></th>\n      <th>movie_id</th>\n      <th>title</th>\n      <th>genres</th>\n    </tr>\n  </thead>\n  <tbody>\n    <tr>\n      <th>0</th>\n      <td>1</td>\n      <td>Toy Story (1995)</td>\n      <td>Animation|Children's|Comedy</td>\n    </tr>\n    <tr>\n      <th>1</th>\n      <td>2</td>\n      <td>Jumanji (1995)</td>\n      <td>Adventure|Children's|Fantasy</td>\n    </tr>\n    <tr>\n      <th>2</th>\n      <td>3</td>\n      <td>Grumpier Old Men (1995)</td>\n      <td>Comedy|Romance</td>\n    </tr>\n    <tr>\n      <th>3</th>\n      <td>4</td>\n      <td>Waiting to Exhale (1995)</td>\n      <td>Comedy|Drama</td>\n    </tr>\n    <tr>\n      <th>4</th>\n      <td>5</td>\n      <td>Father of the Bride Part II (1995)</td>\n      <td>Comedy</td>\n    </tr>\n  </tbody>\n</table>\n</div>"
                    },
                    "metadata": {},
                    "execution_count": 5
                }
            ],
            "execution_count": 5
        },
        {
            "cell_type": "code",
            "source": [
                "ratings"
            ],
            "metadata": {
                "azdata_cell_guid": "f172ca35-e08e-4659-b99c-bf4b07780350"
            },
            "outputs": [
                {
                    "output_type": "execute_result",
                    "data": {
                        "text/plain": [
                            "         user_id  movie_id  rating  timestamp\n",
                            "0              1      1193       5  978300760\n",
                            "1              1       661       3  978302109\n",
                            "2              1       914       3  978301968\n",
                            "3              1      3408       4  978300275\n",
                            "4              1      2355       5  978824291\n",
                            "...          ...       ...     ...        ...\n",
                            "1000204     6040      1091       1  956716541\n",
                            "1000205     6040      1094       5  956704887\n",
                            "1000206     6040       562       5  956704746\n",
                            "1000207     6040      1096       4  956715648\n",
                            "1000208     6040      1097       4  956715569\n",
                            "\n",
                            "[1000209 rows x 4 columns]"
                        ],
                        "text/html": "<div>\n<style scoped>\n    .dataframe tbody tr th:only-of-type {\n        vertical-align: middle;\n    }\n\n    .dataframe tbody tr th {\n        vertical-align: top;\n    }\n\n    .dataframe thead th {\n        text-align: right;\n    }\n</style>\n<table border=\"1\" class=\"dataframe\">\n  <thead>\n    <tr style=\"text-align: right;\">\n      <th></th>\n      <th>user_id</th>\n      <th>movie_id</th>\n      <th>rating</th>\n      <th>timestamp</th>\n    </tr>\n  </thead>\n  <tbody>\n    <tr>\n      <th>0</th>\n      <td>1</td>\n      <td>1193</td>\n      <td>5</td>\n      <td>978300760</td>\n    </tr>\n    <tr>\n      <th>1</th>\n      <td>1</td>\n      <td>661</td>\n      <td>3</td>\n      <td>978302109</td>\n    </tr>\n    <tr>\n      <th>2</th>\n      <td>1</td>\n      <td>914</td>\n      <td>3</td>\n      <td>978301968</td>\n    </tr>\n    <tr>\n      <th>3</th>\n      <td>1</td>\n      <td>3408</td>\n      <td>4</td>\n      <td>978300275</td>\n    </tr>\n    <tr>\n      <th>4</th>\n      <td>1</td>\n      <td>2355</td>\n      <td>5</td>\n      <td>978824291</td>\n    </tr>\n    <tr>\n      <th>...</th>\n      <td>...</td>\n      <td>...</td>\n      <td>...</td>\n      <td>...</td>\n    </tr>\n    <tr>\n      <th>1000204</th>\n      <td>6040</td>\n      <td>1091</td>\n      <td>1</td>\n      <td>956716541</td>\n    </tr>\n    <tr>\n      <th>1000205</th>\n      <td>6040</td>\n      <td>1094</td>\n      <td>5</td>\n      <td>956704887</td>\n    </tr>\n    <tr>\n      <th>1000206</th>\n      <td>6040</td>\n      <td>562</td>\n      <td>5</td>\n      <td>956704746</td>\n    </tr>\n    <tr>\n      <th>1000207</th>\n      <td>6040</td>\n      <td>1096</td>\n      <td>4</td>\n      <td>956715648</td>\n    </tr>\n    <tr>\n      <th>1000208</th>\n      <td>6040</td>\n      <td>1097</td>\n      <td>4</td>\n      <td>956715569</td>\n    </tr>\n  </tbody>\n</table>\n<p>1000209 rows × 4 columns</p>\n</div>"
                    },
                    "metadata": {},
                    "execution_count": 6
                }
            ],
            "execution_count": 6
        },
        {
            "cell_type": "markdown",
            "source": [
                "#### merge the ratings and users together then marge those two with the movies into a pandas dataframe"
            ],
            "metadata": {
                "azdata_cell_guid": "702eab96-2014-4e0d-a7d8-751bd22da373"
            }
        },
        {
            "cell_type": "code",
            "source": [
                "data = pd.merge(pd.merge(ratings, users), movies)\n",
                "\n",
                "data"
            ],
            "metadata": {
                "azdata_cell_guid": "c31676c0-59c9-4028-a680-74a621ef8b41"
            },
            "outputs": [
                {
                    "output_type": "execute_result",
                    "data": {
                        "text/plain": [
                            "         user_id  movie_id  rating  timestamp gender  age  occupation    zip  \\\n",
                            "0              1      1193       5  978300760      F    1          10  48067   \n",
                            "1              2      1193       5  978298413      M   56          16  70072   \n",
                            "2             12      1193       4  978220179      M   25          12  32793   \n",
                            "3             15      1193       4  978199279      M   25           7  22903   \n",
                            "4             17      1193       5  978158471      M   50           1  95350   \n",
                            "...          ...       ...     ...        ...    ...  ...         ...    ...   \n",
                            "1000204     5949      2198       5  958846401      M   18          17  47901   \n",
                            "1000205     5675      2703       3  976029116      M   35          14  30030   \n",
                            "1000206     5780      2845       1  958153068      M   18          17  92886   \n",
                            "1000207     5851      3607       5  957756608      F   18          20  55410   \n",
                            "1000208     5938      2909       4  957273353      M   25           1  35401   \n",
                            "\n",
                            "                                               title                genres  \n",
                            "0             One Flew Over the Cuckoo's Nest (1975)                 Drama  \n",
                            "1             One Flew Over the Cuckoo's Nest (1975)                 Drama  \n",
                            "2             One Flew Over the Cuckoo's Nest (1975)                 Drama  \n",
                            "3             One Flew Over the Cuckoo's Nest (1975)                 Drama  \n",
                            "4             One Flew Over the Cuckoo's Nest (1975)                 Drama  \n",
                            "...                                              ...                   ...  \n",
                            "1000204                           Modulations (1998)           Documentary  \n",
                            "1000205                        Broken Vessels (1998)                 Drama  \n",
                            "1000206                            White Boys (1999)                 Drama  \n",
                            "1000207                     One Little Indian (1973)  Comedy|Drama|Western  \n",
                            "1000208  Five Wives, Three Secretaries and Me (1998)           Documentary  \n",
                            "\n",
                            "[1000209 rows x 10 columns]"
                        ],
                        "text/html": "<div>\n<style scoped>\n    .dataframe tbody tr th:only-of-type {\n        vertical-align: middle;\n    }\n\n    .dataframe tbody tr th {\n        vertical-align: top;\n    }\n\n    .dataframe thead th {\n        text-align: right;\n    }\n</style>\n<table border=\"1\" class=\"dataframe\">\n  <thead>\n    <tr style=\"text-align: right;\">\n      <th></th>\n      <th>user_id</th>\n      <th>movie_id</th>\n      <th>rating</th>\n      <th>timestamp</th>\n      <th>gender</th>\n      <th>age</th>\n      <th>occupation</th>\n      <th>zip</th>\n      <th>title</th>\n      <th>genres</th>\n    </tr>\n  </thead>\n  <tbody>\n    <tr>\n      <th>0</th>\n      <td>1</td>\n      <td>1193</td>\n      <td>5</td>\n      <td>978300760</td>\n      <td>F</td>\n      <td>1</td>\n      <td>10</td>\n      <td>48067</td>\n      <td>One Flew Over the Cuckoo's Nest (1975)</td>\n      <td>Drama</td>\n    </tr>\n    <tr>\n      <th>1</th>\n      <td>2</td>\n      <td>1193</td>\n      <td>5</td>\n      <td>978298413</td>\n      <td>M</td>\n      <td>56</td>\n      <td>16</td>\n      <td>70072</td>\n      <td>One Flew Over the Cuckoo's Nest (1975)</td>\n      <td>Drama</td>\n    </tr>\n    <tr>\n      <th>2</th>\n      <td>12</td>\n      <td>1193</td>\n      <td>4</td>\n      <td>978220179</td>\n      <td>M</td>\n      <td>25</td>\n      <td>12</td>\n      <td>32793</td>\n      <td>One Flew Over the Cuckoo's Nest (1975)</td>\n      <td>Drama</td>\n    </tr>\n    <tr>\n      <th>3</th>\n      <td>15</td>\n      <td>1193</td>\n      <td>4</td>\n      <td>978199279</td>\n      <td>M</td>\n      <td>25</td>\n      <td>7</td>\n      <td>22903</td>\n      <td>One Flew Over the Cuckoo's Nest (1975)</td>\n      <td>Drama</td>\n    </tr>\n    <tr>\n      <th>4</th>\n      <td>17</td>\n      <td>1193</td>\n      <td>5</td>\n      <td>978158471</td>\n      <td>M</td>\n      <td>50</td>\n      <td>1</td>\n      <td>95350</td>\n      <td>One Flew Over the Cuckoo's Nest (1975)</td>\n      <td>Drama</td>\n    </tr>\n    <tr>\n      <th>...</th>\n      <td>...</td>\n      <td>...</td>\n      <td>...</td>\n      <td>...</td>\n      <td>...</td>\n      <td>...</td>\n      <td>...</td>\n      <td>...</td>\n      <td>...</td>\n      <td>...</td>\n    </tr>\n    <tr>\n      <th>1000204</th>\n      <td>5949</td>\n      <td>2198</td>\n      <td>5</td>\n      <td>958846401</td>\n      <td>M</td>\n      <td>18</td>\n      <td>17</td>\n      <td>47901</td>\n      <td>Modulations (1998)</td>\n      <td>Documentary</td>\n    </tr>\n    <tr>\n      <th>1000205</th>\n      <td>5675</td>\n      <td>2703</td>\n      <td>3</td>\n      <td>976029116</td>\n      <td>M</td>\n      <td>35</td>\n      <td>14</td>\n      <td>30030</td>\n      <td>Broken Vessels (1998)</td>\n      <td>Drama</td>\n    </tr>\n    <tr>\n      <th>1000206</th>\n      <td>5780</td>\n      <td>2845</td>\n      <td>1</td>\n      <td>958153068</td>\n      <td>M</td>\n      <td>18</td>\n      <td>17</td>\n      <td>92886</td>\n      <td>White Boys (1999)</td>\n      <td>Drama</td>\n    </tr>\n    <tr>\n      <th>1000207</th>\n      <td>5851</td>\n      <td>3607</td>\n      <td>5</td>\n      <td>957756608</td>\n      <td>F</td>\n      <td>18</td>\n      <td>20</td>\n      <td>55410</td>\n      <td>One Little Indian (1973)</td>\n      <td>Comedy|Drama|Western</td>\n    </tr>\n    <tr>\n      <th>1000208</th>\n      <td>5938</td>\n      <td>2909</td>\n      <td>4</td>\n      <td>957273353</td>\n      <td>M</td>\n      <td>25</td>\n      <td>1</td>\n      <td>35401</td>\n      <td>Five Wives, Three Secretaries and Me (1998)</td>\n      <td>Documentary</td>\n    </tr>\n  </tbody>\n</table>\n<p>1000209 rows × 10 columns</p>\n</div>"
                    },
                    "metadata": {},
                    "execution_count": 7
                }
            ],
            "execution_count": 7
        },
        {
            "cell_type": "markdown",
            "source": [
                "#### Read the data in the first index"
            ],
            "metadata": {
                "azdata_cell_guid": "fcfe5d5e-5dc1-41de-9d24-7fa19c794f1d"
            }
        },
        {
            "cell_type": "code",
            "source": [
                "data.iloc[0]"
            ],
            "metadata": {
                "azdata_cell_guid": "af498ee9-7213-495f-a194-3fc77a5e5ed3"
            },
            "outputs": [
                {
                    "output_type": "execute_result",
                    "data": {
                        "text/plain": [
                            "user_id                                            1\n",
                            "movie_id                                        1193\n",
                            "rating                                             5\n",
                            "timestamp                                  978300760\n",
                            "gender                                             F\n",
                            "age                                                1\n",
                            "occupation                                        10\n",
                            "zip                                            48067\n",
                            "title         One Flew Over the Cuckoo's Nest (1975)\n",
                            "genres                                         Drama\n",
                            "Name: 0, dtype: object"
                        ]
                    },
                    "metadata": {},
                    "execution_count": 8
                }
            ],
            "execution_count": 8
        },
        {
            "cell_type": "markdown",
            "source": [
                "#### create and save a pivot table of the ratings using the title as an index and the gender of the rater as a column"
            ],
            "metadata": {
                "azdata_cell_guid": "1781ea44-a1b9-4d02-b2d6-3082c35aafab"
            }
        },
        {
            "cell_type": "code",
            "source": [
                "mean_ratings = data.pivot_table('rating', index='title', columns='gender', aggfunc='mean')\n",
                "\n",
                "mean_ratings[:5]"
            ],
            "metadata": {
                "azdata_cell_guid": "bc169cdd-ab22-47b8-893b-a387db7d2e64"
            },
            "outputs": [
                {
                    "output_type": "execute_result",
                    "data": {
                        "text/plain": [
                            "gender                                F         M\n",
                            "title                                            \n",
                            "$1,000,000 Duck (1971)         3.375000  2.761905\n",
                            "'Night Mother (1986)           3.388889  3.352941\n",
                            "'Til There Was You (1997)      2.675676  2.733333\n",
                            "'burbs, The (1989)             2.793478  2.962085\n",
                            "...And Justice for All (1979)  3.828571  3.689024"
                        ],
                        "text/html": "<div>\n<style scoped>\n    .dataframe tbody tr th:only-of-type {\n        vertical-align: middle;\n    }\n\n    .dataframe tbody tr th {\n        vertical-align: top;\n    }\n\n    .dataframe thead th {\n        text-align: right;\n    }\n</style>\n<table border=\"1\" class=\"dataframe\">\n  <thead>\n    <tr style=\"text-align: right;\">\n      <th>gender</th>\n      <th>F</th>\n      <th>M</th>\n    </tr>\n    <tr>\n      <th>title</th>\n      <th></th>\n      <th></th>\n    </tr>\n  </thead>\n  <tbody>\n    <tr>\n      <th>$1,000,000 Duck (1971)</th>\n      <td>3.375000</td>\n      <td>2.761905</td>\n    </tr>\n    <tr>\n      <th>'Night Mother (1986)</th>\n      <td>3.388889</td>\n      <td>3.352941</td>\n    </tr>\n    <tr>\n      <th>'Til There Was You (1997)</th>\n      <td>2.675676</td>\n      <td>2.733333</td>\n    </tr>\n    <tr>\n      <th>'burbs, The (1989)</th>\n      <td>2.793478</td>\n      <td>2.962085</td>\n    </tr>\n    <tr>\n      <th>...And Justice for All (1979)</th>\n      <td>3.828571</td>\n      <td>3.689024</td>\n    </tr>\n  </tbody>\n</table>\n</div>"
                    },
                    "metadata": {},
                    "execution_count": 9
                }
            ],
            "execution_count": 9
        },
        {
            "cell_type": "markdown",
            "source": [
                "#### get all the movies and the number of ratings they have "
            ],
            "metadata": {
                "azdata_cell_guid": "060acb9e-6538-42e5-ab33-c4bb35a23218"
            }
        },
        {
            "cell_type": "code",
            "source": [
                "ratings_by_title = data.groupby('title').size()\n",
                "\n",
                "ratings_by_title [:10]"
            ],
            "metadata": {
                "azdata_cell_guid": "f5f498d9-326a-4d42-b023-9b6b54270d89"
            },
            "outputs": [
                {
                    "output_type": "execute_result",
                    "data": {
                        "text/plain": [
                            "title\n",
                            "$1,000,000 Duck (1971)                37\n",
                            "'Night Mother (1986)                  70\n",
                            "'Til There Was You (1997)             52\n",
                            "'burbs, The (1989)                   303\n",
                            "...And Justice for All (1979)        199\n",
                            "1-900 (1994)                           2\n",
                            "10 Things I Hate About You (1999)    700\n",
                            "101 Dalmatians (1961)                565\n",
                            "101 Dalmatians (1996)                364\n",
                            "12 Angry Men (1957)                  616\n",
                            "dtype: int64"
                        ]
                    },
                    "metadata": {},
                    "execution_count": 10
                }
            ],
            "execution_count": 10
        },
        {
            "cell_type": "markdown",
            "source": [
                "#### Filter out the movies that have less than 250 ratings"
            ],
            "metadata": {
                "azdata_cell_guid": "f35d2651-3254-4bfa-9882-d83596b80bc1"
            }
        },
        {
            "cell_type": "code",
            "source": [
                "active_titles = ratings_by_title.index[ratings_by_title >= 250]\n",
                "\n",
                "active_titles"
            ],
            "metadata": {
                "azdata_cell_guid": "180911b0-9e99-4683-8a49-8e4b054b0d61"
            },
            "outputs": [
                {
                    "output_type": "execute_result",
                    "data": {
                        "text/plain": [
                            "Index([''burbs, The (1989)', '10 Things I Hate About You (1999)',\n",
                            "       '101 Dalmatians (1961)', '101 Dalmatians (1996)', '12 Angry Men (1957)',\n",
                            "       '13th Warrior, The (1999)', '2 Days in the Valley (1996)',\n",
                            "       '20,000 Leagues Under the Sea (1954)', '2001: A Space Odyssey (1968)',\n",
                            "       '2010 (1984)',\n",
                            "       ...\n",
                            "       'X-Men (2000)', 'Year of Living Dangerously (1982)',\n",
                            "       'Yellow Submarine (1968)', 'You've Got Mail (1998)',\n",
                            "       'Young Frankenstein (1974)', 'Young Guns (1988)',\n",
                            "       'Young Guns II (1990)', 'Young Sherlock Holmes (1985)',\n",
                            "       'Zero Effect (1998)', 'eXistenZ (1999)'],\n",
                            "      dtype='object', name='title', length=1216)"
                        ]
                    },
                    "metadata": {},
                    "execution_count": 11
                }
            ],
            "execution_count": 11
        },
        {
            "cell_type": "markdown",
            "source": [
                "#### FIlter the `mean_ratings` to only have the mean ratings of the active movies"
            ],
            "metadata": {
                "azdata_cell_guid": "8557bac9-ec36-4f56-9856-79822d9315eb"
            }
        },
        {
            "cell_type": "code",
            "source": [
                "mean_ratings = mean_ratings.loc[active_titles]\n",
                "\n",
                "mean_ratings"
            ],
            "metadata": {
                "azdata_cell_guid": "43c20cf5-757a-47d4-bc0d-4fc57736e339"
            },
            "outputs": [
                {
                    "output_type": "execute_result",
                    "data": {
                        "text/plain": [
                            "gender                                    F         M\n",
                            "title                                                \n",
                            "'burbs, The (1989)                 2.793478  2.962085\n",
                            "10 Things I Hate About You (1999)  3.646552  3.311966\n",
                            "101 Dalmatians (1961)              3.791444  3.500000\n",
                            "101 Dalmatians (1996)              3.240000  2.911215\n",
                            "12 Angry Men (1957)                4.184397  4.328421\n",
                            "...                                     ...       ...\n",
                            "Young Guns (1988)                  3.371795  3.425620\n",
                            "Young Guns II (1990)               2.934783  2.904025\n",
                            "Young Sherlock Holmes (1985)       3.514706  3.363344\n",
                            "Zero Effect (1998)                 3.864407  3.723140\n",
                            "eXistenZ (1999)                    3.098592  3.289086\n",
                            "\n",
                            "[1216 rows x 2 columns]"
                        ],
                        "text/html": "<div>\n<style scoped>\n    .dataframe tbody tr th:only-of-type {\n        vertical-align: middle;\n    }\n\n    .dataframe tbody tr th {\n        vertical-align: top;\n    }\n\n    .dataframe thead th {\n        text-align: right;\n    }\n</style>\n<table border=\"1\" class=\"dataframe\">\n  <thead>\n    <tr style=\"text-align: right;\">\n      <th>gender</th>\n      <th>F</th>\n      <th>M</th>\n    </tr>\n    <tr>\n      <th>title</th>\n      <th></th>\n      <th></th>\n    </tr>\n  </thead>\n  <tbody>\n    <tr>\n      <th>'burbs, The (1989)</th>\n      <td>2.793478</td>\n      <td>2.962085</td>\n    </tr>\n    <tr>\n      <th>10 Things I Hate About You (1999)</th>\n      <td>3.646552</td>\n      <td>3.311966</td>\n    </tr>\n    <tr>\n      <th>101 Dalmatians (1961)</th>\n      <td>3.791444</td>\n      <td>3.500000</td>\n    </tr>\n    <tr>\n      <th>101 Dalmatians (1996)</th>\n      <td>3.240000</td>\n      <td>2.911215</td>\n    </tr>\n    <tr>\n      <th>12 Angry Men (1957)</th>\n      <td>4.184397</td>\n      <td>4.328421</td>\n    </tr>\n    <tr>\n      <th>...</th>\n      <td>...</td>\n      <td>...</td>\n    </tr>\n    <tr>\n      <th>Young Guns (1988)</th>\n      <td>3.371795</td>\n      <td>3.425620</td>\n    </tr>\n    <tr>\n      <th>Young Guns II (1990)</th>\n      <td>2.934783</td>\n      <td>2.904025</td>\n    </tr>\n    <tr>\n      <th>Young Sherlock Holmes (1985)</th>\n      <td>3.514706</td>\n      <td>3.363344</td>\n    </tr>\n    <tr>\n      <th>Zero Effect (1998)</th>\n      <td>3.864407</td>\n      <td>3.723140</td>\n    </tr>\n    <tr>\n      <th>eXistenZ (1999)</th>\n      <td>3.098592</td>\n      <td>3.289086</td>\n    </tr>\n  </tbody>\n</table>\n<p>1216 rows × 2 columns</p>\n</div>"
                    },
                    "metadata": {},
                    "execution_count": 12
                }
            ],
            "execution_count": 12
        },
        {
            "cell_type": "markdown",
            "source": [
                "#### Filter out the top female rates movies fromthe `mean_ratings` variabel"
            ],
            "metadata": {
                "azdata_cell_guid": "8058d6db-899c-4728-8c3d-90df3e2375b2"
            }
        },
        {
            "cell_type": "code",
            "source": [
                "top_female_ratings = mean_ratings.sort_values(by='F', ascending=False)\n",
                "\n",
                "top_female_ratings[:10]"
            ],
            "metadata": {
                "azdata_cell_guid": "16c8e82d-44c9-48a5-a3ef-5715eab28089"
            },
            "outputs": [
                {
                    "output_type": "execute_result",
                    "data": {
                        "text/plain": [
                            "gender                                                     F         M\n",
                            "title                                                                 \n",
                            "Close Shave, A (1995)                               4.644444  4.473795\n",
                            "Wrong Trousers, The (1993)                          4.588235  4.478261\n",
                            "Sunset Blvd. (a.k.a. Sunset Boulevard) (1950)       4.572650  4.464589\n",
                            "Wallace & Gromit: The Best of Aardman Animation...  4.563107  4.385075\n",
                            "Schindler's List (1993)                             4.562602  4.491415\n",
                            "Shawshank Redemption, The (1994)                    4.539075  4.560625\n",
                            "Grand Day Out, A (1992)                             4.537879  4.293255\n",
                            "To Kill a Mockingbird (1962)                        4.536667  4.372611\n",
                            "Creature Comforts (1990)                            4.513889  4.272277\n",
                            "Usual Suspects, The (1995)                          4.513317  4.518248"
                        ],
                        "text/html": "<div>\n<style scoped>\n    .dataframe tbody tr th:only-of-type {\n        vertical-align: middle;\n    }\n\n    .dataframe tbody tr th {\n        vertical-align: top;\n    }\n\n    .dataframe thead th {\n        text-align: right;\n    }\n</style>\n<table border=\"1\" class=\"dataframe\">\n  <thead>\n    <tr style=\"text-align: right;\">\n      <th>gender</th>\n      <th>F</th>\n      <th>M</th>\n    </tr>\n    <tr>\n      <th>title</th>\n      <th></th>\n      <th></th>\n    </tr>\n  </thead>\n  <tbody>\n    <tr>\n      <th>Close Shave, A (1995)</th>\n      <td>4.644444</td>\n      <td>4.473795</td>\n    </tr>\n    <tr>\n      <th>Wrong Trousers, The (1993)</th>\n      <td>4.588235</td>\n      <td>4.478261</td>\n    </tr>\n    <tr>\n      <th>Sunset Blvd. (a.k.a. Sunset Boulevard) (1950)</th>\n      <td>4.572650</td>\n      <td>4.464589</td>\n    </tr>\n    <tr>\n      <th>Wallace &amp; Gromit: The Best of Aardman Animation (1996)</th>\n      <td>4.563107</td>\n      <td>4.385075</td>\n    </tr>\n    <tr>\n      <th>Schindler's List (1993)</th>\n      <td>4.562602</td>\n      <td>4.491415</td>\n    </tr>\n    <tr>\n      <th>Shawshank Redemption, The (1994)</th>\n      <td>4.539075</td>\n      <td>4.560625</td>\n    </tr>\n    <tr>\n      <th>Grand Day Out, A (1992)</th>\n      <td>4.537879</td>\n      <td>4.293255</td>\n    </tr>\n    <tr>\n      <th>To Kill a Mockingbird (1962)</th>\n      <td>4.536667</td>\n      <td>4.372611</td>\n    </tr>\n    <tr>\n      <th>Creature Comforts (1990)</th>\n      <td>4.513889</td>\n      <td>4.272277</td>\n    </tr>\n    <tr>\n      <th>Usual Suspects, The (1995)</th>\n      <td>4.513317</td>\n      <td>4.518248</td>\n    </tr>\n  </tbody>\n</table>\n</div>"
                    },
                    "metadata": {},
                    "execution_count": 13
                }
            ],
            "execution_count": 13
        },
        {
            "cell_type": "markdown",
            "source": [
                "#### Create a new column of diff that is the different between the male ratings and the female ratings"
            ],
            "metadata": {
                "azdata_cell_guid": "fe2d9669-4a37-4d0a-a875-f15d5855e9d6"
            }
        },
        {
            "cell_type": "code",
            "source": [
                "mean_ratings['diff'] = mean_ratings['M'] - mean_ratings['F']"
            ],
            "metadata": {
                "azdata_cell_guid": "9e01746d-eef5-46b8-8110-111dc07e177a"
            },
            "outputs": [],
            "execution_count": 14
        },
        {
            "cell_type": "markdown",
            "source": [
                "#### Reverse the oder of the rows and slice of the top 10 rows"
            ],
            "metadata": {
                "azdata_cell_guid": "089e743b-b1e5-4168-b213-ccc26e889ef4"
            }
        },
        {
            "cell_type": "code",
            "source": [
                "sorted_by_diff = mean_ratings.sort_values(by='diff')\n",
                "\n",
                "sorted_by_diff[::-1][:10]"
            ],
            "metadata": {
                "azdata_cell_guid": "615b2d60-dbd3-4add-b7ed-aa0467ddd025"
            },
            "outputs": [
                {
                    "output_type": "execute_result",
                    "data": {
                        "text/plain": [
                            "gender                                         F         M      diff\n",
                            "title                                                               \n",
                            "Good, The Bad and The Ugly, The (1966)  3.494949  4.221300  0.726351\n",
                            "Kentucky Fried Movie, The (1977)        2.878788  3.555147  0.676359\n",
                            "Dumb & Dumber (1994)                    2.697987  3.336595  0.638608\n",
                            "Longest Day, The (1962)                 3.411765  4.031447  0.619682\n",
                            "Cable Guy, The (1996)                   2.250000  2.863787  0.613787\n",
                            "Evil Dead II (Dead By Dawn) (1987)      3.297297  3.909283  0.611985\n",
                            "Hidden, The (1987)                      3.137931  3.745098  0.607167\n",
                            "Rocky III (1982)                        2.361702  2.943503  0.581801\n",
                            "Caddyshack (1980)                       3.396135  3.969737  0.573602\n",
                            "For a Few Dollars More (1965)           3.409091  3.953795  0.544704"
                        ],
                        "text/html": "<div>\n<style scoped>\n    .dataframe tbody tr th:only-of-type {\n        vertical-align: middle;\n    }\n\n    .dataframe tbody tr th {\n        vertical-align: top;\n    }\n\n    .dataframe thead th {\n        text-align: right;\n    }\n</style>\n<table border=\"1\" class=\"dataframe\">\n  <thead>\n    <tr style=\"text-align: right;\">\n      <th>gender</th>\n      <th>F</th>\n      <th>M</th>\n      <th>diff</th>\n    </tr>\n    <tr>\n      <th>title</th>\n      <th></th>\n      <th></th>\n      <th></th>\n    </tr>\n  </thead>\n  <tbody>\n    <tr>\n      <th>Good, The Bad and The Ugly, The (1966)</th>\n      <td>3.494949</td>\n      <td>4.221300</td>\n      <td>0.726351</td>\n    </tr>\n    <tr>\n      <th>Kentucky Fried Movie, The (1977)</th>\n      <td>2.878788</td>\n      <td>3.555147</td>\n      <td>0.676359</td>\n    </tr>\n    <tr>\n      <th>Dumb &amp; Dumber (1994)</th>\n      <td>2.697987</td>\n      <td>3.336595</td>\n      <td>0.638608</td>\n    </tr>\n    <tr>\n      <th>Longest Day, The (1962)</th>\n      <td>3.411765</td>\n      <td>4.031447</td>\n      <td>0.619682</td>\n    </tr>\n    <tr>\n      <th>Cable Guy, The (1996)</th>\n      <td>2.250000</td>\n      <td>2.863787</td>\n      <td>0.613787</td>\n    </tr>\n    <tr>\n      <th>Evil Dead II (Dead By Dawn) (1987)</th>\n      <td>3.297297</td>\n      <td>3.909283</td>\n      <td>0.611985</td>\n    </tr>\n    <tr>\n      <th>Hidden, The (1987)</th>\n      <td>3.137931</td>\n      <td>3.745098</td>\n      <td>0.607167</td>\n    </tr>\n    <tr>\n      <th>Rocky III (1982)</th>\n      <td>2.361702</td>\n      <td>2.943503</td>\n      <td>0.581801</td>\n    </tr>\n    <tr>\n      <th>Caddyshack (1980)</th>\n      <td>3.396135</td>\n      <td>3.969737</td>\n      <td>0.573602</td>\n    </tr>\n    <tr>\n      <th>For a Few Dollars More (1965)</th>\n      <td>3.409091</td>\n      <td>3.953795</td>\n      <td>0.544704</td>\n    </tr>\n  </tbody>\n</table>\n</div>"
                    },
                    "metadata": {},
                    "execution_count": 15
                }
            ],
            "execution_count": 15
        },
        {
            "cell_type": "markdown",
            "source": [
                "#### create `rating_std_by_title` and have itbe the standard deviation of the title's rankings\n",
                "\n",
                "#### filter the ratings to only contain the ratings of the active titles"
            ],
            "metadata": {
                "azdata_cell_guid": "f2f639f1-1460-45f4-90dc-f3088a993ac2"
            }
        },
        {
            "cell_type": "code",
            "source": [
                "rating_std_by_title = data.groupby('title')['rating'].std()\n",
                "\n",
                "rating_std_by_title = rating_std_by_title.loc[active_titles]"
            ],
            "metadata": {
                "azdata_cell_guid": "507938bd-d8dd-4243-bff7-2f937430543c"
            },
            "outputs": [],
            "execution_count": 16
        },
        {
            "cell_type": "markdown",
            "source": [
                "#### Order series by value in decending order"
            ],
            "metadata": {
                "azdata_cell_guid": "c99ef029-08db-438a-9997-93b6798b3e05"
            }
        },
        {
            "cell_type": "code",
            "source": [
                "rating_std_by_title.sort_values(ascending=False) [:10]"
            ],
            "metadata": {
                "azdata_cell_guid": "22d6575c-1efb-4f7c-9a44-897c77a060bd"
            },
            "outputs": [
                {
                    "output_type": "execute_result",
                    "data": {
                        "text/plain": [
                            "title\n",
                            "Dumb & Dumber (1994)                     1.321333\n",
                            "Blair Witch Project, The (1999)          1.316368\n",
                            "Natural Born Killers (1994)              1.307198\n",
                            "Tank Girl (1995)                         1.277695\n",
                            "Rocky Horror Picture Show, The (1975)    1.260177\n",
                            "Eyes Wide Shut (1999)                    1.259624\n",
                            "Evita (1996)                             1.253631\n",
                            "Billy Madison (1995)                     1.249970\n",
                            "Fear and Loathing in Las Vegas (1998)    1.246408\n",
                            "Bicentennial Man (1999)                  1.245533\n",
                            "Name: rating, dtype: float64"
                        ]
                    },
                    "metadata": {},
                    "execution_count": 17
                }
            ],
            "execution_count": 17
        }
    ]
}