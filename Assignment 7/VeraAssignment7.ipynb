{
 "cells": [
  {
   "cell_type": "markdown",
   "metadata": {},
   "source": [
    "# VeraAssignment07\n",
    "## Data aggregation with a mobile phone dataset.\n",
    "\n",
    "### Description of the data\n",
    "1. date: The date and time of the entry\n",
    "2. duration: The duration (in seconds) for each call, the amount of data (in MB) for each data entry,  and the number of texts sent (usually 1) for each sms entry.\n",
    "3. item: A description of the event occurring – can be one of call, sms, or data.\n",
    "4. month: The billing month that each entry belongs to – of form ‘YYYY-MM’.\n",
    "5. network: The mobile network that was called/texted for each entry.\n",
    "6. network_type: Whether the number being called was a mobile, international (‘world’), voicemail, \n",
    "landline, or other (‘special’) number."
   ]
  },
  {
   "cell_type": "code",
   "execution_count": 26,
   "metadata": {},
   "outputs": [],
   "source": [
    "import pandas as pd\n",
    "import dateutil"
   ]
  },
  {
   "cell_type": "code",
   "execution_count": 27,
   "metadata": {},
   "outputs": [
    {
     "output_type": "execute_result",
     "data": {
      "text/plain": [
       "   index            date  duration  item    month   network network_type\n",
       "0      0  15/10/14 06:58    34.429  data  2014-11      data         data\n",
       "1      1  15/10/14 06:58    13.000  call  2014-11  Vodafone       mobile\n",
       "2      2  15/10/14 14:46    23.000  call  2014-11    Meteor       mobile\n",
       "3      3  15/10/14 14:48     4.000  call  2014-11     Tesco       mobile\n",
       "4      4  15/10/14 17:27     4.000  call  2014-11     Tesco       mobile"
      ],
      "text/html": "<div>\n<style scoped>\n    .dataframe tbody tr th:only-of-type {\n        vertical-align: middle;\n    }\n\n    .dataframe tbody tr th {\n        vertical-align: top;\n    }\n\n    .dataframe thead th {\n        text-align: right;\n    }\n</style>\n<table border=\"1\" class=\"dataframe\">\n  <thead>\n    <tr style=\"text-align: right;\">\n      <th></th>\n      <th>index</th>\n      <th>date</th>\n      <th>duration</th>\n      <th>item</th>\n      <th>month</th>\n      <th>network</th>\n      <th>network_type</th>\n    </tr>\n  </thead>\n  <tbody>\n    <tr>\n      <th>0</th>\n      <td>0</td>\n      <td>15/10/14 06:58</td>\n      <td>34.429</td>\n      <td>data</td>\n      <td>2014-11</td>\n      <td>data</td>\n      <td>data</td>\n    </tr>\n    <tr>\n      <th>1</th>\n      <td>1</td>\n      <td>15/10/14 06:58</td>\n      <td>13.000</td>\n      <td>call</td>\n      <td>2014-11</td>\n      <td>Vodafone</td>\n      <td>mobile</td>\n    </tr>\n    <tr>\n      <th>2</th>\n      <td>2</td>\n      <td>15/10/14 14:46</td>\n      <td>23.000</td>\n      <td>call</td>\n      <td>2014-11</td>\n      <td>Meteor</td>\n      <td>mobile</td>\n    </tr>\n    <tr>\n      <th>3</th>\n      <td>3</td>\n      <td>15/10/14 14:48</td>\n      <td>4.000</td>\n      <td>call</td>\n      <td>2014-11</td>\n      <td>Tesco</td>\n      <td>mobile</td>\n    </tr>\n    <tr>\n      <th>4</th>\n      <td>4</td>\n      <td>15/10/14 17:27</td>\n      <td>4.000</td>\n      <td>call</td>\n      <td>2014-11</td>\n      <td>Tesco</td>\n      <td>mobile</td>\n    </tr>\n  </tbody>\n</table>\n</div>"
     },
     "metadata": {},
     "execution_count": 27
    }
   ],
   "source": [
    "# Load data from csv file\n",
    "data = pd.read_csv('mobile_phones.csv')\n",
    "\n",
    "# String to date conversion\n",
    "data['date'] = data['date'].apply(dateutil.parser.parse, dayfirst=True)"
   ]
  },
  {
   "cell_type": "code",
   "execution_count": 28,
   "metadata": {},
   "outputs": [
    {
     "output_type": "execute_result",
     "data": {
      "text/plain": [
       "   index                date  duration  item    month   network network_type\n",
       "0      0 2014-10-15 06:58:00    34.429  data  2014-11      data         data\n",
       "1      1 2014-10-15 06:58:00    13.000  call  2014-11  Vodafone       mobile\n",
       "2      2 2014-10-15 14:46:00    23.000  call  2014-11    Meteor       mobile\n",
       "3      3 2014-10-15 14:48:00     4.000  call  2014-11     Tesco       mobile\n",
       "4      4 2014-10-15 17:27:00     4.000  call  2014-11     Tesco       mobile"
      ],
      "text/html": "<div>\n<style scoped>\n    .dataframe tbody tr th:only-of-type {\n        vertical-align: middle;\n    }\n\n    .dataframe tbody tr th {\n        vertical-align: top;\n    }\n\n    .dataframe thead th {\n        text-align: right;\n    }\n</style>\n<table border=\"1\" class=\"dataframe\">\n  <thead>\n    <tr style=\"text-align: right;\">\n      <th></th>\n      <th>index</th>\n      <th>date</th>\n      <th>duration</th>\n      <th>item</th>\n      <th>month</th>\n      <th>network</th>\n      <th>network_type</th>\n    </tr>\n  </thead>\n  <tbody>\n    <tr>\n      <th>0</th>\n      <td>0</td>\n      <td>2014-10-15 06:58:00</td>\n      <td>34.429</td>\n      <td>data</td>\n      <td>2014-11</td>\n      <td>data</td>\n      <td>data</td>\n    </tr>\n    <tr>\n      <th>1</th>\n      <td>1</td>\n      <td>2014-10-15 06:58:00</td>\n      <td>13.000</td>\n      <td>call</td>\n      <td>2014-11</td>\n      <td>Vodafone</td>\n      <td>mobile</td>\n    </tr>\n    <tr>\n      <th>2</th>\n      <td>2</td>\n      <td>2014-10-15 14:46:00</td>\n      <td>23.000</td>\n      <td>call</td>\n      <td>2014-11</td>\n      <td>Meteor</td>\n      <td>mobile</td>\n    </tr>\n    <tr>\n      <th>3</th>\n      <td>3</td>\n      <td>2014-10-15 14:48:00</td>\n      <td>4.000</td>\n      <td>call</td>\n      <td>2014-11</td>\n      <td>Tesco</td>\n      <td>mobile</td>\n    </tr>\n    <tr>\n      <th>4</th>\n      <td>4</td>\n      <td>2014-10-15 17:27:00</td>\n      <td>4.000</td>\n      <td>call</td>\n      <td>2014-11</td>\n      <td>Tesco</td>\n      <td>mobile</td>\n    </tr>\n  </tbody>\n</table>\n</div>"
     },
     "metadata": {},
     "execution_count": 28
    }
   ],
   "source": [
    "# Print head of the data\n",
    "data.head()"
   ]
  },
  {
   "cell_type": "code",
   "execution_count": 29,
   "metadata": {},
   "outputs": [
    {
     "output_type": "execute_result",
     "data": {
      "text/plain": [
       "830"
      ]
     },
     "metadata": {},
     "execution_count": 29
    }
   ],
   "source": [
    "# Count how many rows the dataset has\n",
    "data['index'].count()"
   ]
  },
  {
   "cell_type": "code",
   "execution_count": 30,
   "metadata": {},
   "outputs": [
    {
     "output_type": "execute_result",
     "data": {
      "text/plain": [
       "10528.0"
      ]
     },
     "metadata": {},
     "execution_count": 30
    }
   ],
   "source": [
    "# Display the longest call made / duration\n",
    "data['duration'].max()"
   ]
  },
  {
   "cell_type": "code",
   "execution_count": 31,
   "metadata": {},
   "outputs": [
    {
     "output_type": "execute_result",
     "data": {
      "text/plain": [
       "1.0"
      ]
     },
     "metadata": {},
     "execution_count": 31
    }
   ],
   "source": [
    "# Display the shortest call made / duration\n",
    "data[data['item'] == 'call'].duration.min()"
   ]
  },
  {
   "cell_type": "code",
   "execution_count": 32,
   "metadata": {},
   "outputs": [
    {
     "output_type": "execute_result",
     "data": {
      "text/plain": [
       "237.94072164948454"
      ]
     },
     "metadata": {},
     "execution_count": 32
    }
   ],
   "source": [
    "# Display the average call made / duration\n",
    "data[data['item'] == 'call'].duration.mean()"
   ]
  },
  {
   "cell_type": "code",
   "execution_count": 33,
   "metadata": {},
   "outputs": [
    {
     "output_type": "execute_result",
     "data": {
      "text/plain": [
       "92321.0"
      ]
     },
     "metadata": {},
     "execution_count": 33
    }
   ],
   "source": [
    "# How many total seconds of phone calls are recorded in this dataset?\n",
    "data[data['item'] == 'call'].duration.sum()"
   ]
  },
  {
   "cell_type": "code",
   "execution_count": 34,
   "metadata": {},
   "outputs": [
    {
     "output_type": "execute_result",
     "data": {
      "text/plain": [
       "month\n",
       "2014-11    230\n",
       "2014-12    157\n",
       "2015-01    205\n",
       "2015-02    137\n",
       "2015-03    101\n",
       "Name: month, dtype: int64"
      ]
     },
     "metadata": {},
     "execution_count": 34
    }
   ],
   "source": [
    "# Use value counts to find out how many entries are posted in each month\n",
    "months = data.groupby(['month'])\n",
    "\n",
    "months['month'].count()"
   ]
  },
  {
   "cell_type": "code",
   "execution_count": 35,
   "metadata": {},
   "outputs": [
    {
     "output_type": "execute_result",
     "data": {
      "text/plain": [
       "9"
      ]
     },
     "metadata": {},
     "execution_count": 35
    }
   ],
   "source": [
    "# Find the number of non-null unique network entries\n",
    "networks = data.groupby('network')\n",
    "\n",
    "networks['index'].nunique().count()"
   ]
  },
  {
   "cell_type": "code",
   "execution_count": 36,
   "metadata": {},
   "outputs": [
    {
     "output_type": "execute_result",
     "data": {
      "text/plain": [
       "dict_keys(['2014-11', '2014-12', '2015-01', '2015-02', '2015-03'])"
      ]
     },
     "metadata": {},
     "execution_count": 36
    }
   ],
   "source": [
    "# Use groups.keys here to group them into keys.\n",
    "months.groups.keys()"
   ]
  },
  {
   "cell_type": "code",
   "execution_count": 37,
   "metadata": {},
   "outputs": [
    {
     "output_type": "execute_result",
     "data": {
      "text/plain": [
       "230"
      ]
     },
     "metadata": {},
     "execution_count": 37
    }
   ],
   "source": [
    "# Determine the length of the monthy column and specifying groups['2014-11'] by using len.\n",
    "len(months.groups['2014-11'])"
   ]
  },
  {
   "cell_type": "code",
   "execution_count": 38,
   "metadata": {},
   "outputs": [
    {
     "output_type": "execute_result",
     "data": {
      "text/plain": [
       "         index                date  duration  item   network network_type\n",
       "month                                                                    \n",
       "2014-11      0 2014-10-15 06:58:00    34.429  data      data         data\n",
       "2014-12    228 2014-11-13 06:58:00    34.429  data      data         data\n",
       "2015-01    381 2014-12-13 06:58:00    34.429  data      data         data\n",
       "2015-02    577 2015-01-13 06:58:00    34.429  data      data         data\n",
       "2015-03    729 2015-02-12 20:15:00    69.000  call  landline     landline"
      ],
      "text/html": "<div>\n<style scoped>\n    .dataframe tbody tr th:only-of-type {\n        vertical-align: middle;\n    }\n\n    .dataframe tbody tr th {\n        vertical-align: top;\n    }\n\n    .dataframe thead th {\n        text-align: right;\n    }\n</style>\n<table border=\"1\" class=\"dataframe\">\n  <thead>\n    <tr style=\"text-align: right;\">\n      <th></th>\n      <th>index</th>\n      <th>date</th>\n      <th>duration</th>\n      <th>item</th>\n      <th>network</th>\n      <th>network_type</th>\n    </tr>\n    <tr>\n      <th>month</th>\n      <th></th>\n      <th></th>\n      <th></th>\n      <th></th>\n      <th></th>\n      <th></th>\n    </tr>\n  </thead>\n  <tbody>\n    <tr>\n      <th>2014-11</th>\n      <td>0</td>\n      <td>2014-10-15 06:58:00</td>\n      <td>34.429</td>\n      <td>data</td>\n      <td>data</td>\n      <td>data</td>\n    </tr>\n    <tr>\n      <th>2014-12</th>\n      <td>228</td>\n      <td>2014-11-13 06:58:00</td>\n      <td>34.429</td>\n      <td>data</td>\n      <td>data</td>\n      <td>data</td>\n    </tr>\n    <tr>\n      <th>2015-01</th>\n      <td>381</td>\n      <td>2014-12-13 06:58:00</td>\n      <td>34.429</td>\n      <td>data</td>\n      <td>data</td>\n      <td>data</td>\n    </tr>\n    <tr>\n      <th>2015-02</th>\n      <td>577</td>\n      <td>2015-01-13 06:58:00</td>\n      <td>34.429</td>\n      <td>data</td>\n      <td>data</td>\n      <td>data</td>\n    </tr>\n    <tr>\n      <th>2015-03</th>\n      <td>729</td>\n      <td>2015-02-12 20:15:00</td>\n      <td>69.000</td>\n      <td>call</td>\n      <td>landline</td>\n      <td>landline</td>\n    </tr>\n  </tbody>\n</table>\n</div>"
     },
     "metadata": {},
     "execution_count": 38
    }
   ],
   "source": [
    "# Find the first entry for each month.\n",
    "months.first()"
   ]
  },
  {
   "cell_type": "code",
   "execution_count": 39,
   "metadata": {},
   "outputs": [
    {
     "output_type": "execute_result",
     "data": {
      "text/plain": [
       "month\n",
       "2014-11    26639.441\n",
       "2014-12    14641.870\n",
       "2015-01    18223.299\n",
       "2015-02    15522.299\n",
       "2015-03    22750.441\n",
       "Name: duration, dtype: float64"
      ]
     },
     "metadata": {},
     "execution_count": 39
    }
   ],
   "source": [
    "# Find the sum of durations per month.\n",
    "months['duration'].sum()"
   ]
  },
  {
   "cell_type": "code",
   "execution_count": 40,
   "metadata": {},
   "outputs": [
    {
     "output_type": "execute_result",
     "data": {
      "text/plain": [
       "month\n",
       "2014-11    230\n",
       "2014-12    157\n",
       "2015-01    205\n",
       "2015-02    137\n",
       "2015-03    101\n",
       "Name: index, dtype: int64"
      ]
     },
     "metadata": {},
     "execution_count": 40
    }
   ],
   "source": [
    "# Find the number of dates/entries each month. *hint use count\n",
    "months['index'].count()"
   ]
  },
  {
   "cell_type": "code",
   "execution_count": 41,
   "metadata": {},
   "outputs": [
    {
     "output_type": "execute_result",
     "data": {
      "text/plain": [
       "network\n",
       "Meteor        7200.0\n",
       "Tesco        13828.0\n",
       "Three        36464.0\n",
       "Vodafone     14621.0\n",
       "landline     18433.0\n",
       "voicemail     1775.0\n",
       "Name: duration, dtype: float64"
      ]
     },
     "metadata": {},
     "execution_count": 41
    }
   ],
   "source": [
    "# What is the sum of durations, for calls only, to each network\n",
    "data[data['item'] == 'call'].groupby(['network']).duration.sum()#place code here to find the durations to each network"
   ]
  },
  {
   "cell_type": "code",
   "execution_count": 42,
   "metadata": {},
   "outputs": [
    {
     "output_type": "execute_result",
     "data": {
      "text/plain": [
       "month    item\n",
       "2014-11  call    107\n",
       "         data     29\n",
       "         sms      94\n",
       "2014-12  call     79\n",
       "         data     30\n",
       "         sms      48\n",
       "2015-01  call     88\n",
       "         data     31\n",
       "         sms      86\n",
       "2015-02  call     67\n",
       "         data     31\n",
       "         sms      39\n",
       "2015-03  call     47\n",
       "         data     29\n",
       "         sms      25\n",
       "Name: date, dtype: int64"
      ]
     },
     "metadata": {},
     "execution_count": 42
    }
   ],
   "source": [
    "# Determine how many calls, sms, and data entries are in each month?\n",
    "data.groupby(['month', 'item']).date.count()"
   ]
  },
  {
   "cell_type": "code",
   "execution_count": 43,
   "metadata": {},
   "outputs": [
    {
     "output_type": "execute_result",
     "data": {
      "text/plain": [
       "month    network_type\n",
       "2014-11  data             29\n",
       "         landline          5\n",
       "         mobile          189\n",
       "         special           1\n",
       "         voicemail         6\n",
       "2014-12  data             30\n",
       "         landline          7\n",
       "         mobile          108\n",
       "         voicemail         8\n",
       "         world             4\n",
       "2015-01  data             31\n",
       "         landline         11\n",
       "         mobile          160\n",
       "         voicemail         3\n",
       "2015-02  data             31\n",
       "         landline          8\n",
       "         mobile           90\n",
       "         special           2\n",
       "         voicemail         6\n",
       "2015-03  data             29\n",
       "         landline         11\n",
       "         mobile           54\n",
       "         voicemail         4\n",
       "         world             3\n",
       "Name: date, dtype: int64"
      ]
     },
     "metadata": {},
     "execution_count": 43
    }
   ],
   "source": [
    "# How many calls, texts, and data are sent per month, split by network_type?\n",
    "data.groupby(['month', 'network_type']).date.count()\n"
   ]
  },
  {
   "cell_type": "code",
   "execution_count": 44,
   "metadata": {},
   "outputs": [
    {
     "output_type": "execute_result",
     "data": {
      "text/plain": [
       "          duration\n",
       "month             \n",
       "2014-11  26639.441\n",
       "2014-12  14641.870\n",
       "2015-01  18223.299\n",
       "2015-02  15522.299\n",
       "2015-03  22750.441"
      ],
      "text/html": "<div>\n<style scoped>\n    .dataframe tbody tr th:only-of-type {\n        vertical-align: middle;\n    }\n\n    .dataframe tbody tr th {\n        vertical-align: top;\n    }\n\n    .dataframe thead th {\n        text-align: right;\n    }\n</style>\n<table border=\"1\" class=\"dataframe\">\n  <thead>\n    <tr style=\"text-align: right;\">\n      <th></th>\n      <th>duration</th>\n    </tr>\n    <tr>\n      <th>month</th>\n      <th></th>\n    </tr>\n  </thead>\n  <tbody>\n    <tr>\n      <th>2014-11</th>\n      <td>26639.441</td>\n    </tr>\n    <tr>\n      <th>2014-12</th>\n      <td>14641.870</td>\n    </tr>\n    <tr>\n      <th>2015-01</th>\n      <td>18223.299</td>\n    </tr>\n    <tr>\n      <th>2015-02</th>\n      <td>15522.299</td>\n    </tr>\n    <tr>\n      <th>2015-03</th>\n      <td>22750.441</td>\n    </tr>\n  </tbody>\n</table>\n</div>"
     },
     "metadata": {},
     "execution_count": 44
    }
   ],
   "source": [
    "# Sum the duration by month\n",
    "months.agg({'duration' : 'sum'})"
   ]
  },
  {
   "cell_type": "code",
   "execution_count": 45,
   "metadata": {},
   "outputs": [
    {
     "output_type": "execute_result",
     "data": {
      "text/plain": [
       "     month   duration\n",
       "0  2014-11  26639.441\n",
       "1  2014-12  14641.870\n",
       "2  2015-01  18223.299\n",
       "3  2015-02  15522.299\n",
       "4  2015-03  22750.441"
      ],
      "text/html": "<div>\n<style scoped>\n    .dataframe tbody tr th:only-of-type {\n        vertical-align: middle;\n    }\n\n    .dataframe tbody tr th {\n        vertical-align: top;\n    }\n\n    .dataframe thead th {\n        text-align: right;\n    }\n</style>\n<table border=\"1\" class=\"dataframe\">\n  <thead>\n    <tr style=\"text-align: right;\">\n      <th></th>\n      <th>month</th>\n      <th>duration</th>\n    </tr>\n  </thead>\n  <tbody>\n    <tr>\n      <th>0</th>\n      <td>2014-11</td>\n      <td>26639.441</td>\n    </tr>\n    <tr>\n      <th>1</th>\n      <td>2014-12</td>\n      <td>14641.870</td>\n    </tr>\n    <tr>\n      <th>2</th>\n      <td>2015-01</td>\n      <td>18223.299</td>\n    </tr>\n    <tr>\n      <th>3</th>\n      <td>2015-02</td>\n      <td>15522.299</td>\n    </tr>\n    <tr>\n      <th>4</th>\n      <td>2015-03</td>\n      <td>22750.441</td>\n    </tr>\n  </tbody>\n</table>\n</div>"
     },
     "metadata": {},
     "execution_count": 45
    }
   ],
   "source": [
    "# Groupby month and make sure that each month is assigned its own unique index.\n",
    "# Use a dictionary to sum duration.\n",
    "data.groupby(['month'], as_index=False).duration.sum()"
   ]
  },
  {
   "cell_type": "code",
   "execution_count": 46,
   "metadata": {},
   "outputs": [
    {
     "output_type": "execute_result",
     "data": {
      "text/plain": [
       "               duration  network                date\n",
       "month   item                                        \n",
       "2014-11 call  25547.000      107 2014-10-15 06:58:00\n",
       "        data    998.441       29 2014-10-15 06:58:00\n",
       "        sms      94.000       94 2014-10-16 22:18:00\n",
       "2014-12 call  13561.000       79 2014-11-14 17:24:00\n",
       "        data   1032.870       30 2014-11-13 06:58:00\n",
       "        sms      48.000       48 2014-11-14 17:28:00\n",
       "2015-01 call  17070.000       88 2014-12-15 20:03:00\n",
       "        data   1067.299       31 2014-12-13 06:58:00\n",
       "        sms      86.000       86 2014-12-15 19:56:00\n",
       "2015-02 call  14416.000       67 2015-01-15 10:36:00\n",
       "        data   1067.299       31 2015-01-13 06:58:00\n",
       "        sms      39.000       39 2015-01-15 12:23:00\n",
       "2015-03 call  21727.000       47 2015-02-12 20:15:00\n",
       "        data    998.441       29 2015-02-13 06:58:00\n",
       "        sms      25.000       25 2015-02-19 18:46:00"
      ],
      "text/html": "<div>\n<style scoped>\n    .dataframe tbody tr th:only-of-type {\n        vertical-align: middle;\n    }\n\n    .dataframe tbody tr th {\n        vertical-align: top;\n    }\n\n    .dataframe thead th {\n        text-align: right;\n    }\n</style>\n<table border=\"1\" class=\"dataframe\">\n  <thead>\n    <tr style=\"text-align: right;\">\n      <th></th>\n      <th></th>\n      <th>duration</th>\n      <th>network</th>\n      <th>date</th>\n    </tr>\n    <tr>\n      <th>month</th>\n      <th>item</th>\n      <th></th>\n      <th></th>\n      <th></th>\n    </tr>\n  </thead>\n  <tbody>\n    <tr>\n      <th rowspan=\"3\" valign=\"top\">2014-11</th>\n      <th>call</th>\n      <td>25547.000</td>\n      <td>107</td>\n      <td>2014-10-15 06:58:00</td>\n    </tr>\n    <tr>\n      <th>data</th>\n      <td>998.441</td>\n      <td>29</td>\n      <td>2014-10-15 06:58:00</td>\n    </tr>\n    <tr>\n      <th>sms</th>\n      <td>94.000</td>\n      <td>94</td>\n      <td>2014-10-16 22:18:00</td>\n    </tr>\n    <tr>\n      <th rowspan=\"3\" valign=\"top\">2014-12</th>\n      <th>call</th>\n      <td>13561.000</td>\n      <td>79</td>\n      <td>2014-11-14 17:24:00</td>\n    </tr>\n    <tr>\n      <th>data</th>\n      <td>1032.870</td>\n      <td>30</td>\n      <td>2014-11-13 06:58:00</td>\n    </tr>\n    <tr>\n      <th>sms</th>\n      <td>48.000</td>\n      <td>48</td>\n      <td>2014-11-14 17:28:00</td>\n    </tr>\n    <tr>\n      <th rowspan=\"3\" valign=\"top\">2015-01</th>\n      <th>call</th>\n      <td>17070.000</td>\n      <td>88</td>\n      <td>2014-12-15 20:03:00</td>\n    </tr>\n    <tr>\n      <th>data</th>\n      <td>1067.299</td>\n      <td>31</td>\n      <td>2014-12-13 06:58:00</td>\n    </tr>\n    <tr>\n      <th>sms</th>\n      <td>86.000</td>\n      <td>86</td>\n      <td>2014-12-15 19:56:00</td>\n    </tr>\n    <tr>\n      <th rowspan=\"3\" valign=\"top\">2015-02</th>\n      <th>call</th>\n      <td>14416.000</td>\n      <td>67</td>\n      <td>2015-01-15 10:36:00</td>\n    </tr>\n    <tr>\n      <th>data</th>\n      <td>1067.299</td>\n      <td>31</td>\n      <td>2015-01-13 06:58:00</td>\n    </tr>\n    <tr>\n      <th>sms</th>\n      <td>39.000</td>\n      <td>39</td>\n      <td>2015-01-15 12:23:00</td>\n    </tr>\n    <tr>\n      <th rowspan=\"3\" valign=\"top\">2015-03</th>\n      <th>call</th>\n      <td>21727.000</td>\n      <td>47</td>\n      <td>2015-02-12 20:15:00</td>\n    </tr>\n    <tr>\n      <th>data</th>\n      <td>998.441</td>\n      <td>29</td>\n      <td>2015-02-13 06:58:00</td>\n    </tr>\n    <tr>\n      <th>sms</th>\n      <td>25.000</td>\n      <td>25</td>\n      <td>2015-02-19 18:46:00</td>\n    </tr>\n  </tbody>\n</table>\n</div>"
     },
     "metadata": {},
     "execution_count": 46
    }
   ],
   "source": [
    "# Group the data frame by month and item and extract a number of stats from each group\n",
    "data.groupby(\n",
    "   ['month', 'item']\n",
    ").agg(\n",
    "    {\n",
    "         # Sum duration per group\n",
    "         'duration' : 'sum',\n",
    "         # Get the count of networks\n",
    "         'network' : 'count',\n",
    "         # Get the first date per group\n",
    "         'date' : 'first'\n",
    "    }\n",
    ")"
   ]
  },
  {
   "cell_type": "code",
   "execution_count": 47,
   "metadata": {},
   "outputs": [
    {
     "output_type": "execute_result",
     "data": {
      "text/plain": [
       "             duration                network\n",
       "                  min    first count   count\n",
       "month   item                                \n",
       "2014-11 call    1.000   13.000   107     107\n",
       "        data   34.429   34.429    29      29\n",
       "        sms     1.000    1.000    94      94\n",
       "2014-12 call    2.000  124.000    79      79\n",
       "        data   34.429   34.429    30      30\n",
       "        sms     1.000    1.000    48      48\n",
       "2015-01 call    2.000    4.000    88      88\n",
       "        data   34.429   34.429    31      31\n",
       "        sms     1.000    1.000    86      86\n",
       "2015-02 call    1.000   28.000    67      67\n",
       "        data   34.429   34.429    31      31\n",
       "        sms     1.000    1.000    39      39\n",
       "2015-03 call    2.000   69.000    47      47\n",
       "        data   34.429   34.429    29      29\n",
       "        sms     1.000    1.000    25      25"
      ],
      "text/html": "<div>\n<style scoped>\n    .dataframe tbody tr th:only-of-type {\n        vertical-align: middle;\n    }\n\n    .dataframe tbody tr th {\n        vertical-align: top;\n    }\n\n    .dataframe thead tr th {\n        text-align: left;\n    }\n\n    .dataframe thead tr:last-of-type th {\n        text-align: right;\n    }\n</style>\n<table border=\"1\" class=\"dataframe\">\n  <thead>\n    <tr>\n      <th></th>\n      <th></th>\n      <th colspan=\"3\" halign=\"left\">duration</th>\n      <th>network</th>\n    </tr>\n    <tr>\n      <th></th>\n      <th></th>\n      <th>min</th>\n      <th>first</th>\n      <th>count</th>\n      <th>count</th>\n    </tr>\n    <tr>\n      <th>month</th>\n      <th>item</th>\n      <th></th>\n      <th></th>\n      <th></th>\n      <th></th>\n    </tr>\n  </thead>\n  <tbody>\n    <tr>\n      <th rowspan=\"3\" valign=\"top\">2014-11</th>\n      <th>call</th>\n      <td>1.000</td>\n      <td>13.000</td>\n      <td>107</td>\n      <td>107</td>\n    </tr>\n    <tr>\n      <th>data</th>\n      <td>34.429</td>\n      <td>34.429</td>\n      <td>29</td>\n      <td>29</td>\n    </tr>\n    <tr>\n      <th>sms</th>\n      <td>1.000</td>\n      <td>1.000</td>\n      <td>94</td>\n      <td>94</td>\n    </tr>\n    <tr>\n      <th rowspan=\"3\" valign=\"top\">2014-12</th>\n      <th>call</th>\n      <td>2.000</td>\n      <td>124.000</td>\n      <td>79</td>\n      <td>79</td>\n    </tr>\n    <tr>\n      <th>data</th>\n      <td>34.429</td>\n      <td>34.429</td>\n      <td>30</td>\n      <td>30</td>\n    </tr>\n    <tr>\n      <th>sms</th>\n      <td>1.000</td>\n      <td>1.000</td>\n      <td>48</td>\n      <td>48</td>\n    </tr>\n    <tr>\n      <th rowspan=\"3\" valign=\"top\">2015-01</th>\n      <th>call</th>\n      <td>2.000</td>\n      <td>4.000</td>\n      <td>88</td>\n      <td>88</td>\n    </tr>\n    <tr>\n      <th>data</th>\n      <td>34.429</td>\n      <td>34.429</td>\n      <td>31</td>\n      <td>31</td>\n    </tr>\n    <tr>\n      <th>sms</th>\n      <td>1.000</td>\n      <td>1.000</td>\n      <td>86</td>\n      <td>86</td>\n    </tr>\n    <tr>\n      <th rowspan=\"3\" valign=\"top\">2015-02</th>\n      <th>call</th>\n      <td>1.000</td>\n      <td>28.000</td>\n      <td>67</td>\n      <td>67</td>\n    </tr>\n    <tr>\n      <th>data</th>\n      <td>34.429</td>\n      <td>34.429</td>\n      <td>31</td>\n      <td>31</td>\n    </tr>\n    <tr>\n      <th>sms</th>\n      <td>1.000</td>\n      <td>1.000</td>\n      <td>39</td>\n      <td>39</td>\n    </tr>\n    <tr>\n      <th rowspan=\"3\" valign=\"top\">2015-03</th>\n      <th>call</th>\n      <td>2.000</td>\n      <td>69.000</td>\n      <td>47</td>\n      <td>47</td>\n    </tr>\n    <tr>\n      <th>data</th>\n      <td>34.429</td>\n      <td>34.429</td>\n      <td>29</td>\n      <td>29</td>\n    </tr>\n    <tr>\n      <th>sms</th>\n      <td>1.000</td>\n      <td>1.000</td>\n      <td>25</td>\n      <td>25</td>\n    </tr>\n  </tbody>\n</table>\n</div>"
     },
     "metadata": {},
     "execution_count": 47
    }
   ],
   "source": [
    "# Group the data frame by month and item and extract a number of stats from each group\n",
    "data.groupby(\n",
    "    ['month', 'item']\n",
    ").agg(\n",
    "    {\n",
    "        # Find the min, max, and sum of the duration column\n",
    "        'duration' : ['min', 'max', 'sum'],\n",
    "        # find the number of network type entries\n",
    "        'network' : ['count'],\n",
    "        # minimum, first, and number of unique dates\n",
    "        'duration' : ['min', 'first', 'count'],\n",
    "        \n",
    "    }\n",
    ")"
   ]
  },
  {
   "cell_type": "code",
   "execution_count": 48,
   "metadata": {},
   "outputs": [
    {
     "output_type": "execute_result",
     "data": {
      "text/plain": [
       "     index                date   duration  item    month   network  \\\n",
       "815    815 2015-03-04 10:30:00      1.000   sms  2015-03     Three   \n",
       "816    816 2015-03-04 12:29:00  10528.000  call  2015-03  landline   \n",
       "817    817 2015-03-05 06:58:00     34.429  data  2015-03      data   \n",
       "818    818 2015-03-06 06:58:00     34.429  data  2015-03      data   \n",
       "819    819 2015-03-07 06:58:00     34.429  data  2015-03      data   \n",
       "820    820 2015-03-08 06:58:00     34.429  data  2015-03      data   \n",
       "821    821 2015-03-09 06:58:00     34.429  data  2015-03      data   \n",
       "822    822 2015-03-10 06:58:00     34.429  data  2015-03      data   \n",
       "823    823 2015-03-11 06:58:00     34.429  data  2015-03      data   \n",
       "824    824 2015-03-12 06:58:00     34.429  data  2015-03      data   \n",
       "825    825 2015-03-13 00:38:00      1.000   sms  2015-03     world   \n",
       "826    826 2015-03-13 00:39:00      1.000   sms  2015-03  Vodafone   \n",
       "827    827 2015-03-13 06:58:00     34.429  data  2015-03      data   \n",
       "828    828 2015-03-14 00:13:00      1.000   sms  2015-03     world   \n",
       "829    829 2015-03-14 00:16:00      1.000   sms  2015-03     world   \n",
       "\n",
       "    network_type  \n",
       "815       mobile  \n",
       "816     landline  \n",
       "817         data  \n",
       "818         data  \n",
       "819         data  \n",
       "820         data  \n",
       "821         data  \n",
       "822         data  \n",
       "823         data  \n",
       "824         data  \n",
       "825        world  \n",
       "826       mobile  \n",
       "827         data  \n",
       "828        world  \n",
       "829        world  "
      ],
      "text/html": "<div>\n<style scoped>\n    .dataframe tbody tr th:only-of-type {\n        vertical-align: middle;\n    }\n\n    .dataframe tbody tr th {\n        vertical-align: top;\n    }\n\n    .dataframe thead th {\n        text-align: right;\n    }\n</style>\n<table border=\"1\" class=\"dataframe\">\n  <thead>\n    <tr style=\"text-align: right;\">\n      <th></th>\n      <th>index</th>\n      <th>date</th>\n      <th>duration</th>\n      <th>item</th>\n      <th>month</th>\n      <th>network</th>\n      <th>network_type</th>\n    </tr>\n  </thead>\n  <tbody>\n    <tr>\n      <th>815</th>\n      <td>815</td>\n      <td>2015-03-04 10:30:00</td>\n      <td>1.000</td>\n      <td>sms</td>\n      <td>2015-03</td>\n      <td>Three</td>\n      <td>mobile</td>\n    </tr>\n    <tr>\n      <th>816</th>\n      <td>816</td>\n      <td>2015-03-04 12:29:00</td>\n      <td>10528.000</td>\n      <td>call</td>\n      <td>2015-03</td>\n      <td>landline</td>\n      <td>landline</td>\n    </tr>\n    <tr>\n      <th>817</th>\n      <td>817</td>\n      <td>2015-03-05 06:58:00</td>\n      <td>34.429</td>\n      <td>data</td>\n      <td>2015-03</td>\n      <td>data</td>\n      <td>data</td>\n    </tr>\n    <tr>\n      <th>818</th>\n      <td>818</td>\n      <td>2015-03-06 06:58:00</td>\n      <td>34.429</td>\n      <td>data</td>\n      <td>2015-03</td>\n      <td>data</td>\n      <td>data</td>\n    </tr>\n    <tr>\n      <th>819</th>\n      <td>819</td>\n      <td>2015-03-07 06:58:00</td>\n      <td>34.429</td>\n      <td>data</td>\n      <td>2015-03</td>\n      <td>data</td>\n      <td>data</td>\n    </tr>\n    <tr>\n      <th>820</th>\n      <td>820</td>\n      <td>2015-03-08 06:58:00</td>\n      <td>34.429</td>\n      <td>data</td>\n      <td>2015-03</td>\n      <td>data</td>\n      <td>data</td>\n    </tr>\n    <tr>\n      <th>821</th>\n      <td>821</td>\n      <td>2015-03-09 06:58:00</td>\n      <td>34.429</td>\n      <td>data</td>\n      <td>2015-03</td>\n      <td>data</td>\n      <td>data</td>\n    </tr>\n    <tr>\n      <th>822</th>\n      <td>822</td>\n      <td>2015-03-10 06:58:00</td>\n      <td>34.429</td>\n      <td>data</td>\n      <td>2015-03</td>\n      <td>data</td>\n      <td>data</td>\n    </tr>\n    <tr>\n      <th>823</th>\n      <td>823</td>\n      <td>2015-03-11 06:58:00</td>\n      <td>34.429</td>\n      <td>data</td>\n      <td>2015-03</td>\n      <td>data</td>\n      <td>data</td>\n    </tr>\n    <tr>\n      <th>824</th>\n      <td>824</td>\n      <td>2015-03-12 06:58:00</td>\n      <td>34.429</td>\n      <td>data</td>\n      <td>2015-03</td>\n      <td>data</td>\n      <td>data</td>\n    </tr>\n    <tr>\n      <th>825</th>\n      <td>825</td>\n      <td>2015-03-13 00:38:00</td>\n      <td>1.000</td>\n      <td>sms</td>\n      <td>2015-03</td>\n      <td>world</td>\n      <td>world</td>\n    </tr>\n    <tr>\n      <th>826</th>\n      <td>826</td>\n      <td>2015-03-13 00:39:00</td>\n      <td>1.000</td>\n      <td>sms</td>\n      <td>2015-03</td>\n      <td>Vodafone</td>\n      <td>mobile</td>\n    </tr>\n    <tr>\n      <th>827</th>\n      <td>827</td>\n      <td>2015-03-13 06:58:00</td>\n      <td>34.429</td>\n      <td>data</td>\n      <td>2015-03</td>\n      <td>data</td>\n      <td>data</td>\n    </tr>\n    <tr>\n      <th>828</th>\n      <td>828</td>\n      <td>2015-03-14 00:13:00</td>\n      <td>1.000</td>\n      <td>sms</td>\n      <td>2015-03</td>\n      <td>world</td>\n      <td>world</td>\n    </tr>\n    <tr>\n      <th>829</th>\n      <td>829</td>\n      <td>2015-03-14 00:16:00</td>\n      <td>1.000</td>\n      <td>sms</td>\n      <td>2015-03</td>\n      <td>world</td>\n      <td>world</td>\n    </tr>\n  </tbody>\n</table>\n</div>"
     },
     "metadata": {},
     "execution_count": 48
    }
   ],
   "source": [
    "#create your own user defined function here to use on the dataset.\n",
    "#if you have been following along in the videos you should already have one prepared.\n",
    "\n",
    "def most_recent(data, n=15, column='date'):\n",
    "    return data.sort_values(by=column)[-n:]\n",
    "most_recent(data)"
   ]
  },
  {
   "cell_type": "code",
   "execution_count": 49,
   "metadata": {},
   "outputs": [
    {
     "output_type": "error",
     "ename": "ModuleNotFoundError",
     "evalue": "No module named 'matplotlib'",
     "traceback": [
      "\u001b[1;31m---------------------------------------------------------------------------\u001b[0m",
      "\u001b[1;31mModuleNotFoundError\u001b[0m                       Traceback (most recent call last)",
      "\u001b[1;32m<ipython-input-49-e46d6c4af36f>\u001b[0m in \u001b[0;36m<module>\u001b[1;34m\u001b[0m\n\u001b[0;32m      1\u001b[0m \u001b[1;31m#perform a visualization of the grouped data. You can choose any grouping/vis you wish. Make sure\u001b[0m\u001b[1;33m\u001b[0m\u001b[1;33m\u001b[0m\u001b[1;33m\u001b[0m\u001b[0m\n\u001b[0;32m      2\u001b[0m \u001b[1;31m#to visualize the grouped data in a useful way.\u001b[0m\u001b[1;33m\u001b[0m\u001b[1;33m\u001b[0m\u001b[1;33m\u001b[0m\u001b[0m\n\u001b[1;32m----> 3\u001b[1;33m \u001b[1;32mimport\u001b[0m \u001b[0mmatplotlib\u001b[0m\u001b[1;33m.\u001b[0m\u001b[0mpyplot\u001b[0m \u001b[1;32mas\u001b[0m \u001b[0mplt\u001b[0m\u001b[1;33m\u001b[0m\u001b[1;33m\u001b[0m\u001b[0m\n\u001b[0m\u001b[0;32m      4\u001b[0m \u001b[1;33m\u001b[0m\u001b[0m\n\u001b[0;32m      5\u001b[0m \u001b[1;33m\u001b[0m\u001b[0m\n",
      "\u001b[1;31mModuleNotFoundError\u001b[0m: No module named 'matplotlib'"
     ]
    }
   ],
   "source": [
    "#perform a visualization of the grouped data. You can choose any grouping/vis you wish. Make sure\n",
    "#to visualize the grouped data in a useful way.\n",
    "import matplotlib.pyplot as plt\n",
    "\n",
    "\n",
    "cols = data.month.unique()\n",
    "sales = months['duration'].sum()\n",
    "\n",
    "plt.title('Monthly Total Duration')\n",
    "\n",
    "plt.bar(cols, sales, label = 'Total use per month')\n",
    "\n",
    "plt.legend(loc='lower right', bbox_to_anchor=(1.44, .4))\n",
    "\n",
    "plt.show()\n"
   ]
  },
  {
   "cell_type": "code",
   "execution_count": 33,
   "metadata": {},
   "outputs": [
    {
     "output_type": "execute_result",
     "data": {
      "text/plain": [
       "2328.0"
      ]
     },
     "metadata": {},
     "execution_count": 33
    }
   ],
   "source": [
    "#report one interesting finding about mobile phone networks from this analysis that\n",
    "#you noted during the analysis.\n",
    "\n",
    "#this is the longest call made on a phone\n",
    "data[data['network_type'] == 'mobile'].duration.max()"
   ]
  }
 ],
 "metadata": {
  "kernelspec": {
   "display_name": "Python 3",
   "language": "python",
   "name": "python3"
  },
  "language_info": {
   "codemirror_mode": {
    "name": "ipython",
    "version": 3
   },
   "file_extension": ".py",
   "mimetype": "text/x-python",
   "name": "python",
   "nbconvert_exporter": "python",
   "pygments_lexer": "ipython3",
   "version": "3.8.5-final"
  }
 },
 "nbformat": 4,
 "nbformat_minor": 2
}